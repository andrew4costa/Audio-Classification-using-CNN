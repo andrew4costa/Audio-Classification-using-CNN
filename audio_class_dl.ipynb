{
 "cells": [
  {
   "cell_type": "markdown",
   "metadata": {},
   "source": [
    "# Audio Classification of Urban Sound using CNN"
   ]
  },
  {
   "cell_type": "markdown",
   "metadata": {},
   "source": [
    "This notebook will explore and aim to classify the various sounds that can be found in an urban setting. Within this dataset, there are 10 classes of sound. The data is split into 10 folds that will be used to train and test the model.\n",
    "\n",
    "**The outline of this project is as follows**:\n",
    "1. *Import dataset*\n",
    "\n",
    "\n",
    "2. *Explore the dataset*\n",
    "    - exploration will entail looking at the specific audio features using a 'librosa'\n",
    "    - visualise the spectograms\n",
    "    \n",
    "    \n",
    "3. *Feature Extraction and Preparation*\n",
    "    - extract mfccs, which are the features of the audio files\n",
    "    - normalise the data\n",
    "    \n",
    "    \n",
    "4. *Build Baseline Model*\n",
    "    - evaluate results\n",
    "    \n",
    "    \n",
    "5. *Build another Model and compare results with baseline*\n",
    "    - when selecting a model, choose direction, not the depth of a single path\n",
    "    - try and beat baseline model\n",
    "    - evaluate new results and compare with baseline\n",
    "    \n",
    "    \n",
    "6. *Hyperparameter Tuning*\n",
    "\n",
    "\n",
    "\n",
    "(reference: https://twitter.com/svpino/status/1527620172625813504)"
   ]
  },
  {
   "cell_type": "markdown",
   "metadata": {},
   "source": [
    "### 1. Import Libraries and Dataset"
   ]
  },
  {
   "cell_type": "code",
   "execution_count": 826,
   "metadata": {},
   "outputs": [
    {
     "name": "stdout",
     "output_type": "stream",
     "text": [
      "The tensorboard extension is already loaded. To reload it, use:\n",
      "  %reload_ext tensorboard\n"
     ]
    }
   ],
   "source": [
    "import librosa\n",
    "import pandas as pd\n",
    "import numpy as np\n",
    "from tqdm import tqdm\n",
    "import matplotlib.pyplot as plt\n",
    "import IPython.display as ipd\n",
    "import warnings\n",
    "\n",
    "import tensorflow as tf\n",
    "from tensorflow.keras.utils import to_categorical, plot_model\n",
    "from sklearn.model_selection import train_test_split, StratifiedKFold, KFold, GridSearchCV, cross_val_score\n",
    "import keras\n",
    "from tensorflow.keras import Sequential, layers, regularizers\n",
    "from keras.layers import Dropout, Flatten, Dense, BatchNormalization, MaxPool2D, Reshape\n",
    "from sklearn.metrics import confusion_matrix, classification_report\n",
    "import librosa.display\n",
    "import librosa\n",
    "from keras.layers.convolutional import Conv2D, MaxPooling2D, SeparableConv2D\n",
    "from keras.utils.vis_utils import plot_model\n",
    "from sklearn.metrics import classification_report, confusion_matrix, ConfusionMatrixDisplay \n",
    "from keras.wrappers.scikit_learn import KerasClassifier\n",
    "from sklearn.preprocessing import LabelEncoder\n",
    "\n",
    "\n",
    "%load_ext tensorboard"
   ]
  },
  {
   "cell_type": "code",
   "execution_count": 827,
   "metadata": {},
   "outputs": [],
   "source": [
    "warnings.filterwarnings(\"ignore\")"
   ]
  },
  {
   "cell_type": "code",
   "execution_count": 828,
   "metadata": {},
   "outputs": [],
   "source": [
    "meta = pd.read_csv('/Users/andrewcosta/Desktop/Milan/Machine Learning/data/UrbanSound8K/metadata/UrbanSound8K.csv')"
   ]
  },
  {
   "cell_type": "markdown",
   "metadata": {},
   "source": [
    "### 2. Explore the Data"
   ]
  },
  {
   "cell_type": "code",
   "execution_count": 829,
   "metadata": {
    "scrolled": true
   },
   "outputs": [
    {
     "data": {
      "text/html": [
       "<div>\n",
       "<style scoped>\n",
       "    .dataframe tbody tr th:only-of-type {\n",
       "        vertical-align: middle;\n",
       "    }\n",
       "\n",
       "    .dataframe tbody tr th {\n",
       "        vertical-align: top;\n",
       "    }\n",
       "\n",
       "    .dataframe thead th {\n",
       "        text-align: right;\n",
       "    }\n",
       "</style>\n",
       "<table border=\"1\" class=\"dataframe\">\n",
       "  <thead>\n",
       "    <tr style=\"text-align: right;\">\n",
       "      <th></th>\n",
       "      <th>slice_file_name</th>\n",
       "      <th>fsID</th>\n",
       "      <th>start</th>\n",
       "      <th>end</th>\n",
       "      <th>salience</th>\n",
       "      <th>fold</th>\n",
       "      <th>classID</th>\n",
       "      <th>class</th>\n",
       "    </tr>\n",
       "  </thead>\n",
       "  <tbody>\n",
       "    <tr>\n",
       "      <th>0</th>\n",
       "      <td>100032-3-0-0.wav</td>\n",
       "      <td>100032</td>\n",
       "      <td>0.0</td>\n",
       "      <td>0.317551</td>\n",
       "      <td>1</td>\n",
       "      <td>5</td>\n",
       "      <td>3</td>\n",
       "      <td>dog_bark</td>\n",
       "    </tr>\n",
       "    <tr>\n",
       "      <th>1</th>\n",
       "      <td>100263-2-0-117.wav</td>\n",
       "      <td>100263</td>\n",
       "      <td>58.5</td>\n",
       "      <td>62.500000</td>\n",
       "      <td>1</td>\n",
       "      <td>5</td>\n",
       "      <td>2</td>\n",
       "      <td>children_playing</td>\n",
       "    </tr>\n",
       "    <tr>\n",
       "      <th>2</th>\n",
       "      <td>100263-2-0-121.wav</td>\n",
       "      <td>100263</td>\n",
       "      <td>60.5</td>\n",
       "      <td>64.500000</td>\n",
       "      <td>1</td>\n",
       "      <td>5</td>\n",
       "      <td>2</td>\n",
       "      <td>children_playing</td>\n",
       "    </tr>\n",
       "    <tr>\n",
       "      <th>3</th>\n",
       "      <td>100263-2-0-126.wav</td>\n",
       "      <td>100263</td>\n",
       "      <td>63.0</td>\n",
       "      <td>67.000000</td>\n",
       "      <td>1</td>\n",
       "      <td>5</td>\n",
       "      <td>2</td>\n",
       "      <td>children_playing</td>\n",
       "    </tr>\n",
       "    <tr>\n",
       "      <th>4</th>\n",
       "      <td>100263-2-0-137.wav</td>\n",
       "      <td>100263</td>\n",
       "      <td>68.5</td>\n",
       "      <td>72.500000</td>\n",
       "      <td>1</td>\n",
       "      <td>5</td>\n",
       "      <td>2</td>\n",
       "      <td>children_playing</td>\n",
       "    </tr>\n",
       "  </tbody>\n",
       "</table>\n",
       "</div>"
      ],
      "text/plain": [
       "      slice_file_name    fsID  start        end  salience  fold  classID  \\\n",
       "0    100032-3-0-0.wav  100032    0.0   0.317551         1     5        3   \n",
       "1  100263-2-0-117.wav  100263   58.5  62.500000         1     5        2   \n",
       "2  100263-2-0-121.wav  100263   60.5  64.500000         1     5        2   \n",
       "3  100263-2-0-126.wav  100263   63.0  67.000000         1     5        2   \n",
       "4  100263-2-0-137.wav  100263   68.5  72.500000         1     5        2   \n",
       "\n",
       "              class  \n",
       "0          dog_bark  \n",
       "1  children_playing  \n",
       "2  children_playing  \n",
       "3  children_playing  \n",
       "4  children_playing  "
      ]
     },
     "execution_count": 829,
     "metadata": {},
     "output_type": "execute_result"
    }
   ],
   "source": [
    "meta.head()"
   ]
  },
  {
   "cell_type": "markdown",
   "metadata": {},
   "source": [
    "### Training data"
   ]
  },
  {
   "cell_type": "code",
   "execution_count": 830,
   "metadata": {},
   "outputs": [],
   "source": [
    "train = meta[meta['fold'].isin([1,2,3,4,6])]"
   ]
  },
  {
   "cell_type": "code",
   "execution_count": 831,
   "metadata": {},
   "outputs": [],
   "source": [
    "test = meta[meta['fold'].isin([5,7,8,9,10])]"
   ]
  },
  {
   "cell_type": "code",
   "execution_count": 832,
   "metadata": {},
   "outputs": [
    {
     "data": {
      "text/html": [
       "<div>\n",
       "<style scoped>\n",
       "    .dataframe tbody tr th:only-of-type {\n",
       "        vertical-align: middle;\n",
       "    }\n",
       "\n",
       "    .dataframe tbody tr th {\n",
       "        vertical-align: top;\n",
       "    }\n",
       "\n",
       "    .dataframe thead th {\n",
       "        text-align: right;\n",
       "    }\n",
       "</style>\n",
       "<table border=\"1\" class=\"dataframe\">\n",
       "  <thead>\n",
       "    <tr style=\"text-align: right;\">\n",
       "      <th></th>\n",
       "      <th>slice_file_name</th>\n",
       "      <th>fsID</th>\n",
       "      <th>start</th>\n",
       "      <th>end</th>\n",
       "      <th>salience</th>\n",
       "      <th>fold</th>\n",
       "      <th>classID</th>\n",
       "      <th>class</th>\n",
       "    </tr>\n",
       "  </thead>\n",
       "  <tbody>\n",
       "    <tr>\n",
       "      <th>14</th>\n",
       "      <td>100652-3-0-0.wav</td>\n",
       "      <td>100652</td>\n",
       "      <td>0.000000</td>\n",
       "      <td>4.000000</td>\n",
       "      <td>1</td>\n",
       "      <td>2</td>\n",
       "      <td>3</td>\n",
       "      <td>dog_bark</td>\n",
       "    </tr>\n",
       "    <tr>\n",
       "      <th>15</th>\n",
       "      <td>100652-3-0-1.wav</td>\n",
       "      <td>100652</td>\n",
       "      <td>0.500000</td>\n",
       "      <td>4.500000</td>\n",
       "      <td>1</td>\n",
       "      <td>2</td>\n",
       "      <td>3</td>\n",
       "      <td>dog_bark</td>\n",
       "    </tr>\n",
       "    <tr>\n",
       "      <th>16</th>\n",
       "      <td>100652-3-0-2.wav</td>\n",
       "      <td>100652</td>\n",
       "      <td>1.000000</td>\n",
       "      <td>5.000000</td>\n",
       "      <td>1</td>\n",
       "      <td>2</td>\n",
       "      <td>3</td>\n",
       "      <td>dog_bark</td>\n",
       "    </tr>\n",
       "    <tr>\n",
       "      <th>17</th>\n",
       "      <td>100652-3-0-3.wav</td>\n",
       "      <td>100652</td>\n",
       "      <td>1.500000</td>\n",
       "      <td>5.500000</td>\n",
       "      <td>1</td>\n",
       "      <td>2</td>\n",
       "      <td>3</td>\n",
       "      <td>dog_bark</td>\n",
       "    </tr>\n",
       "    <tr>\n",
       "      <th>53</th>\n",
       "      <td>101281-3-0-0.wav</td>\n",
       "      <td>101281</td>\n",
       "      <td>0.341333</td>\n",
       "      <td>4.341333</td>\n",
       "      <td>2</td>\n",
       "      <td>6</td>\n",
       "      <td>3</td>\n",
       "      <td>dog_bark</td>\n",
       "    </tr>\n",
       "  </tbody>\n",
       "</table>\n",
       "</div>"
      ],
      "text/plain": [
       "     slice_file_name    fsID     start       end  salience  fold  classID  \\\n",
       "14  100652-3-0-0.wav  100652  0.000000  4.000000         1     2        3   \n",
       "15  100652-3-0-1.wav  100652  0.500000  4.500000         1     2        3   \n",
       "16  100652-3-0-2.wav  100652  1.000000  5.000000         1     2        3   \n",
       "17  100652-3-0-3.wav  100652  1.500000  5.500000         1     2        3   \n",
       "53  101281-3-0-0.wav  101281  0.341333  4.341333         2     6        3   \n",
       "\n",
       "       class  \n",
       "14  dog_bark  \n",
       "15  dog_bark  \n",
       "16  dog_bark  \n",
       "17  dog_bark  \n",
       "53  dog_bark  "
      ]
     },
     "execution_count": 832,
     "metadata": {},
     "output_type": "execute_result"
    }
   ],
   "source": [
    "train.head()"
   ]
  },
  {
   "cell_type": "code",
   "execution_count": 833,
   "metadata": {},
   "outputs": [
    {
     "name": "stdout",
     "output_type": "stream",
     "text": [
      "Train Shape: (4499, 8)\n",
      "Test Shape: (4233, 8)\n"
     ]
    }
   ],
   "source": [
    "print(f'Train Shape: {train.shape}')\n",
    "print(f'Test Shape: {test.shape}')"
   ]
  },
  {
   "cell_type": "code",
   "execution_count": 834,
   "metadata": {},
   "outputs": [
    {
     "data": {
      "text/plain": [
       "slice_file_name    0\n",
       "fsID               0\n",
       "start              0\n",
       "end                0\n",
       "salience           0\n",
       "fold               0\n",
       "classID            0\n",
       "class              0\n",
       "dtype: int64"
      ]
     },
     "execution_count": 834,
     "metadata": {},
     "output_type": "execute_result"
    }
   ],
   "source": [
    "meta.isna().sum()"
   ]
  },
  {
   "cell_type": "code",
   "execution_count": 835,
   "metadata": {},
   "outputs": [],
   "source": [
    "classes = meta.groupby('classID')['class'].unique()"
   ]
  },
  {
   "cell_type": "code",
   "execution_count": 836,
   "metadata": {
    "scrolled": true
   },
   "outputs": [
    {
     "data": {
      "text/plain": [
       "classID\n",
       "0     [air_conditioner]\n",
       "1            [car_horn]\n",
       "2    [children_playing]\n",
       "3            [dog_bark]\n",
       "4            [drilling]\n",
       "5       [engine_idling]\n",
       "6            [gun_shot]\n",
       "7          [jackhammer]\n",
       "8               [siren]\n",
       "9        [street_music]\n",
       "Name: class, dtype: object"
      ]
     },
     "execution_count": 836,
     "metadata": {},
     "output_type": "execute_result"
    }
   ],
   "source": [
    "classes"
   ]
  },
  {
   "cell_type": "code",
   "execution_count": 837,
   "metadata": {},
   "outputs": [],
   "source": [
    "# lets observe sample audio files in their respective spectogram form\n",
    "df1, sr1 = librosa.load('/Users/andrewcosta/Desktop/Milan/Machine Learning/data/UrbanSound8K/audio/fold4/7064-6-1-0.wav')\n",
    "df2, sr2 = librosa.load('/Users/andrewcosta/Desktop/Milan/Machine Learning/data/UrbanSound8K/audio/fold4/22883-7-10-0.wav')"
   ]
  },
  {
   "cell_type": "code",
   "execution_count": 838,
   "metadata": {},
   "outputs": [
    {
     "data": {
      "text/plain": [
       "Text(0.5, 1.0, 'Linear-frequency power spectogram')"
      ]
     },
     "execution_count": 838,
     "metadata": {},
     "output_type": "execute_result"
    },
    {
     "data": {
      "image/png": "[encoded data removed]",
      "text/plain": [
       "<Figure size 2160x1080 with 2 Axes>"
      ]
     },
     "metadata": {
      "needs_background": "light"
     },
     "output_type": "display_data"
    }
   ],
   "source": [
    "plt.figure(figsize=(30, 15))\n",
    "\n",
    "d1 = librosa.amplitude_to_db(np.abs(librosa.stft(df1)), ref=np.max)\n",
    "d2 = librosa.amplitude_to_db(np.abs(librosa.stft(df2)), ref=np.max)\n",
    "\n",
    "plt.subplot(4,2,1)\n",
    "librosa.display.specshow(d1, y_axis='linear')\n",
    "plt.colorbar(format='%+2.0f dB')\n",
    "plt.title('Linear-frequency power spectogram')"
   ]
  },
  {
   "cell_type": "code",
   "execution_count": 839,
   "metadata": {
    "scrolled": true
   },
   "outputs": [
    {
     "data": {
      "text/plain": [
       "Text(0.5, 1.0, 'Linear-frequency power spectogram')"
      ]
     },
     "execution_count": 839,
     "metadata": {},
     "output_type": "execute_result"
    },
    {
     "data": {
      "image/png": "[encoded data removed]",
      "text/plain": [
       "<Figure size 2160x1080 with 2 Axes>"
      ]
     },
     "metadata": {
      "needs_background": "light"
     },
     "output_type": "display_data"
    }
   ],
   "source": [
    "plt.figure(figsize=(30, 15))\n",
    "\n",
    "d2 = librosa.amplitude_to_db(np.abs(librosa.stft(df2)), ref=np.max)\n",
    "\n",
    "plt.subplot(4,2,1)\n",
    "librosa.display.specshow(d2, y_axis='linear')\n",
    "plt.colorbar(format='%+2.0f dB')\n",
    "plt.title('Linear-frequency power spectogram')"
   ]
  },
  {
   "cell_type": "code",
   "execution_count": 840,
   "metadata": {},
   "outputs": [
    {
     "data": {
      "text/plain": [
       "(numpy.ndarray, numpy.ndarray, numpy.ndarray)"
      ]
     },
     "execution_count": 840,
     "metadata": {},
     "output_type": "execute_result"
    }
   ],
   "source": [
    "arr = np.array(meta['slice_file_name'])\n",
    "fold = np.array(meta['fold'])\n",
    "class_ = np.array(meta['class'])\n",
    "\n",
    "type(arr), type(fold), type(class_)"
   ]
  },
  {
   "cell_type": "code",
   "execution_count": 841,
   "metadata": {
    "scrolled": true
   },
   "outputs": [
    {
     "data": {
      "image/png": "[encoded data removed]",
      "text/plain": [
       "<Figure size 720x360 with 2 Axes>"
      ]
     },
     "metadata": {
      "needs_background": "light"
     },
     "output_type": "display_data"
    },
    {
     "data": {
      "image/png": "[encoded data removed]",
      "text/plain": [
       "<Figure size 720x360 with 2 Axes>"
      ]
     },
     "metadata": {
      "needs_background": "light"
     },
     "output_type": "display_data"
    },
    {
     "data": {
      "image/png": "[encoded data removed]",
      "text/plain": [
       "<Figure size 720x360 with 2 Axes>"
      ]
     },
     "metadata": {
      "needs_background": "light"
     },
     "output_type": "display_data"
    }
   ],
   "source": [
    "for i in range(192, 197, 2):\n",
    "    file = \"/Users/andrewcosta/Desktop/Milan/Machine Learning/data/UrbanSound8K/audio/fold\" + str(fold[i]) + '/' + arr[i]\n",
    "    data, sr = librosa.load(file)\n",
    "    plt.figure(figsize=(10,5))\n",
    "    d = librosa.amplitude_to_db(np.abs(librosa.stft(data)), ref=np.max)\n",
    "    plt.subplot(4,2,1)\n",
    "    librosa.display.specshow(d, y_axis='linear')\n",
    "    plt.colorbar(format='%+2.0f dB')\n",
    "    plt.title(class_[i])"
   ]
  },
  {
   "cell_type": "code",
   "execution_count": 842,
   "metadata": {},
   "outputs": [
    {
     "data": {
      "text/plain": [
       "(128, 53)"
      ]
     },
     "execution_count": 842,
     "metadata": {},
     "output_type": "execute_result"
    }
   ],
   "source": [
    "arr = librosa.feature.melspectrogram(y=df1, sr=sr)\n",
    "arr.shape"
   ]
  },
  {
   "cell_type": "markdown",
   "metadata": {},
   "source": [
    "### 3. Feature Extraction and Preparation"
   ]
  },
  {
   "cell_type": "code",
   "execution_count": 843,
   "metadata": {},
   "outputs": [],
   "source": [
    "# extract numeric features\n",
    "def feature_extractor(file):\n",
    "    data, sample_rate = librosa.load(file)\n",
    "    data = librosa.feature.mfcc(data, n_mfcc = 15)\n",
    "    data = np.mean(data, axis=0)\n",
    "    return data"
   ]
  },
  {
   "cell_type": "markdown",
   "metadata": {},
   "source": [
    "### Compile train set"
   ]
  },
  {
   "cell_type": "code",
   "execution_count": 844,
   "metadata": {},
   "outputs": [
    {
     "name": "stderr",
     "output_type": "stream",
     "text": [
      "4499it [05:13, 14.36it/s]\n"
     ]
    }
   ],
   "source": [
    "feature = []\n",
    "label = []\n",
    "\n",
    "\n",
    "for i, rows in tqdm(train.iterrows()): # index over rows within the DF\n",
    "    file = \"/Users/andrewcosta/Desktop/Milan/Machine Learning/data/UrbanSound8K\" + \"/audio\" + \"/fold\" + str(rows['fold']) + '/' + str(rows['slice_file_name'])\n",
    "    \n",
    "    # kaiser is a fast extraction method\n",
    "    X, sr = librosa.load(file, res_type='kaiser_fast')\n",
    "    \n",
    "    # extract mfccs\n",
    "    mfccs = np.mean(librosa.feature.melspectrogram(y=X, sr=sr).T, axis=0)\n",
    "    \n",
    "    # append features and labels to lists\n",
    "    feature.append(mfccs)\n",
    "    label.append(meta['classID'][i])"
   ]
  },
  {
   "cell_type": "code",
   "execution_count": 878,
   "metadata": {},
   "outputs": [
    {
     "data": {
      "text/plain": [
       "(4499, 128)"
      ]
     },
     "execution_count": 878,
     "metadata": {},
     "output_type": "execute_result"
    }
   ],
   "source": [
    "X_train = np.array(feature)\n",
    "X_train.shape"
   ]
  },
  {
   "cell_type": "code",
   "execution_count": 879,
   "metadata": {},
   "outputs": [
    {
     "data": {
      "text/plain": [
       "(4499,)"
      ]
     },
     "execution_count": 879,
     "metadata": {},
     "output_type": "execute_result"
    }
   ],
   "source": [
    "y_train = np.array(label)\n",
    "y_train.shape"
   ]
  },
  {
   "cell_type": "code",
   "execution_count": 880,
   "metadata": {},
   "outputs": [
    {
     "data": {
      "text/plain": [
       "(4499, 10)"
      ]
     },
     "execution_count": 880,
     "metadata": {},
     "output_type": "execute_result"
    }
   ],
   "source": [
    "y_train = to_categorical(y_train)\n",
    "y_train.shape"
   ]
  },
  {
   "cell_type": "markdown",
   "metadata": {},
   "source": [
    "### Compile Test set"
   ]
  },
  {
   "cell_type": "code",
   "execution_count": 848,
   "metadata": {},
   "outputs": [
    {
     "name": "stderr",
     "output_type": "stream",
     "text": [
      "4233it [04:52, 14.45it/s]\n"
     ]
    }
   ],
   "source": [
    "feature_test = []\n",
    "label_test = []\n",
    "\n",
    "\n",
    "for i, rows in tqdm(test.iterrows()): # index over rows within the DF\n",
    "    file = \"/Users/andrewcosta/Desktop/Milan/Machine Learning/data/UrbanSound8K\" + \"/audio\" + \"/fold\" + str(rows['fold']) + '/' + str(rows['slice_file_name'])\n",
    "    \n",
    "    # kaiser is a fast extraction method\n",
    "    X1, sr1 = librosa.load(file, res_type='kaiser_fast')\n",
    "    \n",
    "    # extract mfccs\n",
    "    mfccs = np.mean(librosa.feature.melspectrogram(y=X1, sr=sr1).T, axis=0)\n",
    "    \n",
    "    # append features and labels to lists\n",
    "    feature_test.append(mfccs)\n",
    "    label_test.append(meta['classID'][i])"
   ]
  },
  {
   "cell_type": "code",
   "execution_count": 881,
   "metadata": {},
   "outputs": [
    {
     "data": {
      "text/plain": [
       "(4233, 128)"
      ]
     },
     "execution_count": 881,
     "metadata": {},
     "output_type": "execute_result"
    }
   ],
   "source": [
    "X_test = np.array(feature_test)\n",
    "X_test.shape"
   ]
  },
  {
   "cell_type": "code",
   "execution_count": 882,
   "metadata": {},
   "outputs": [
    {
     "data": {
      "text/plain": [
       "(4233,)"
      ]
     },
     "execution_count": 882,
     "metadata": {},
     "output_type": "execute_result"
    }
   ],
   "source": [
    "y_test = np.array(label_test)\n",
    "y_test.shape"
   ]
  },
  {
   "cell_type": "code",
   "execution_count": 883,
   "metadata": {},
   "outputs": [
    {
     "data": {
      "text/plain": [
       "(4233, 10)"
      ]
     },
     "execution_count": 883,
     "metadata": {},
     "output_type": "execute_result"
    }
   ],
   "source": [
    "y_test = to_categorical(y_test)\n",
    "y_test.shape"
   ]
  },
  {
   "cell_type": "code",
   "execution_count": 884,
   "metadata": {
    "scrolled": true
   },
   "outputs": [
    {
     "name": "stdout",
     "output_type": "stream",
     "text": [
      "Shape of X_train: (4499, 128)\n",
      "Shape of y_train: (4499, 10)\n",
      "Shape of X_test: (4233, 128)\n",
      "Shape of y_test: (4233, 10)\n"
     ]
    }
   ],
   "source": [
    "print(f\"Shape of X_train: {X_train.shape}\")\n",
    "print(f\"Shape of y_train: {y_train.shape}\")\n",
    "print(f\"Shape of X_test: {X_test.shape}\")\n",
    "print(f\"Shape of y_test: {y_test.shape}\")"
   ]
  },
  {
   "cell_type": "code",
   "execution_count": 885,
   "metadata": {},
   "outputs": [
    {
     "data": {
      "text/plain": [
       "((4499, 16, 8, 1), (4233, 16, 8, 1))"
      ]
     },
     "execution_count": 885,
     "metadata": {},
     "output_type": "execute_result"
    }
   ],
   "source": [
    "X_train = X_train.reshape(4499, 16, 8,1)\n",
    "X_test = X_test.reshape(4233, 16, 8,1)\n",
    "X_train.shape, X_test.shape"
   ]
  },
  {
   "cell_type": "code",
   "execution_count": 886,
   "metadata": {},
   "outputs": [],
   "source": [
    "X_train, X_val, y_train, y_val = train_test_split(X_train, y_train, test_size=0.333)"
   ]
  },
  {
   "cell_type": "code",
   "execution_count": 887,
   "metadata": {},
   "outputs": [],
   "source": [
    "# set the input shape of the model\n",
    "input_dim = (16,8,1)"
   ]
  },
  {
   "cell_type": "code",
   "execution_count": 655,
   "metadata": {},
   "outputs": [],
   "source": [
    "model1 = Sequential()\n",
    "# build the model\n",
    "model1.add(Conv2D(300, (3,3), padding = 'same', activation = 'relu', input_shape=input_dim))\n",
    "model1.add(MaxPooling2D(pool_size=(2,2), padding='same'))\n",
    "\n",
    "model1.add(Flatten())\n",
    "model1.add(Dense(300, activation = 'relu'))\n",
    "model1.add(Dense(10, activation = 'softmax')) # softmax: outputss a probability distribution over the 10 classes\n",
    "                                                  # for every input sample, the model will output a 10-dimensional vector,\n",
    "                                                  # where output[i] is the probability it belongs to a certain class i. \n",
    "                                                  # the 10 scores will sum to 1 \n",
    "            #64\n",
    "            #128\n",
    "            #1024"
   ]
  },
  {
   "cell_type": "code",
   "execution_count": 568,
   "metadata": {
    "scrolled": true
   },
   "outputs": [
    {
     "name": "stdout",
     "output_type": "stream",
     "text": [
      "Epoch 1/50\n",
      "49/49 [==============================] - 3s 52ms/step - loss: 3.6293 - accuracy: 0.2399 - val_loss: 2.1468 - val_accuracy: 0.3573\n",
      "Epoch 2/50\n",
      "49/49 [==============================] - 2s 51ms/step - loss: 1.7760 - accuracy: 0.4082 - val_loss: 1.8190 - val_accuracy: 0.4614\n",
      "Epoch 3/50\n",
      "49/49 [==============================] - 2s 47ms/step - loss: 1.6070 - accuracy: 0.4884 - val_loss: 1.7376 - val_accuracy: 0.4730\n",
      "Epoch 4/50\n",
      "49/49 [==============================] - 2s 47ms/step - loss: 1.4795 - accuracy: 0.5222 - val_loss: 1.7182 - val_accuracy: 0.4807\n",
      "Epoch 5/50\n",
      "49/49 [==============================] - 3s 56ms/step - loss: 1.4220 - accuracy: 0.5385 - val_loss: 1.4858 - val_accuracy: 0.5360\n",
      "Epoch 6/50\n",
      "49/49 [==============================] - 2s 49ms/step - loss: 1.1562 - accuracy: 0.5972 - val_loss: 1.5335 - val_accuracy: 0.5514\n",
      "Epoch 7/50\n",
      "49/49 [==============================] - 2s 43ms/step - loss: 1.0864 - accuracy: 0.6378 - val_loss: 1.4794 - val_accuracy: 0.6028\n",
      "Epoch 8/50\n",
      "49/49 [==============================] - 2s 44ms/step - loss: 1.2999 - accuracy: 0.6184 - val_loss: 1.3126 - val_accuracy: 0.6028\n",
      "Epoch 9/50\n",
      "49/49 [==============================] - 2s 45ms/step - loss: 1.0888 - accuracy: 0.6750 - val_loss: 1.3954 - val_accuracy: 0.5977\n",
      "Epoch 10/50\n",
      "49/49 [==============================] - 2s 48ms/step - loss: 0.9885 - accuracy: 0.6716 - val_loss: 1.6775 - val_accuracy: 0.6388\n",
      "Epoch 11/50\n",
      "49/49 [==============================] - 2s 46ms/step - loss: 0.9628 - accuracy: 0.7159 - val_loss: 1.2423 - val_accuracy: 0.6722\n",
      "Epoch 12/50\n",
      "49/49 [==============================] - 2s 45ms/step - loss: 1.0144 - accuracy: 0.7373 - val_loss: 1.3501 - val_accuracy: 0.6311\n",
      "Epoch 13/50\n",
      "49/49 [==============================] - 2s 45ms/step - loss: 0.8525 - accuracy: 0.7274 - val_loss: 1.4660 - val_accuracy: 0.6260\n",
      "Epoch 14/50\n",
      "49/49 [==============================] - 2s 45ms/step - loss: 0.8529 - accuracy: 0.7385 - val_loss: 1.4605 - val_accuracy: 0.6401\n",
      "Epoch 15/50\n",
      "49/49 [==============================] - 2s 44ms/step - loss: 0.9001 - accuracy: 0.7601 - val_loss: 1.2564 - val_accuracy: 0.6967\n",
      "Epoch 16/50\n",
      "49/49 [==============================] - 2s 45ms/step - loss: 0.7333 - accuracy: 0.7895 - val_loss: 1.2783 - val_accuracy: 0.6530\n",
      "Epoch 17/50\n",
      "49/49 [==============================] - 2s 48ms/step - loss: 0.7079 - accuracy: 0.7611 - val_loss: 1.3440 - val_accuracy: 0.6825\n",
      "Epoch 18/50\n",
      "49/49 [==============================] - 2s 48ms/step - loss: 0.7239 - accuracy: 0.7809 - val_loss: 1.3930 - val_accuracy: 0.6401\n",
      "Epoch 19/50\n",
      "49/49 [==============================] - 3s 55ms/step - loss: 0.8011 - accuracy: 0.7737 - val_loss: 1.4148 - val_accuracy: 0.6889\n",
      "Epoch 20/50\n",
      "49/49 [==============================] - 2s 46ms/step - loss: 0.8797 - accuracy: 0.7936 - val_loss: 1.4290 - val_accuracy: 0.6735\n",
      "Epoch 21/50\n",
      "49/49 [==============================] - 2s 45ms/step - loss: 0.7114 - accuracy: 0.7875 - val_loss: 1.3007 - val_accuracy: 0.6684\n",
      "Epoch 22/50\n",
      "49/49 [==============================] - 2s 47ms/step - loss: 0.6653 - accuracy: 0.7913 - val_loss: 1.3029 - val_accuracy: 0.7057\n",
      "Epoch 23/50\n",
      "49/49 [==============================] - 2s 47ms/step - loss: 0.5656 - accuracy: 0.8083 - val_loss: 1.3126 - val_accuracy: 0.6902\n",
      "Epoch 24/50\n",
      "49/49 [==============================] - 2s 47ms/step - loss: 0.5557 - accuracy: 0.8252 - val_loss: 1.3366 - val_accuracy: 0.6941\n",
      "Epoch 25/50\n",
      "49/49 [==============================] - 2s 46ms/step - loss: 0.5425 - accuracy: 0.8345 - val_loss: 1.3591 - val_accuracy: 0.7198\n",
      "Epoch 26/50\n",
      "49/49 [==============================] - 2s 46ms/step - loss: 0.5232 - accuracy: 0.8237 - val_loss: 1.4107 - val_accuracy: 0.7288\n",
      "Epoch 27/50\n",
      "49/49 [==============================] - 2s 48ms/step - loss: 0.5351 - accuracy: 0.8371 - val_loss: 1.8204 - val_accuracy: 0.6812\n",
      "Epoch 28/50\n",
      "49/49 [==============================] - 2s 45ms/step - loss: 0.7096 - accuracy: 0.8055 - val_loss: 1.3034 - val_accuracy: 0.7108\n",
      "Epoch 29/50\n",
      "49/49 [==============================] - 2s 45ms/step - loss: 0.7628 - accuracy: 0.8143 - val_loss: 1.4078 - val_accuracy: 0.6568\n",
      "Epoch 30/50\n",
      "49/49 [==============================] - 2s 47ms/step - loss: 0.7488 - accuracy: 0.7991 - val_loss: 1.9792 - val_accuracy: 0.6838\n",
      "Epoch 31/50\n",
      "49/49 [==============================] - 2s 47ms/step - loss: 1.2459 - accuracy: 0.8112 - val_loss: 1.3520 - val_accuracy: 0.6851\n",
      "Epoch 32/50\n",
      "49/49 [==============================] - 2s 46ms/step - loss: 0.5853 - accuracy: 0.8136 - val_loss: 1.3095 - val_accuracy: 0.7134\n",
      "Epoch 33/50\n",
      "49/49 [==============================] - 2s 44ms/step - loss: 0.4670 - accuracy: 0.8403 - val_loss: 1.3613 - val_accuracy: 0.7211\n",
      "Epoch 34/50\n",
      "49/49 [==============================] - 2s 45ms/step - loss: 0.4270 - accuracy: 0.8629 - val_loss: 1.3417 - val_accuracy: 0.7571\n",
      "Epoch 35/50\n",
      "49/49 [==============================] - 2s 45ms/step - loss: 0.3943 - accuracy: 0.8933 - val_loss: 1.4581 - val_accuracy: 0.7147\n",
      "Epoch 36/50\n",
      "49/49 [==============================] - 2s 46ms/step - loss: 0.3787 - accuracy: 0.8928 - val_loss: 1.4042 - val_accuracy: 0.7416\n",
      "Epoch 37/50\n",
      "49/49 [==============================] - 2s 46ms/step - loss: 0.3805 - accuracy: 0.8848 - val_loss: 1.4525 - val_accuracy: 0.7237\n",
      "Epoch 38/50\n",
      "49/49 [==============================] - 2s 44ms/step - loss: 0.4200 - accuracy: 0.8859 - val_loss: 1.6636 - val_accuracy: 0.6941\n",
      "Epoch 39/50\n",
      "49/49 [==============================] - 2s 47ms/step - loss: 0.5037 - accuracy: 0.8731 - val_loss: 1.4554 - val_accuracy: 0.7455\n",
      "Epoch 40/50\n",
      "49/49 [==============================] - 2s 46ms/step - loss: 0.3716 - accuracy: 0.8917 - val_loss: 1.7120 - val_accuracy: 0.7455\n",
      "Epoch 41/50\n",
      "49/49 [==============================] - 2s 45ms/step - loss: 0.5667 - accuracy: 0.8657 - val_loss: 1.6082 - val_accuracy: 0.7095\n",
      "Epoch 42/50\n",
      "49/49 [==============================] - 2s 45ms/step - loss: 0.6532 - accuracy: 0.8407 - val_loss: 1.6486 - val_accuracy: 0.6992\n",
      "Epoch 43/50\n",
      "49/49 [==============================] - 2s 45ms/step - loss: 0.5546 - accuracy: 0.8651 - val_loss: 1.3371 - val_accuracy: 0.7468\n",
      "Epoch 44/50\n",
      "49/49 [==============================] - 2s 43ms/step - loss: 0.4487 - accuracy: 0.8646 - val_loss: 1.3212 - val_accuracy: 0.7442\n",
      "Epoch 45/50\n",
      "49/49 [==============================] - 2s 46ms/step - loss: 0.3665 - accuracy: 0.8865 - val_loss: 1.3447 - val_accuracy: 0.7686\n",
      "Epoch 46/50\n",
      "49/49 [==============================] - 2s 46ms/step - loss: 0.3621 - accuracy: 0.8855 - val_loss: 1.3829 - val_accuracy: 0.7725\n",
      "Epoch 47/50\n",
      "49/49 [==============================] - 2s 44ms/step - loss: 0.3264 - accuracy: 0.9035 - val_loss: 1.3944 - val_accuracy: 0.7558\n",
      "Epoch 48/50\n",
      "49/49 [==============================] - 2s 42ms/step - loss: 0.3238 - accuracy: 0.8991 - val_loss: 1.4556 - val_accuracy: 0.7571\n",
      "Epoch 49/50\n",
      "49/49 [==============================] - 2s 47ms/step - loss: 0.2928 - accuracy: 0.9039 - val_loss: 1.4750 - val_accuracy: 0.7686\n",
      "Epoch 50/50\n",
      "49/49 [==============================] - 2s 46ms/step - loss: 0.3121 - accuracy: 0.9105 - val_loss: 1.5483 - val_accuracy: 0.7661\n"
     ]
    }
   ],
   "source": [
    "\n",
    "    # compile the model\n",
    "model1.compile(loss='categorical_crossentropy', # categorical crossentropy: measures the distance between the two \n",
    "                   optimizer='adam',             # probability distributions - output of network and true labels\n",
    "                   metrics=['accuracy'])\n",
    "    \n",
    "    \n",
    "    # fit the model\n",
    "history1 = model1.fit(X_train,\n",
    "                          y_train, \n",
    "                          epochs=50,\n",
    "                          batch_size= 32,\n",
    "                         validation_data = (X_val, y_val))"
   ]
  },
  {
   "cell_type": "code",
   "execution_count": 560,
   "metadata": {
    "scrolled": true
   },
   "outputs": [
    {
     "name": "stdout",
     "output_type": "stream",
     "text": [
      "Model: \"sequential_91\"\n",
      "_________________________________________________________________\n",
      "Layer (type)                 Output Shape              Param #   \n",
      "=================================================================\n",
      "conv2d_99 (Conv2D)           (None, 16, 8, 300)        3000      \n",
      "_________________________________________________________________\n",
      "max_pooling2d_51 (MaxPooling (None, 8, 4, 300)         0         \n",
      "_________________________________________________________________\n",
      "flatten_82 (Flatten)         (None, 9600)              0         \n",
      "_________________________________________________________________\n",
      "dense_167 (Dense)            (None, 300)               2880300   \n",
      "_________________________________________________________________\n",
      "dense_168 (Dense)            (None, 10)                3010      \n",
      "=================================================================\n",
      "Total params: 2,886,310\n",
      "Trainable params: 2,886,310\n",
      "Non-trainable params: 0\n",
      "_________________________________________________________________\n"
     ]
    }
   ],
   "source": [
    "model1.summary()"
   ]
  },
  {
   "cell_type": "code",
   "execution_count": 569,
   "metadata": {},
   "outputs": [],
   "source": [
    "import sklearn.metrics as metrics\n",
    "y_pred = model1.predict_classes(X_test)"
   ]
  },
  {
   "cell_type": "code",
   "execution_count": 570,
   "metadata": {},
   "outputs": [
    {
     "name": "stdout",
     "output_type": "stream",
     "text": [
      "Accuracy: 0.4842901015828018\n",
      "f1_weighted: 0.4801959820151658\n"
     ]
    }
   ],
   "source": [
    "print(\"Accuracy:\",metrics.accuracy_score(np.argmax(y_test, axis=1),y_pred))\n",
    "print(\"f1_weighted:\",metrics.f1_score(np.argmax(y_test, axis=1), y_pred,average='weighted'))"
   ]
  },
  {
   "cell_type": "code",
   "execution_count": 589,
   "metadata": {
    "scrolled": true
   },
   "outputs": [
    {
     "name": "stdout",
     "output_type": "stream",
     "text": [
      "Val Accuracy: 0.76606684923172\n",
      "Train Accuracy: 0.9241645336151123\n"
     ]
    }
   ],
   "source": [
    "predictions = model1.predict(X_test)\n",
    "score_val, acc_val = model1.evaluate(X_val, y_val, verbose=0)\n",
    "score_train, acc_train = model1.evaluate(X_train, y_train, verbose=0)\n",
    "print(f'Val Accuracy: {acc_val}')\n",
    "print(f'Train Accuracy: {acc_train}')"
   ]
  },
  {
   "cell_type": "code",
   "execution_count": 572,
   "metadata": {},
   "outputs": [],
   "source": [
    "train_hist1 = pd.DataFrame(history1.history)"
   ]
  },
  {
   "cell_type": "code",
   "execution_count": 573,
   "metadata": {},
   "outputs": [
    {
     "data": {
      "image/png": "[encoded data removed]",
      "text/plain": [
       "<Figure size 1440x576 with 1 Axes>"
      ]
     },
     "metadata": {
      "needs_background": "light"
     },
     "output_type": "display_data"
    },
    {
     "data": {
      "image/png": "[encoded data removed]",
      "text/plain": [
       "<Figure size 1440x576 with 1 Axes>"
      ]
     },
     "metadata": {
      "needs_background": "light"
     },
     "output_type": "display_data"
    }
   ],
   "source": [
    "plt.figure(figsize=(20,8))\n",
    "plt.plot(train_hist1[['loss','val_loss']])\n",
    "plt.legend(['loss','val_loss'])\n",
    "plt.title('Loss Per Epochs')\n",
    "plt.xlabel('Epochs')\n",
    "plt.ylabel('Loss')\n",
    "plt.show()\n",
    "\n",
    "plt.figure(figsize=(20,8))\n",
    "plt.plot(train_hist1[['accuracy','val_accuracy']])\n",
    "plt.legend(['accuracy','val_accuracy'])\n",
    "plt.title('Accuracy Per Epochs')\n",
    "plt.xlabel('Epochs')\n",
    "plt.ylabel('Accuracy')\n",
    "plt.show()"
   ]
  },
  {
   "cell_type": "code",
   "execution_count": 574,
   "metadata": {},
   "outputs": [
    {
     "name": "stdout",
     "output_type": "stream",
     "text": [
      "\n",
      "Confusion Matrix :\n",
      "\n",
      "\n",
      "[[83  0  4  0  1  1  0  1  2  1]\n",
      " [ 2 22  0  3  1  1  0  2  1  3]\n",
      " [ 3  0 49 11  2  0  1  1 16 13]\n",
      " [ 2  0  7 61  4  0  2  1  7  3]\n",
      " [ 1  2  3  0 64  0  1  3  1  6]\n",
      " [ 3  0  3  0  0 76  0  0  1  2]\n",
      " [ 2  0  3  1  0  0 35  1  0  0]\n",
      " [ 2  0  1  0  2  0  0 75  3  1]\n",
      " [ 3  0  0  5  1  2  0  0 86  0]\n",
      " [ 3  1 10  6  6  1  0  2  4 45]]\n",
      "\n",
      "\n",
      "Classification Report : \n",
      "\n",
      "               precision    recall  f1-score   support\n",
      "\n",
      "           0       0.80      0.89      0.84        93\n",
      "           1       0.88      0.63      0.73        35\n",
      "           2       0.61      0.51      0.56        96\n",
      "           3       0.70      0.70      0.70        87\n",
      "           4       0.79      0.79      0.79        81\n",
      "           5       0.94      0.89      0.92        85\n",
      "           6       0.90      0.83      0.86        42\n",
      "           7       0.87      0.89      0.88        84\n",
      "           8       0.71      0.89      0.79        97\n",
      "           9       0.61      0.58      0.59        78\n",
      "\n",
      "    accuracy                           0.77       778\n",
      "   macro avg       0.78      0.76      0.77       778\n",
      "weighted avg       0.77      0.77      0.76       778\n",
      "\n"
     ]
    }
   ],
   "source": [
    "ytrue = np.argmax(y_val,axis=1)\n",
    "ypred = np.argmax(model1.predict(X_val),axis=1)\n",
    "print('\\nConfusion Matrix :\\n\\n')\n",
    "print(confusion_matrix(ytrue,ypred))\n",
    "print('\\n\\nClassification Report : \\n\\n',classification_report(ytrue,ypred))"
   ]
  },
  {
   "cell_type": "code",
   "execution_count": 575,
   "metadata": {
    "scrolled": false
   },
   "outputs": [
    {
     "data": {
      "image/png": "[encoded data removed]",
      "text/plain": [
       "<Figure size 720x720 with 2 Axes>"
      ]
     },
     "metadata": {
      "needs_background": "light"
     },
     "output_type": "display_data"
    }
   ],
   "source": [
    "cm = confusion_matrix(ytrue, ypred)\n",
    "cm_plt = ConfusionMatrixDisplay(confusion_matrix=cm,\n",
    "                               display_labels=classes)\n",
    "\n",
    "fig, ax = plt.subplots(figsize=(10,10))\n",
    "\n",
    "cm_plt.plot(ax=ax)\n",
    "plt.xticks(rotation = 45)\n",
    "plt.show()"
   ]
  },
  {
   "cell_type": "code",
   "execution_count": 576,
   "metadata": {},
   "outputs": [
    {
     "name": "stdout",
     "output_type": "stream",
     "text": [
      "\n",
      "Confusion Matrix :\n",
      "\n",
      "\n",
      "[[184   4  27  19  32 104  28  18   3  81]\n",
      " [  1 155  10   7  12   4   0   4   7  21]\n",
      " [ 35   1 206  51  23  30   5  13  85  51]\n",
      " [ 17   5  37 331  18  17   0   4  54  17]\n",
      " [ 24   9  11  36 201  13   7 122  14  63]\n",
      " [103   4  45  10  28 152  47  24   7  63]\n",
      " [  1   0  31   1   5   6 111  18   6   5]\n",
      " [  4   0  16   2 171  12  33 159   1  54]\n",
      " [ 23   8  25  15   7  12   0  11 282  10]\n",
      " [ 52   8  27  39  44  10   4  28  19 269]]\n",
      "\n",
      "\n",
      "Classification Report : \n",
      "\n",
      "               precision    recall  f1-score   support\n",
      "\n",
      "           0       0.41      0.37      0.39       500\n",
      "           1       0.80      0.70      0.75       221\n",
      "           2       0.47      0.41      0.44       500\n",
      "           3       0.65      0.66      0.65       500\n",
      "           4       0.37      0.40      0.39       500\n",
      "           5       0.42      0.31      0.36       483\n",
      "           6       0.47      0.60      0.53       184\n",
      "           7       0.40      0.35      0.37       452\n",
      "           8       0.59      0.72      0.65       393\n",
      "           9       0.42      0.54      0.47       500\n",
      "\n",
      "    accuracy                           0.48      4233\n",
      "   macro avg       0.50      0.51      0.50      4233\n",
      "weighted avg       0.48      0.48      0.48      4233\n",
      "\n"
     ]
    }
   ],
   "source": [
    "ytrue = np.argmax(y_test,axis=1)\n",
    "ypred = np.argmax(model1.predict(X_test),axis=1)\n",
    "print('\\nConfusion Matrix :\\n\\n')\n",
    "print(confusion_matrix(ytrue,ypred))\n",
    "print('\\n\\nClassification Report : \\n\\n',classification_report(ytrue,ypred))"
   ]
  },
  {
   "cell_type": "code",
   "execution_count": 577,
   "metadata": {},
   "outputs": [
    {
     "data": {
      "image/png": "[encoded data removed]",
      "text/plain": [
       "<Figure size 720x720 with 2 Axes>"
      ]
     },
     "metadata": {
      "needs_background": "light"
     },
     "output_type": "display_data"
    }
   ],
   "source": [
    "cm = confusion_matrix(ytrue, ypred)\n",
    "cm_plt = ConfusionMatrixDisplay(confusion_matrix=cm,\n",
    "                               display_labels=classes)\n",
    "\n",
    "fig, ax = plt.subplots(figsize=(10,10))\n",
    "\n",
    "cm_plt.plot(ax=ax)\n",
    "plt.xticks(rotation = 45)\n",
    "plt.show()"
   ]
  },
  {
   "cell_type": "markdown",
   "metadata": {},
   "source": [
    "## Model 2 - Simpler Model Architecture to Reduce Overfitting"
   ]
  },
  {
   "cell_type": "code",
   "execution_count": 578,
   "metadata": {
    "scrolled": true
   },
   "outputs": [
    {
     "name": "stdout",
     "output_type": "stream",
     "text": [
      "Epoch 1/50\n",
      "49/49 [==============================] - 1s 16ms/step - loss: 2.5047 - accuracy: 0.2724 - val_loss: 1.8789 - val_accuracy: 0.3728\n",
      "Epoch 2/50\n",
      "49/49 [==============================] - 0s 9ms/step - loss: 1.8494 - accuracy: 0.4564 - val_loss: 1.7317 - val_accuracy: 0.4794\n",
      "Epoch 3/50\n",
      "49/49 [==============================] - 0s 9ms/step - loss: 1.4728 - accuracy: 0.5227 - val_loss: 1.6255 - val_accuracy: 0.5398\n",
      "Epoch 4/50\n",
      "49/49 [==============================] - 0s 9ms/step - loss: 1.3673 - accuracy: 0.5476 - val_loss: 1.5538 - val_accuracy: 0.5206\n",
      "Epoch 5/50\n",
      "49/49 [==============================] - 1s 14ms/step - loss: 1.1551 - accuracy: 0.6227 - val_loss: 1.5596 - val_accuracy: 0.5167\n",
      "Epoch 6/50\n",
      "49/49 [==============================] - 1s 11ms/step - loss: 1.1120 - accuracy: 0.6479 - val_loss: 1.4690 - val_accuracy: 0.6170\n",
      "Epoch 7/50\n",
      "49/49 [==============================] - 1s 17ms/step - loss: 1.0064 - accuracy: 0.6947 - val_loss: 1.6328 - val_accuracy: 0.6080\n",
      "Epoch 8/50\n",
      "49/49 [==============================] - 1s 14ms/step - loss: 0.9274 - accuracy: 0.7106 - val_loss: 1.4129 - val_accuracy: 0.6195\n",
      "Epoch 9/50\n",
      "49/49 [==============================] - 0s 9ms/step - loss: 0.8839 - accuracy: 0.7199 - val_loss: 1.4840 - val_accuracy: 0.6170\n",
      "Epoch 10/50\n",
      "49/49 [==============================] - 0s 9ms/step - loss: 0.8404 - accuracy: 0.7369 - val_loss: 1.3418 - val_accuracy: 0.6632\n",
      "Epoch 11/50\n",
      "49/49 [==============================] - 0s 10ms/step - loss: 0.7825 - accuracy: 0.7579 - val_loss: 1.3775 - val_accuracy: 0.6581\n",
      "Epoch 12/50\n",
      "49/49 [==============================] - 0s 10ms/step - loss: 0.7474 - accuracy: 0.7697 - val_loss: 1.3630 - val_accuracy: 0.6761\n",
      "Epoch 13/50\n",
      "49/49 [==============================] - 1s 10ms/step - loss: 0.7175 - accuracy: 0.7722 - val_loss: 1.4917 - val_accuracy: 0.6710\n",
      "Epoch 14/50\n",
      "49/49 [==============================] - 0s 9ms/step - loss: 0.6901 - accuracy: 0.7880 - val_loss: 1.4191 - val_accuracy: 0.6967\n",
      "Epoch 15/50\n",
      "49/49 [==============================] - 0s 10ms/step - loss: 0.6330 - accuracy: 0.8178 - val_loss: 1.3740 - val_accuracy: 0.7044\n",
      "Epoch 16/50\n",
      "49/49 [==============================] - 0s 9ms/step - loss: 0.6147 - accuracy: 0.8203 - val_loss: 1.5196 - val_accuracy: 0.7069\n",
      "Epoch 17/50\n",
      "49/49 [==============================] - 0s 8ms/step - loss: 0.6987 - accuracy: 0.8242 - val_loss: 1.5516 - val_accuracy: 0.6594\n",
      "Epoch 18/50\n",
      "49/49 [==============================] - 0s 10ms/step - loss: 0.7849 - accuracy: 0.7932 - val_loss: 1.4642 - val_accuracy: 0.6774\n",
      "Epoch 19/50\n",
      "49/49 [==============================] - 1s 20ms/step - loss: 0.8514 - accuracy: 0.8050 - val_loss: 1.3976 - val_accuracy: 0.6799\n",
      "Epoch 20/50\n",
      "49/49 [==============================] - 1s 12ms/step - loss: 0.6382 - accuracy: 0.8215 - val_loss: 1.4375 - val_accuracy: 0.7082\n",
      "Epoch 21/50\n",
      "49/49 [==============================] - 1s 15ms/step - loss: 0.5676 - accuracy: 0.8410 - val_loss: 1.5804 - val_accuracy: 0.6774\n",
      "Epoch 22/50\n",
      "49/49 [==============================] - 1s 12ms/step - loss: 0.6388 - accuracy: 0.8168 - val_loss: 1.4801 - val_accuracy: 0.6954\n",
      "Epoch 23/50\n",
      "49/49 [==============================] - 0s 9ms/step - loss: 0.5116 - accuracy: 0.8486 - val_loss: 1.5445 - val_accuracy: 0.6774\n",
      "Epoch 24/50\n",
      "49/49 [==============================] - 1s 13ms/step - loss: 0.5391 - accuracy: 0.8466 - val_loss: 1.5027 - val_accuracy: 0.7147\n",
      "Epoch 25/50\n",
      "49/49 [==============================] - 0s 8ms/step - loss: 0.5267 - accuracy: 0.8450 - val_loss: 1.5845 - val_accuracy: 0.6902\n",
      "Epoch 26/50\n",
      "49/49 [==============================] - 1s 17ms/step - loss: 0.4701 - accuracy: 0.8493 - val_loss: 1.5030 - val_accuracy: 0.7134\n",
      "Epoch 27/50\n",
      "49/49 [==============================] - 1s 18ms/step - loss: 0.4676 - accuracy: 0.8631 - val_loss: 1.6277 - val_accuracy: 0.7069\n",
      "Epoch 28/50\n",
      "49/49 [==============================] - 1s 14ms/step - loss: 0.4731 - accuracy: 0.8576 - val_loss: 1.5314 - val_accuracy: 0.7057\n",
      "Epoch 29/50\n",
      "49/49 [==============================] - 0s 9ms/step - loss: 0.4610 - accuracy: 0.8644 - val_loss: 1.6514 - val_accuracy: 0.7275\n",
      "Epoch 30/50\n",
      "49/49 [==============================] - 1s 17ms/step - loss: 0.5327 - accuracy: 0.8525 - val_loss: 1.4460 - val_accuracy: 0.6967\n",
      "Epoch 31/50\n",
      "49/49 [==============================] - 0s 10ms/step - loss: 0.5833 - accuracy: 0.8480 - val_loss: 1.4496 - val_accuracy: 0.7121\n",
      "Epoch 32/50\n",
      "49/49 [==============================] - 0s 9ms/step - loss: 0.4053 - accuracy: 0.8711 - val_loss: 1.3805 - val_accuracy: 0.7455\n",
      "Epoch 33/50\n",
      "49/49 [==============================] - 1s 14ms/step - loss: 0.4180 - accuracy: 0.8714 - val_loss: 1.3863 - val_accuracy: 0.7352\n",
      "Epoch 34/50\n",
      "49/49 [==============================] - 1s 13ms/step - loss: 0.3697 - accuracy: 0.8920 - val_loss: 1.4156 - val_accuracy: 0.7481\n",
      "Epoch 35/50\n",
      "49/49 [==============================] - 0s 10ms/step - loss: 0.3638 - accuracy: 0.8870 - val_loss: 1.4744 - val_accuracy: 0.7404\n",
      "Epoch 36/50\n",
      "49/49 [==============================] - 1s 12ms/step - loss: 0.3442 - accuracy: 0.8947 - val_loss: 1.4685 - val_accuracy: 0.7455\n",
      "Epoch 37/50\n",
      "49/49 [==============================] - 1s 10ms/step - loss: 0.3997 - accuracy: 0.8788 - val_loss: 1.4788 - val_accuracy: 0.7519\n",
      "Epoch 38/50\n",
      "49/49 [==============================] - 1s 10ms/step - loss: 0.3245 - accuracy: 0.9012 - val_loss: 1.5184 - val_accuracy: 0.7326\n",
      "Epoch 39/50\n",
      "49/49 [==============================] - 0s 9ms/step - loss: 0.3449 - accuracy: 0.8847 - val_loss: 1.4921 - val_accuracy: 0.7481\n",
      "Epoch 40/50\n",
      "49/49 [==============================] - 1s 14ms/step - loss: 0.3065 - accuracy: 0.9119 - val_loss: 1.5178 - val_accuracy: 0.7494\n",
      "Epoch 41/50\n",
      "49/49 [==============================] - 1s 13ms/step - loss: 0.3208 - accuracy: 0.9026 - val_loss: 1.5793 - val_accuracy: 0.7494\n",
      "Epoch 42/50\n",
      "49/49 [==============================] - 1s 16ms/step - loss: 0.3316 - accuracy: 0.8937 - val_loss: 1.5679 - val_accuracy: 0.7455\n",
      "Epoch 43/50\n",
      "49/49 [==============================] - 1s 13ms/step - loss: 0.3102 - accuracy: 0.9066 - val_loss: 1.6361 - val_accuracy: 0.7275\n",
      "Epoch 44/50\n",
      "49/49 [==============================] - 1s 13ms/step - loss: 0.2995 - accuracy: 0.9134 - val_loss: 1.6307 - val_accuracy: 0.7404\n",
      "Epoch 45/50\n",
      "49/49 [==============================] - 1s 13ms/step - loss: 0.2746 - accuracy: 0.9239 - val_loss: 1.7922 - val_accuracy: 0.7326\n",
      "Epoch 46/50\n",
      "49/49 [==============================] - 1s 13ms/step - loss: 0.3791 - accuracy: 0.9015 - val_loss: 1.7902 - val_accuracy: 0.7288\n",
      "Epoch 47/50\n",
      "49/49 [==============================] - 1s 13ms/step - loss: 0.2900 - accuracy: 0.9101 - val_loss: 1.7167 - val_accuracy: 0.7404\n",
      "Epoch 48/50\n",
      "49/49 [==============================] - 1s 10ms/step - loss: 0.2738 - accuracy: 0.9155 - val_loss: 1.7332 - val_accuracy: 0.7429\n",
      "Epoch 49/50\n",
      "49/49 [==============================] - 0s 8ms/step - loss: 0.2842 - accuracy: 0.9195 - val_loss: 1.7341 - val_accuracy: 0.7468\n",
      "Epoch 50/50\n",
      "49/49 [==============================] - 0s 10ms/step - loss: 0.3062 - accuracy: 0.9130 - val_loss: 1.7463 - val_accuracy: 0.7455\n"
     ]
    }
   ],
   "source": [
    "base = Sequential()\n",
    "base.add(Conv2D(64, (3,3), activation='relu', input_shape=input_dim))\n",
    "base.add(Flatten())\n",
    "base.add(Dense(64, activation='relu'))\n",
    "base.add(Dense(10, activation='softmax'))\n",
    "    \n",
    "base.compile(optimizer='adam',\n",
    "             loss='categorical_crossentropy',\n",
    "             metrics=['accuracy']\n",
    "                       )\n",
    "    \n",
    "base_hist = base.fit(X_train, y_train, epochs=50, batch_size=32,\n",
    "                    validation_data=(X_val, y_val))"
   ]
  },
  {
   "cell_type": "code",
   "execution_count": 584,
   "metadata": {},
   "outputs": [
    {
     "name": "stdout",
     "output_type": "stream",
     "text": [
      "Model: \"sequential_93\"\n",
      "_________________________________________________________________\n",
      "Layer (type)                 Output Shape              Param #   \n",
      "=================================================================\n",
      "conv2d_101 (Conv2D)          (None, 14, 6, 64)         640       \n",
      "_________________________________________________________________\n",
      "flatten_84 (Flatten)         (None, 5376)              0         \n",
      "_________________________________________________________________\n",
      "dense_171 (Dense)            (None, 64)                344128    \n",
      "_________________________________________________________________\n",
      "dense_172 (Dense)            (None, 10)                650       \n",
      "=================================================================\n",
      "Total params: 345,418\n",
      "Trainable params: 345,418\n",
      "Non-trainable params: 0\n",
      "_________________________________________________________________\n"
     ]
    }
   ],
   "source": [
    "base.summary()"
   ]
  },
  {
   "cell_type": "code",
   "execution_count": 580,
   "metadata": {},
   "outputs": [],
   "source": [
    "base_hist1 = pd.DataFrame(base_hist.history)"
   ]
  },
  {
   "cell_type": "code",
   "execution_count": 581,
   "metadata": {
    "scrolled": false
   },
   "outputs": [
    {
     "data": {
      "image/png": "[encoded data removed]",
      "text/plain": [
       "<Figure size 1440x576 with 1 Axes>"
      ]
     },
     "metadata": {
      "needs_background": "light"
     },
     "output_type": "display_data"
    },
    {
     "data": {
      "image/png": "[encoded data removed]",
      "text/plain": [
       "<Figure size 1440x576 with 1 Axes>"
      ]
     },
     "metadata": {
      "needs_background": "light"
     },
     "output_type": "display_data"
    }
   ],
   "source": [
    "plt.figure(figsize=(20,8))\n",
    "plt.plot(base_hist1[['loss','val_loss']])\n",
    "plt.legend(['loss','val_loss'])\n",
    "plt.title('Loss Per Epochs')\n",
    "plt.xlabel('Epochs')\n",
    "plt.ylabel('Loss')\n",
    "plt.show()\n",
    "\n",
    "plt.figure(figsize=(20,8))\n",
    "plt.plot(base_hist1[['accuracy','val_accuracy']])\n",
    "plt.legend(['accuracy','val_accuracy'])\n",
    "plt.title('Accuracy Per Epochs')\n",
    "plt.xlabel('Epochs')\n",
    "plt.ylabel('Accuracy')\n",
    "plt.show()"
   ]
  },
  {
   "cell_type": "code",
   "execution_count": 582,
   "metadata": {
    "scrolled": false
   },
   "outputs": [
    {
     "name": "stdout",
     "output_type": "stream",
     "text": [
      "\n",
      "Confusion Matrix :\n",
      "\n",
      "\n",
      "[[255   1  55  14  61   9   4  13   1  87]\n",
      " [  5 139  24   7  20   9   0   4   1  12]\n",
      " [ 37   3 275  55  28  29   1  18  19  35]\n",
      " [ 14   6  87 257  40  16   0  10  35  35]\n",
      " [ 20  22  56  45 209  14   1  90   4  39]\n",
      " [150   6  92   5   3 130   0  42   1  54]\n",
      " [  6   0  40   6  11   3 103  11   1   3]\n",
      " [ 10   2  28   8 243   4  17  83   0  57]\n",
      " [ 16  10  45  79  15  18   0   9 196   5]\n",
      " [ 34  18  56  44  41  18   0  40  21 228]]\n",
      "\n",
      "\n",
      "Classification Report : \n",
      "\n",
      "               precision    recall  f1-score   support\n",
      "\n",
      "           0       0.47      0.51      0.49       500\n",
      "           1       0.67      0.63      0.65       221\n",
      "           2       0.36      0.55      0.44       500\n",
      "           3       0.49      0.51      0.50       500\n",
      "           4       0.31      0.42      0.36       500\n",
      "           5       0.52      0.27      0.35       483\n",
      "           6       0.82      0.56      0.66       184\n",
      "           7       0.26      0.18      0.22       452\n",
      "           8       0.70      0.50      0.58       393\n",
      "           9       0.41      0.46      0.43       500\n",
      "\n",
      "    accuracy                           0.44      4233\n",
      "   macro avg       0.50      0.46      0.47      4233\n",
      "weighted avg       0.46      0.44      0.44      4233\n",
      "\n"
     ]
    }
   ],
   "source": [
    "ytrue = np.argmax(y_test,axis=1)\n",
    "ypred = np.argmax(base.predict(X_test),axis=1)\n",
    "print('\\nConfusion Matrix :\\n\\n')\n",
    "print(confusion_matrix(ytrue,ypred))\n",
    "print('\\n\\nClassification Report : \\n\\n',classification_report(ytrue,ypred))"
   ]
  },
  {
   "cell_type": "code",
   "execution_count": 583,
   "metadata": {},
   "outputs": [
    {
     "data": {
      "image/png": "[encoded data removed]",
      "text/plain": [
       "<Figure size 720x720 with 2 Axes>"
      ]
     },
     "metadata": {
      "needs_background": "light"
     },
     "output_type": "display_data"
    }
   ],
   "source": [
    "cm = confusion_matrix(ytrue, ypred)\n",
    "cm_plt = ConfusionMatrixDisplay(confusion_matrix=cm,\n",
    "                               display_labels=classes)\n",
    "\n",
    "fig, ax = plt.subplots(figsize=(10,10))\n",
    "\n",
    "cm_plt.plot(ax=ax)\n",
    "plt.xticks(rotation = 45)\n",
    "plt.show()"
   ]
  },
  {
   "cell_type": "code",
   "execution_count": 585,
   "metadata": {},
   "outputs": [],
   "source": [
    "y_pred = base.predict_classes(X_test)"
   ]
  },
  {
   "cell_type": "code",
   "execution_count": 586,
   "metadata": {},
   "outputs": [
    {
     "name": "stdout",
     "output_type": "stream",
     "text": [
      "Accuracy: 0.44294826364280654\n"
     ]
    }
   ],
   "source": [
    "print(\"Accuracy:\",metrics.accuracy_score(np.argmax(y_test, axis=1),y_pred))"
   ]
  },
  {
   "cell_type": "code",
   "execution_count": 588,
   "metadata": {},
   "outputs": [
    {
     "name": "stdout",
     "output_type": "stream",
     "text": [
      "Val Accuracy: 0.7455012798309326\n",
      "Train Accuracy: 0.923521876335144\n"
     ]
    }
   ],
   "source": [
    "predictions_base = base.predict(X_test)\n",
    "score_val, acc_val = base.evaluate(X_val, y_val, verbose=0)\n",
    "score_train, acc_train = base.evaluate(X_train, y_train, verbose=0)\n",
    "print(f'Val Accuracy: {acc_val}')\n",
    "print(f'Train Accuracy: {acc_train}')"
   ]
  },
  {
   "cell_type": "markdown",
   "metadata": {},
   "source": [
    "## Model 3 - KFold"
   ]
  },
  {
   "cell_type": "markdown",
   "metadata": {},
   "source": [
    "## K-Fold"
   ]
  },
  {
   "cell_type": "code",
   "execution_count": 363,
   "metadata": {},
   "outputs": [],
   "source": [
    "Kmodel = KerasClassifier(build_fn=base, verbose=1)"
   ]
  },
  {
   "cell_type": "code",
   "execution_count": 371,
   "metadata": {},
   "outputs": [],
   "source": [
    "kFold = StratifiedKFold(n_splits=10, shuffle=True, random_state=44)"
   ]
  },
  {
   "cell_type": "code",
   "execution_count": 591,
   "metadata": {},
   "outputs": [
    {
     "data": {
      "text/plain": [
       "(4499, 128)"
      ]
     },
     "execution_count": 591,
     "metadata": {},
     "output_type": "execute_result"
    }
   ],
   "source": [
    "X_train = np.array(feature)\n",
    "X_train.shape"
   ]
  },
  {
   "cell_type": "code",
   "execution_count": 592,
   "metadata": {},
   "outputs": [
    {
     "data": {
      "text/plain": [
       "(4499,)"
      ]
     },
     "execution_count": 592,
     "metadata": {},
     "output_type": "execute_result"
    }
   ],
   "source": [
    "y_train = np.array(label)\n",
    "y_train.shape"
   ]
  },
  {
   "cell_type": "code",
   "execution_count": 594,
   "metadata": {},
   "outputs": [],
   "source": [
    "X_train = X_train.reshape(4499, 16, 8,1)"
   ]
  },
  {
   "cell_type": "code",
   "execution_count": 595,
   "metadata": {},
   "outputs": [
    {
     "name": "stdout",
     "output_type": "stream",
     "text": [
      "Epoch 1/50\n",
      "127/127 [==============================] - 2s 8ms/step - loss: 2.4521 - accuracy: 0.2841\n",
      "Epoch 2/50\n",
      "127/127 [==============================] - 1s 7ms/step - loss: 1.4545 - accuracy: 0.5200\n",
      "Epoch 3/50\n",
      "127/127 [==============================] - 1s 8ms/step - loss: 1.3204 - accuracy: 0.5801\n",
      "Epoch 4/50\n",
      "127/127 [==============================] - 1s 7ms/step - loss: 1.1044 - accuracy: 0.6556\n",
      "Epoch 5/50\n",
      "127/127 [==============================] - 1s 7ms/step - loss: 0.9932 - accuracy: 0.6887\n",
      "Epoch 6/50\n",
      "127/127 [==============================] - 1s 7ms/step - loss: 0.9644 - accuracy: 0.7139\n",
      "Epoch 7/50\n",
      "127/127 [==============================] - 1s 7ms/step - loss: 0.8006 - accuracy: 0.7486\n",
      "Epoch 8/50\n",
      "127/127 [==============================] - 1s 7ms/step - loss: 0.7626 - accuracy: 0.7696\n",
      "Epoch 9/50\n",
      "127/127 [==============================] - 1s 8ms/step - loss: 0.7377 - accuracy: 0.7760\n",
      "Epoch 10/50\n",
      "127/127 [==============================] - 1s 7ms/step - loss: 0.6909 - accuracy: 0.7917\n",
      "Epoch 11/50\n",
      "127/127 [==============================] - 1s 7ms/step - loss: 0.6099 - accuracy: 0.8014\n",
      "Epoch 12/50\n",
      "127/127 [==============================] - 1s 7ms/step - loss: 0.5908 - accuracy: 0.8082\n",
      "Epoch 13/50\n",
      "127/127 [==============================] - 1s 6ms/step - loss: 0.7431 - accuracy: 0.7988\n",
      "Epoch 14/50\n",
      "127/127 [==============================] - 1s 7ms/step - loss: 0.6364 - accuracy: 0.8149\n",
      "Epoch 15/50\n",
      "127/127 [==============================] - 1s 7ms/step - loss: 0.5456 - accuracy: 0.8224\n",
      "Epoch 16/50\n",
      "127/127 [==============================] - 1s 7ms/step - loss: 0.5537 - accuracy: 0.8335\n",
      "Epoch 17/50\n",
      "127/127 [==============================] - 1s 7ms/step - loss: 0.4776 - accuracy: 0.8515\n",
      "Epoch 18/50\n",
      "127/127 [==============================] - 1s 7ms/step - loss: 0.5005 - accuracy: 0.8521\n",
      "Epoch 19/50\n",
      "127/127 [==============================] - 1s 7ms/step - loss: 0.4290 - accuracy: 0.8686\n",
      "Epoch 20/50\n",
      "127/127 [==============================] - 1s 8ms/step - loss: 0.4112 - accuracy: 0.8720\n",
      "Epoch 21/50\n",
      "127/127 [==============================] - 1s 7ms/step - loss: 0.3879 - accuracy: 0.8816\n",
      "Epoch 22/50\n",
      "127/127 [==============================] - 1s 8ms/step - loss: 0.3909 - accuracy: 0.8829\n",
      "Epoch 23/50\n",
      "127/127 [==============================] - 1s 8ms/step - loss: 0.3849 - accuracy: 0.8831\n",
      "Epoch 24/50\n",
      "127/127 [==============================] - 1s 7ms/step - loss: 0.4590 - accuracy: 0.8770\n",
      "Epoch 25/50\n",
      "127/127 [==============================] - 1s 7ms/step - loss: 0.3956 - accuracy: 0.8800\n",
      "Epoch 26/50\n",
      "127/127 [==============================] - 1s 7ms/step - loss: 0.3543 - accuracy: 0.8912\n",
      "Epoch 27/50\n",
      "127/127 [==============================] - 1s 8ms/step - loss: 0.3820 - accuracy: 0.8889\n",
      "Epoch 28/50\n",
      "127/127 [==============================] - 1s 8ms/step - loss: 0.3225 - accuracy: 0.9046\n",
      "Epoch 29/50\n",
      "127/127 [==============================] - 1s 7ms/step - loss: 0.4151 - accuracy: 0.8837\n",
      "Epoch 30/50\n",
      "127/127 [==============================] - 1s 8ms/step - loss: 0.5034 - accuracy: 0.8929\n",
      "Epoch 31/50\n",
      "127/127 [==============================] - 1s 7ms/step - loss: 0.4714 - accuracy: 0.8720\n",
      "Epoch 32/50\n",
      "127/127 [==============================] - 1s 7ms/step - loss: 0.3636 - accuracy: 0.9017\n",
      "Epoch 33/50\n",
      "127/127 [==============================] - 1s 7ms/step - loss: 0.3070 - accuracy: 0.8980\n",
      "Epoch 34/50\n",
      "127/127 [==============================] - 1s 7ms/step - loss: 0.2738 - accuracy: 0.9172\n",
      "Epoch 35/50\n",
      "127/127 [==============================] - 1s 8ms/step - loss: 0.2803 - accuracy: 0.9111\n",
      "Epoch 36/50\n",
      "127/127 [==============================] - 1s 7ms/step - loss: 0.3711 - accuracy: 0.9066\n",
      "Epoch 37/50\n",
      "127/127 [==============================] - 1s 6ms/step - loss: 0.2823 - accuracy: 0.9113\n",
      "Epoch 38/50\n",
      "127/127 [==============================] - 1s 7ms/step - loss: 0.2454 - accuracy: 0.9233\n",
      "Epoch 39/50\n",
      "127/127 [==============================] - 1s 7ms/step - loss: 0.2403 - accuracy: 0.9288\n",
      "Epoch 40/50\n",
      "127/127 [==============================] - 1s 7ms/step - loss: 0.2368 - accuracy: 0.9322\n",
      "Epoch 41/50\n",
      "127/127 [==============================] - 1s 7ms/step - loss: 0.2317 - accuracy: 0.9263\n",
      "Epoch 42/50\n",
      "127/127 [==============================] - 1s 7ms/step - loss: 0.2464 - accuracy: 0.9208\n",
      "Epoch 43/50\n",
      "127/127 [==============================] - 1s 7ms/step - loss: 0.2371 - accuracy: 0.9268\n",
      "Epoch 44/50\n",
      "127/127 [==============================] - 1s 7ms/step - loss: 0.2548 - accuracy: 0.9233\n",
      "Epoch 45/50\n",
      "127/127 [==============================] - 1s 7ms/step - loss: 0.3842 - accuracy: 0.8981\n",
      "Epoch 46/50\n",
      "127/127 [==============================] - 1s 6ms/step - loss: 0.2903 - accuracy: 0.9170\n",
      "Epoch 47/50\n",
      "127/127 [==============================] - 1s 7ms/step - loss: 0.2266 - accuracy: 0.9358\n",
      "Epoch 48/50\n",
      "127/127 [==============================] - 1s 7ms/step - loss: 0.2525 - accuracy: 0.9306\n",
      "Epoch 49/50\n",
      "127/127 [==============================] - 1s 7ms/step - loss: 0.2175 - accuracy: 0.9367\n",
      "Epoch 50/50\n",
      "127/127 [==============================] - 1s 7ms/step - loss: 0.1863 - accuracy: 0.9430\n",
      "Epoch 1/50\n",
      "127/127 [==============================] - 1s 8ms/step - loss: 2.3701 - accuracy: 0.3159\n",
      "Epoch 2/50\n",
      "127/127 [==============================] - 1s 7ms/step - loss: 1.4542 - accuracy: 0.5181\n",
      "Epoch 3/50\n",
      "127/127 [==============================] - 1s 8ms/step - loss: 1.2038 - accuracy: 0.6034\n",
      "Epoch 4/50\n",
      "127/127 [==============================] - 1s 8ms/step - loss: 1.0691 - accuracy: 0.6565\n",
      "Epoch 5/50\n",
      "127/127 [==============================] - 1s 7ms/step - loss: 0.9901 - accuracy: 0.6927\n",
      "Epoch 6/50\n",
      "127/127 [==============================] - 1s 7ms/step - loss: 0.8487 - accuracy: 0.7292\n",
      "Epoch 7/50\n",
      "127/127 [==============================] - 1s 8ms/step - loss: 0.9718 - accuracy: 0.7289\n",
      "Epoch 8/50\n",
      "127/127 [==============================] - 1s 7ms/step - loss: 0.8616 - accuracy: 0.7591\n",
      "Epoch 9/50\n",
      "127/127 [==============================] - 1s 6ms/step - loss: 0.7215 - accuracy: 0.7677\n",
      "Epoch 10/50\n",
      "127/127 [==============================] - 1s 7ms/step - loss: 0.6265 - accuracy: 0.8124\n",
      "Epoch 11/50\n",
      "127/127 [==============================] - 1s 8ms/step - loss: 0.6378 - accuracy: 0.7908\n",
      "Epoch 12/50\n",
      "127/127 [==============================] - 1s 7ms/step - loss: 0.5685 - accuracy: 0.8134\n",
      "Epoch 13/50\n",
      "127/127 [==============================] - 1s 7ms/step - loss: 0.5403 - accuracy: 0.8295\n",
      "Epoch 14/50\n",
      "127/127 [==============================] - 1s 7ms/step - loss: 0.5774 - accuracy: 0.8205\n",
      "Epoch 15/50\n",
      "127/127 [==============================] - 1s 6ms/step - loss: 0.5318 - accuracy: 0.8393\n",
      "Epoch 16/50\n",
      "127/127 [==============================] - 1s 7ms/step - loss: 0.5071 - accuracy: 0.8552\n",
      "Epoch 17/50\n",
      "127/127 [==============================] - 1s 8ms/step - loss: 0.4499 - accuracy: 0.8602\n",
      "Epoch 18/50\n",
      "127/127 [==============================] - 1s 7ms/step - loss: 0.4649 - accuracy: 0.8604\n",
      "Epoch 19/50\n",
      "127/127 [==============================] - 1s 7ms/step - loss: 0.4527 - accuracy: 0.8667\n",
      "Epoch 20/50\n",
      "127/127 [==============================] - 1s 6ms/step - loss: 0.4996 - accuracy: 0.8569\n",
      "Epoch 21/50\n",
      "127/127 [==============================] - 1s 7ms/step - loss: 0.4080 - accuracy: 0.8790\n",
      "Epoch 22/50\n",
      "127/127 [==============================] - 1s 7ms/step - loss: 0.4000 - accuracy: 0.8730\n",
      "Epoch 23/50\n",
      "127/127 [==============================] - 1s 7ms/step - loss: 0.4108 - accuracy: 0.8759\n",
      "Epoch 24/50\n",
      "127/127 [==============================] - 1s 7ms/step - loss: 0.3695 - accuracy: 0.8923\n",
      "Epoch 25/50\n",
      "127/127 [==============================] - 1s 7ms/step - loss: 0.3916 - accuracy: 0.8699\n",
      "Epoch 26/50\n",
      "127/127 [==============================] - 1s 7ms/step - loss: 0.3736 - accuracy: 0.8824\n",
      "Epoch 27/50\n",
      "127/127 [==============================] - 1s 7ms/step - loss: 0.4339 - accuracy: 0.8927\n",
      "Epoch 28/50\n",
      "127/127 [==============================] - 1s 7ms/step - loss: 0.3478 - accuracy: 0.9013\n",
      "Epoch 29/50\n",
      "127/127 [==============================] - 1s 8ms/step - loss: 0.3565 - accuracy: 0.8991\n",
      "Epoch 30/50\n",
      "127/127 [==============================] - 1s 8ms/step - loss: 0.4348 - accuracy: 0.8968\n",
      "Epoch 31/50\n",
      "127/127 [==============================] - 1s 8ms/step - loss: 0.3299 - accuracy: 0.9084\n",
      "Epoch 32/50\n"
     ]
    },
    {
     "name": "stdout",
     "output_type": "stream",
     "text": [
      "127/127 [==============================] - 1s 7ms/step - loss: 0.3273 - accuracy: 0.8967\n",
      "Epoch 33/50\n",
      "127/127 [==============================] - 1s 8ms/step - loss: 0.2785 - accuracy: 0.9119\n",
      "Epoch 34/50\n",
      "127/127 [==============================] - 1s 8ms/step - loss: 0.2712 - accuracy: 0.9183\n",
      "Epoch 35/50\n",
      "127/127 [==============================] - 1s 8ms/step - loss: 0.2792 - accuracy: 0.9171\n",
      "Epoch 36/50\n",
      "127/127 [==============================] - 1s 7ms/step - loss: 0.2910 - accuracy: 0.9282\n",
      "Epoch 37/50\n",
      "127/127 [==============================] - 1s 7ms/step - loss: 0.2458 - accuracy: 0.9176\n",
      "Epoch 38/50\n",
      "127/127 [==============================] - 1s 9ms/step - loss: 0.3091 - accuracy: 0.9118\n",
      "Epoch 39/50\n",
      "127/127 [==============================] - 1s 9ms/step - loss: 0.2406 - accuracy: 0.9206\n",
      "Epoch 40/50\n",
      "127/127 [==============================] - 1s 11ms/step - loss: 0.2369 - accuracy: 0.9337\n",
      "Epoch 41/50\n",
      "127/127 [==============================] - 1s 8ms/step - loss: 0.2445 - accuracy: 0.9285\n",
      "Epoch 42/50\n",
      "127/127 [==============================] - 1s 8ms/step - loss: 0.2230 - accuracy: 0.9319\n",
      "Epoch 43/50\n",
      "127/127 [==============================] - 1s 8ms/step - loss: 0.3549 - accuracy: 0.9137\n",
      "Epoch 44/50\n",
      "127/127 [==============================] - 1s 9ms/step - loss: 0.3496 - accuracy: 0.9025\n",
      "Epoch 45/50\n",
      "127/127 [==============================] - 1s 8ms/step - loss: 0.2561 - accuracy: 0.9156\n",
      "Epoch 46/50\n",
      "127/127 [==============================] - 1s 8ms/step - loss: 0.2483 - accuracy: 0.9228\n",
      "Epoch 47/50\n",
      "127/127 [==============================] - 1s 8ms/step - loss: 0.2124 - accuracy: 0.9351\n",
      "Epoch 48/50\n",
      "127/127 [==============================] - 1s 7ms/step - loss: 0.2030 - accuracy: 0.9367\n",
      "Epoch 49/50\n",
      "127/127 [==============================] - 1s 9ms/step - loss: 0.2334 - accuracy: 0.9276\n",
      "Epoch 50/50\n",
      "127/127 [==============================] - 1s 10ms/step - loss: 0.1892 - accuracy: 0.9382 0s - loss: 0.1900 - ac\n",
      "Epoch 1/50\n",
      "127/127 [==============================] - 2s 9ms/step - loss: 2.1688 - accuracy: 0.3435\n",
      "Epoch 2/50\n",
      "127/127 [==============================] - 1s 7ms/step - loss: 1.4296 - accuracy: 0.5513\n",
      "Epoch 3/50\n",
      "127/127 [==============================] - 1s 6ms/step - loss: 1.1475 - accuracy: 0.6350\n",
      "Epoch 4/50\n",
      "127/127 [==============================] - 1s 7ms/step - loss: 1.0211 - accuracy: 0.6676\n",
      "Epoch 5/50\n",
      "127/127 [==============================] - 1s 6ms/step - loss: 0.9650 - accuracy: 0.7126\n",
      "Epoch 6/50\n",
      "127/127 [==============================] - 1s 7ms/step - loss: 0.9549 - accuracy: 0.7087\n",
      "Epoch 7/50\n",
      "127/127 [==============================] - 1s 8ms/step - loss: 0.8130 - accuracy: 0.7360\n",
      "Epoch 8/50\n",
      "127/127 [==============================] - 1s 7ms/step - loss: 0.8201 - accuracy: 0.7785\n",
      "Epoch 9/50\n",
      "127/127 [==============================] - 1s 8ms/step - loss: 0.7572 - accuracy: 0.7687\n",
      "Epoch 10/50\n",
      "127/127 [==============================] - 1s 8ms/step - loss: 0.8557 - accuracy: 0.7698\n",
      "Epoch 11/50\n",
      "127/127 [==============================] - 1s 6ms/step - loss: 0.6919 - accuracy: 0.7832\n",
      "Epoch 12/50\n",
      "127/127 [==============================] - 1s 8ms/step - loss: 0.5831 - accuracy: 0.8189\n",
      "Epoch 13/50\n",
      "127/127 [==============================] - 1s 10ms/step - loss: 0.5990 - accuracy: 0.8185\n",
      "Epoch 14/50\n",
      "127/127 [==============================] - 1s 10ms/step - loss: 0.5857 - accuracy: 0.8208\n",
      "Epoch 15/50\n",
      "127/127 [==============================] - 1s 9ms/step - loss: 0.5166 - accuracy: 0.8491\n",
      "Epoch 16/50\n",
      "127/127 [==============================] - 1s 10ms/step - loss: 0.4721 - accuracy: 0.8533\n",
      "Epoch 17/50\n",
      "127/127 [==============================] - 1s 7ms/step - loss: 0.5411 - accuracy: 0.8458\n",
      "Epoch 18/50\n",
      "127/127 [==============================] - 1s 10ms/step - loss: 0.5006 - accuracy: 0.8380\n",
      "Epoch 19/50\n",
      "127/127 [==============================] - 1s 9ms/step - loss: 0.4886 - accuracy: 0.8522\n",
      "Epoch 20/50\n",
      "127/127 [==============================] - 1s 9ms/step - loss: 0.4185 - accuracy: 0.8678\n",
      "Epoch 21/50\n",
      "127/127 [==============================] - 1s 10ms/step - loss: 0.4108 - accuracy: 0.8745\n",
      "Epoch 22/50\n",
      "127/127 [==============================] - 1s 9ms/step - loss: 0.4737 - accuracy: 0.8697\n",
      "Epoch 23/50\n",
      "127/127 [==============================] - 1s 8ms/step - loss: 0.4118 - accuracy: 0.8699\n",
      "Epoch 24/50\n",
      "127/127 [==============================] - 1s 9ms/step - loss: 0.7211 - accuracy: 0.8559\n",
      "Epoch 25/50\n",
      "127/127 [==============================] - 1s 11ms/step - loss: 0.3929 - accuracy: 0.8928\n",
      "Epoch 26/50\n",
      "127/127 [==============================] - 1s 10ms/step - loss: 0.3898 - accuracy: 0.8916\n",
      "Epoch 27/50\n",
      "127/127 [==============================] - 2s 12ms/step - loss: 0.3593 - accuracy: 0.8905\n",
      "Epoch 28/50\n",
      "127/127 [==============================] - 1s 8ms/step - loss: 0.3436 - accuracy: 0.8950\n",
      "Epoch 29/50\n",
      "127/127 [==============================] - 1s 10ms/step - loss: 0.3514 - accuracy: 0.8974\n",
      "Epoch 30/50\n",
      "127/127 [==============================] - 1s 11ms/step - loss: 0.3415 - accuracy: 0.8968\n",
      "Epoch 31/50\n",
      "127/127 [==============================] - 1s 8ms/step - loss: 0.2760 - accuracy: 0.9154\n",
      "Epoch 32/50\n",
      "127/127 [==============================] - 1s 9ms/step - loss: 0.2757 - accuracy: 0.9181\n",
      "Epoch 33/50\n",
      "127/127 [==============================] - 1s 11ms/step - loss: 0.2713 - accuracy: 0.9159\n",
      "Epoch 34/50\n",
      "127/127 [==============================] - 1s 9ms/step - loss: 0.2425 - accuracy: 0.9301\n",
      "Epoch 35/50\n",
      "127/127 [==============================] - 1s 8ms/step - loss: 0.5031 - accuracy: 0.8881\n",
      "Epoch 36/50\n",
      "127/127 [==============================] - 1s 9ms/step - loss: 0.3534 - accuracy: 0.8984\n",
      "Epoch 37/50\n",
      "127/127 [==============================] - 2s 12ms/step - loss: 0.3333 - accuracy: 0.8950\n",
      "Epoch 38/50\n",
      "127/127 [==============================] - 1s 10ms/step - loss: 0.2950 - accuracy: 0.9097\n",
      "Epoch 39/50\n",
      "127/127 [==============================] - 2s 14ms/step - loss: 0.2527 - accuracy: 0.9174\n",
      "Epoch 40/50\n",
      "127/127 [==============================] - 2s 15ms/step - loss: 0.2372 - accuracy: 0.9328\n",
      "Epoch 41/50\n",
      "127/127 [==============================] - 1s 10ms/step - loss: 0.2326 - accuracy: 0.9351\n",
      "Epoch 42/50\n",
      "127/127 [==============================] - 1s 10ms/step - loss: 0.2390 - accuracy: 0.9220\n",
      "Epoch 43/50\n",
      "127/127 [==============================] - 1s 8ms/step - loss: 0.2321 - accuracy: 0.9275\n",
      "Epoch 44/50\n",
      "127/127 [==============================] - 1s 8ms/step - loss: 0.2070 - accuracy: 0.9320\n",
      "Epoch 45/50\n",
      "127/127 [==============================] - 1s 7ms/step - loss: 0.2017 - accuracy: 0.9378\n",
      "Epoch 46/50\n",
      "127/127 [==============================] - 1s 7ms/step - loss: 0.1853 - accuracy: 0.9407\n",
      "Epoch 47/50\n",
      "127/127 [==============================] - 1s 8ms/step - loss: 0.1889 - accuracy: 0.9427\n",
      "Epoch 48/50\n",
      "127/127 [==============================] - 1s 9ms/step - loss: 0.2011 - accuracy: 0.9376\n",
      "Epoch 49/50\n",
      "127/127 [==============================] - 1s 9ms/step - loss: 0.2457 - accuracy: 0.9329\n",
      "Epoch 50/50\n",
      "127/127 [==============================] - 1s 9ms/step - loss: 0.2912 - accuracy: 0.9315\n",
      "Epoch 1/50\n",
      "127/127 [==============================] - 4s 23ms/step - loss: 2.1590 - accuracy: 0.3373\n",
      "Epoch 2/50\n",
      "127/127 [==============================] - 1s 11ms/step - loss: 1.4384 - accuracy: 0.5406\n",
      "Epoch 3/50\n",
      "127/127 [==============================] - 1s 12ms/step - loss: 1.2075 - accuracy: 0.5998\n",
      "Epoch 4/50\n",
      "127/127 [==============================] - 1s 9ms/step - loss: 1.0512 - accuracy: 0.6709\n",
      "Epoch 5/50\n",
      "127/127 [==============================] - 1s 8ms/step - loss: 0.9370 - accuracy: 0.7030\n",
      "Epoch 6/50\n",
      "127/127 [==============================] - 1s 9ms/step - loss: 0.8840 - accuracy: 0.7185\n",
      "Epoch 7/50\n",
      "127/127 [==============================] - 1s 8ms/step - loss: 0.7596 - accuracy: 0.7599\n",
      "Epoch 8/50\n",
      "127/127 [==============================] - 1s 10ms/step - loss: 0.8630 - accuracy: 0.7488\n",
      "Epoch 9/50\n",
      "127/127 [==============================] - 1s 11ms/step - loss: 0.7365 - accuracy: 0.7580\n",
      "Epoch 10/50\n",
      "127/127 [==============================] - 1s 10ms/step - loss: 0.6924 - accuracy: 0.7840\n",
      "Epoch 11/50\n",
      "127/127 [==============================] - 1s 9ms/step - loss: 0.6470 - accuracy: 0.7896\n",
      "Epoch 12/50\n"
     ]
    },
    {
     "name": "stdout",
     "output_type": "stream",
     "text": [
      "127/127 [==============================] - 1s 9ms/step - loss: 0.6297 - accuracy: 0.8096\n",
      "Epoch 13/50\n",
      "127/127 [==============================] - 1s 8ms/step - loss: 0.5695 - accuracy: 0.8244\n",
      "Epoch 14/50\n",
      "127/127 [==============================] - 1s 8ms/step - loss: 0.5843 - accuracy: 0.8259\n",
      "Epoch 15/50\n",
      "127/127 [==============================] - 1s 8ms/step - loss: 0.5037 - accuracy: 0.8322\n",
      "Epoch 16/50\n",
      "127/127 [==============================] - 1s 8ms/step - loss: 0.4647 - accuracy: 0.8612\n",
      "Epoch 17/50\n",
      "127/127 [==============================] - 1s 9ms/step - loss: 0.4959 - accuracy: 0.8474\n",
      "Epoch 18/50\n",
      "127/127 [==============================] - 1s 8ms/step - loss: 0.4736 - accuracy: 0.8628\n",
      "Epoch 19/50\n",
      "127/127 [==============================] - 1s 8ms/step - loss: 0.4284 - accuracy: 0.8688\n",
      "Epoch 20/50\n",
      "127/127 [==============================] - 1s 8ms/step - loss: 0.4724 - accuracy: 0.8574\n",
      "Epoch 21/50\n",
      "127/127 [==============================] - 1s 8ms/step - loss: 0.4168 - accuracy: 0.8697\n",
      "Epoch 22/50\n",
      "127/127 [==============================] - 1s 9ms/step - loss: 0.4703 - accuracy: 0.8807\n",
      "Epoch 23/50\n",
      "127/127 [==============================] - 1s 8ms/step - loss: 0.4152 - accuracy: 0.8870\n",
      "Epoch 24/50\n",
      "127/127 [==============================] - 1s 8ms/step - loss: 0.4099 - accuracy: 0.8764\n",
      "Epoch 25/50\n",
      "127/127 [==============================] - 1s 7ms/step - loss: 0.3904 - accuracy: 0.8908\n",
      "Epoch 26/50\n",
      "127/127 [==============================] - 1s 8ms/step - loss: 0.4988 - accuracy: 0.8688\n",
      "Epoch 27/50\n",
      "127/127 [==============================] - 1s 9ms/step - loss: 0.3003 - accuracy: 0.9054\n",
      "Epoch 28/50\n",
      "127/127 [==============================] - 1s 8ms/step - loss: 0.3469 - accuracy: 0.8943\n",
      "Epoch 29/50\n",
      "127/127 [==============================] - 1s 8ms/step - loss: 0.2993 - accuracy: 0.9141\n",
      "Epoch 30/50\n",
      "127/127 [==============================] - 1s 8ms/step - loss: 0.2905 - accuracy: 0.9183\n",
      "Epoch 31/50\n",
      "127/127 [==============================] - 1s 9ms/step - loss: 0.3008 - accuracy: 0.9109\n",
      "Epoch 32/50\n",
      "127/127 [==============================] - 1s 9ms/step - loss: 0.4926 - accuracy: 0.8880\n",
      "Epoch 33/50\n",
      "127/127 [==============================] - 1s 8ms/step - loss: 0.3088 - accuracy: 0.9100\n",
      "Epoch 34/50\n",
      "127/127 [==============================] - 1s 9ms/step - loss: 0.3152 - accuracy: 0.9041\n",
      "Epoch 35/50\n",
      "127/127 [==============================] - 1s 9ms/step - loss: 0.3053 - accuracy: 0.9208\n",
      "Epoch 36/50\n",
      "127/127 [==============================] - 1s 8ms/step - loss: 0.2739 - accuracy: 0.9154\n",
      "Epoch 37/50\n",
      "127/127 [==============================] - 1s 8ms/step - loss: 0.2421 - accuracy: 0.9238\n",
      "Epoch 38/50\n",
      "127/127 [==============================] - 1s 8ms/step - loss: 0.2408 - accuracy: 0.9275: \n",
      "Epoch 39/50\n",
      "127/127 [==============================] - 1s 9ms/step - loss: 0.2278 - accuracy: 0.9374\n",
      "Epoch 40/50\n",
      "127/127 [==============================] - 1s 8ms/step - loss: 0.2209 - accuracy: 0.9349\n",
      "Epoch 41/50\n",
      "127/127 [==============================] - 1s 9ms/step - loss: 0.2273 - accuracy: 0.9287\n",
      "Epoch 42/50\n",
      "127/127 [==============================] - 1s 8ms/step - loss: 0.2514 - accuracy: 0.9206\n",
      "Epoch 43/50\n",
      "127/127 [==============================] - 1s 9ms/step - loss: 0.2211 - accuracy: 0.9301\n",
      "Epoch 44/50\n",
      "127/127 [==============================] - 1s 9ms/step - loss: 0.2641 - accuracy: 0.9314\n",
      "Epoch 45/50\n",
      "127/127 [==============================] - 1s 8ms/step - loss: 0.4174 - accuracy: 0.8938\n",
      "Epoch 46/50\n",
      "127/127 [==============================] - 1s 8ms/step - loss: 0.2891 - accuracy: 0.9172\n",
      "Epoch 47/50\n",
      "127/127 [==============================] - 1s 8ms/step - loss: 0.2995 - accuracy: 0.9177\n",
      "Epoch 48/50\n",
      "127/127 [==============================] - 1s 9ms/step - loss: 0.2380 - accuracy: 0.9274\n",
      "Epoch 49/50\n",
      "127/127 [==============================] - 1s 8ms/step - loss: 0.2066 - accuracy: 0.9385\n",
      "Epoch 50/50\n",
      "127/127 [==============================] - 1s 7ms/step - loss: 0.1973 - accuracy: 0.9441\n",
      "Epoch 1/50\n",
      "127/127 [==============================] - 2s 8ms/step - loss: 2.3709 - accuracy: 0.3335\n",
      "Epoch 2/50\n",
      "127/127 [==============================] - 1s 8ms/step - loss: 1.4505 - accuracy: 0.5433\n",
      "Epoch 3/50\n",
      "127/127 [==============================] - 1s 7ms/step - loss: 1.1659 - accuracy: 0.6185\n",
      "Epoch 4/50\n",
      "127/127 [==============================] - 1s 7ms/step - loss: 1.0112 - accuracy: 0.6656\n",
      "Epoch 5/50\n",
      "127/127 [==============================] - 1s 8ms/step - loss: 1.0065 - accuracy: 0.6811\n",
      "Epoch 6/50\n",
      "127/127 [==============================] - 1s 7ms/step - loss: 0.8417 - accuracy: 0.7317\n",
      "Epoch 7/50\n",
      "127/127 [==============================] - 1s 8ms/step - loss: 0.8293 - accuracy: 0.7379\n",
      "Epoch 8/50\n",
      "127/127 [==============================] - 1s 7ms/step - loss: 0.8394 - accuracy: 0.7467\n",
      "Epoch 9/50\n",
      "127/127 [==============================] - 1s 8ms/step - loss: 0.6845 - accuracy: 0.7913\n",
      "Epoch 10/50\n",
      "127/127 [==============================] - 1s 7ms/step - loss: 0.7196 - accuracy: 0.7849\n",
      "Epoch 11/50\n",
      "127/127 [==============================] - 1s 7ms/step - loss: 0.6178 - accuracy: 0.8116\n",
      "Epoch 12/50\n",
      "127/127 [==============================] - 1s 7ms/step - loss: 0.6323 - accuracy: 0.7956\n",
      "Epoch 13/50\n",
      "127/127 [==============================] - 1s 7ms/step - loss: 0.6001 - accuracy: 0.8153\n",
      "Epoch 14/50\n",
      "127/127 [==============================] - 1s 7ms/step - loss: 0.5216 - accuracy: 0.8327\n",
      "Epoch 15/50\n",
      "127/127 [==============================] - 1s 7ms/step - loss: 0.5116 - accuracy: 0.8348\n",
      "Epoch 16/50\n",
      "127/127 [==============================] - 1s 7ms/step - loss: 0.4872 - accuracy: 0.8384\n",
      "Epoch 17/50\n",
      "127/127 [==============================] - 1s 7ms/step - loss: 0.5278 - accuracy: 0.8433\n",
      "Epoch 18/50\n",
      "127/127 [==============================] - 1s 7ms/step - loss: 0.5295 - accuracy: 0.8324\n",
      "Epoch 19/50\n",
      "127/127 [==============================] - 1s 7ms/step - loss: 0.5082 - accuracy: 0.8481\n",
      "Epoch 20/50\n",
      "127/127 [==============================] - 1s 7ms/step - loss: 0.5294 - accuracy: 0.8589\n",
      "Epoch 21/50\n",
      "127/127 [==============================] - 1s 8ms/step - loss: 0.5817 - accuracy: 0.8566\n",
      "Epoch 22/50\n",
      "127/127 [==============================] - 1s 7ms/step - loss: 0.4254 - accuracy: 0.8726: 0s - loss: 0.4075 - ac\n",
      "Epoch 23/50\n",
      "127/127 [==============================] - 1s 7ms/step - loss: 0.3884 - accuracy: 0.8782\n",
      "Epoch 24/50\n",
      "127/127 [==============================] - 1s 7ms/step - loss: 0.4288 - accuracy: 0.8795\n",
      "Epoch 25/50\n",
      "127/127 [==============================] - 1s 6ms/step - loss: 0.3792 - accuracy: 0.8740\n",
      "Epoch 26/50\n",
      "127/127 [==============================] - 1s 7ms/step - loss: 0.3662 - accuracy: 0.8790\n",
      "Epoch 27/50\n",
      "127/127 [==============================] - 1s 7ms/step - loss: 0.3931 - accuracy: 0.8914\n",
      "Epoch 28/50\n",
      "127/127 [==============================] - 1s 7ms/step - loss: 0.4229 - accuracy: 0.8837\n",
      "Epoch 29/50\n",
      "127/127 [==============================] - 1s 7ms/step - loss: 0.3861 - accuracy: 0.8851\n",
      "Epoch 30/50\n",
      "127/127 [==============================] - 1s 8ms/step - loss: 0.3141 - accuracy: 0.9033\n",
      "Epoch 31/50\n",
      "127/127 [==============================] - 1s 7ms/step - loss: 0.2877 - accuracy: 0.9053\n",
      "Epoch 32/50\n",
      "127/127 [==============================] - 1s 8ms/step - loss: 0.2863 - accuracy: 0.9119\n",
      "Epoch 33/50\n",
      "127/127 [==============================] - 1s 8ms/step - loss: 0.2635 - accuracy: 0.9238\n",
      "Epoch 34/50\n",
      "127/127 [==============================] - 1s 7ms/step - loss: 0.2859 - accuracy: 0.9195\n",
      "Epoch 35/50\n",
      "127/127 [==============================] - 1s 7ms/step - loss: 0.2563 - accuracy: 0.9216\n",
      "Epoch 36/50\n",
      "127/127 [==============================] - 1s 7ms/step - loss: 0.2736 - accuracy: 0.9225\n",
      "Epoch 37/50\n",
      "127/127 [==============================] - 1s 7ms/step - loss: 0.2339 - accuracy: 0.9355\n",
      "Epoch 38/50\n",
      "127/127 [==============================] - 1s 7ms/step - loss: 0.5718 - accuracy: 0.8893\n",
      "Epoch 39/50\n",
      "127/127 [==============================] - 1s 7ms/step - loss: 0.5387 - accuracy: 0.9001\n",
      "Epoch 40/50\n",
      "127/127 [==============================] - 1s 7ms/step - loss: 0.4044 - accuracy: 0.9001\n",
      "Epoch 41/50\n",
      "127/127 [==============================] - 1s 7ms/step - loss: 0.2901 - accuracy: 0.9062\n",
      "Epoch 42/50\n",
      "127/127 [==============================] - 1s 7ms/step - loss: 0.2761 - accuracy: 0.9213\n",
      "Epoch 43/50\n"
     ]
    },
    {
     "name": "stdout",
     "output_type": "stream",
     "text": [
      "127/127 [==============================] - 1s 7ms/step - loss: 0.2456 - accuracy: 0.9234\n",
      "Epoch 44/50\n",
      "127/127 [==============================] - 1s 8ms/step - loss: 0.2684 - accuracy: 0.9260\n",
      "Epoch 45/50\n",
      "127/127 [==============================] - 1s 7ms/step - loss: 0.2173 - accuracy: 0.9338\n",
      "Epoch 46/50\n",
      "127/127 [==============================] - 1s 8ms/step - loss: 0.2088 - accuracy: 0.9408\n",
      "Epoch 47/50\n",
      "127/127 [==============================] - 1s 8ms/step - loss: 0.2250 - accuracy: 0.9337\n",
      "Epoch 48/50\n",
      "127/127 [==============================] - 1s 8ms/step - loss: 0.2292 - accuracy: 0.9256\n",
      "Epoch 49/50\n",
      "127/127 [==============================] - 1s 7ms/step - loss: 0.1914 - accuracy: 0.9426\n",
      "Epoch 50/50\n",
      "127/127 [==============================] - 1s 8ms/step - loss: 0.2163 - accuracy: 0.9348\n",
      "Epoch 1/50\n",
      "127/127 [==============================] - 2s 8ms/step - loss: 2.3213 - accuracy: 0.3179\n",
      "Epoch 2/50\n",
      "127/127 [==============================] - 1s 8ms/step - loss: 1.4188 - accuracy: 0.5387\n",
      "Epoch 3/50\n",
      "127/127 [==============================] - 1s 7ms/step - loss: 1.2766 - accuracy: 0.5869\n",
      "Epoch 4/50\n",
      "127/127 [==============================] - 1s 7ms/step - loss: 1.0322 - accuracy: 0.6786\n",
      "Epoch 5/50\n",
      "127/127 [==============================] - 1s 6ms/step - loss: 0.9270 - accuracy: 0.7101\n",
      "Epoch 6/50\n",
      "127/127 [==============================] - 1s 6ms/step - loss: 0.9327 - accuracy: 0.7247\n",
      "Epoch 7/50\n",
      "127/127 [==============================] - 1s 8ms/step - loss: 0.8163 - accuracy: 0.7475\n",
      "Epoch 8/50\n",
      "127/127 [==============================] - 1s 8ms/step - loss: 0.7556 - accuracy: 0.7688\n",
      "Epoch 9/50\n",
      "127/127 [==============================] - 1s 7ms/step - loss: 0.7381 - accuracy: 0.7777\n",
      "Epoch 10/50\n",
      "127/127 [==============================] - 1s 7ms/step - loss: 0.6368 - accuracy: 0.7891\n",
      "Epoch 11/50\n",
      "127/127 [==============================] - 1s 7ms/step - loss: 0.6381 - accuracy: 0.7949\n",
      "Epoch 12/50\n",
      "127/127 [==============================] - 1s 7ms/step - loss: 0.6407 - accuracy: 0.8057\n",
      "Epoch 13/50\n",
      "127/127 [==============================] - 1s 7ms/step - loss: 0.5320 - accuracy: 0.8362\n",
      "Epoch 14/50\n",
      "127/127 [==============================] - 1s 7ms/step - loss: 0.6235 - accuracy: 0.8112\n",
      "Epoch 15/50\n",
      "127/127 [==============================] - 1s 7ms/step - loss: 0.5211 - accuracy: 0.8335: 1s -\n",
      "Epoch 16/50\n",
      "127/127 [==============================] - 1s 7ms/step - loss: 0.5038 - accuracy: 0.8447\n",
      "Epoch 17/50\n",
      "127/127 [==============================] - 1s 7ms/step - loss: 0.4903 - accuracy: 0.8500\n",
      "Epoch 18/50\n",
      "127/127 [==============================] - 1s 8ms/step - loss: 0.5168 - accuracy: 0.8515\n",
      "Epoch 19/50\n",
      "127/127 [==============================] - 1s 7ms/step - loss: 0.4546 - accuracy: 0.8600\n",
      "Epoch 20/50\n",
      "127/127 [==============================] - 1s 8ms/step - loss: 0.4112 - accuracy: 0.8788\n",
      "Epoch 21/50\n",
      "127/127 [==============================] - 1s 7ms/step - loss: 0.5290 - accuracy: 0.8354\n",
      "Epoch 22/50\n",
      "127/127 [==============================] - 1s 7ms/step - loss: 0.5023 - accuracy: 0.8657\n",
      "Epoch 23/50\n",
      "127/127 [==============================] - 1s 7ms/step - loss: 0.4941 - accuracy: 0.8663\n",
      "Epoch 24/50\n",
      "127/127 [==============================] - 1s 7ms/step - loss: 0.3626 - accuracy: 0.8916\n",
      "Epoch 25/50\n",
      "127/127 [==============================] - 1s 7ms/step - loss: 0.3316 - accuracy: 0.8969\n",
      "Epoch 26/50\n",
      "127/127 [==============================] - 1s 8ms/step - loss: 0.3385 - accuracy: 0.8994\n",
      "Epoch 27/50\n",
      "127/127 [==============================] - 1s 9ms/step - loss: 0.3413 - accuracy: 0.8991\n",
      "Epoch 28/50\n",
      "127/127 [==============================] - 1s 7ms/step - loss: 0.2941 - accuracy: 0.9079\n",
      "Epoch 29/50\n",
      "127/127 [==============================] - 1s 6ms/step - loss: 0.2950 - accuracy: 0.9107\n",
      "Epoch 30/50\n",
      "127/127 [==============================] - 1s 8ms/step - loss: 0.2981 - accuracy: 0.9108\n",
      "Epoch 31/50\n",
      "127/127 [==============================] - 1s 10ms/step - loss: 0.2982 - accuracy: 0.9051\n",
      "Epoch 32/50\n",
      "127/127 [==============================] - 1s 8ms/step - loss: 0.2757 - accuracy: 0.9182\n",
      "Epoch 33/50\n",
      "127/127 [==============================] - 1s 10ms/step - loss: 0.3481 - accuracy: 0.9006\n",
      "Epoch 34/50\n",
      "127/127 [==============================] - 1s 8ms/step - loss: 0.3785 - accuracy: 0.8871\n",
      "Epoch 35/50\n",
      "127/127 [==============================] - 1s 7ms/step - loss: 0.3259 - accuracy: 0.9054\n",
      "Epoch 36/50\n",
      "127/127 [==============================] - 1s 7ms/step - loss: 0.3703 - accuracy: 0.9250\n",
      "Epoch 37/50\n",
      "127/127 [==============================] - 1s 6ms/step - loss: 0.2535 - accuracy: 0.9274\n",
      "Epoch 38/50\n",
      "127/127 [==============================] - 1s 6ms/step - loss: 0.2970 - accuracy: 0.9178\n",
      "Epoch 39/50\n",
      "127/127 [==============================] - 1s 7ms/step - loss: 0.2366 - accuracy: 0.9294\n",
      "Epoch 40/50\n",
      "127/127 [==============================] - 1s 7ms/step - loss: 0.2486 - accuracy: 0.9226\n",
      "Epoch 41/50\n",
      "127/127 [==============================] - 1s 6ms/step - loss: 0.2644 - accuracy: 0.9204\n",
      "Epoch 42/50\n",
      "127/127 [==============================] - 1s 7ms/step - loss: 0.2652 - accuracy: 0.9230\n",
      "Epoch 43/50\n",
      "127/127 [==============================] - 1s 7ms/step - loss: 0.3413 - accuracy: 0.9132\n",
      "Epoch 44/50\n",
      "127/127 [==============================] - 1s 6ms/step - loss: 0.2789 - accuracy: 0.9143\n",
      "Epoch 45/50\n",
      "127/127 [==============================] - 1s 6ms/step - loss: 0.2607 - accuracy: 0.9287\n",
      "Epoch 46/50\n",
      "127/127 [==============================] - 1s 7ms/step - loss: 0.2297 - accuracy: 0.9384\n",
      "Epoch 47/50\n",
      "127/127 [==============================] - 1s 9ms/step - loss: 0.2068 - accuracy: 0.9394\n",
      "Epoch 48/50\n",
      "127/127 [==============================] - 1s 9ms/step - loss: 0.1935 - accuracy: 0.9363\n",
      "Epoch 49/50\n",
      "127/127 [==============================] - 1s 10ms/step - loss: 0.1990 - accuracy: 0.9327\n",
      "Epoch 50/50\n",
      "127/127 [==============================] - 1s 10ms/step - loss: 0.1875 - accuracy: 0.9385\n",
      "Epoch 1/50\n",
      "127/127 [==============================] - 2s 11ms/step - loss: 2.1982 - accuracy: 0.3534\n",
      "Epoch 2/50\n",
      "127/127 [==============================] - 1s 7ms/step - loss: 1.4840 - accuracy: 0.5284\n",
      "Epoch 3/50\n",
      "127/127 [==============================] - 1s 10ms/step - loss: 1.2440 - accuracy: 0.6278\n",
      "Epoch 4/50\n",
      "127/127 [==============================] - 1s 7ms/step - loss: 1.0490 - accuracy: 0.6676\n",
      "Epoch 5/50\n",
      "127/127 [==============================] - 1s 6ms/step - loss: 1.0067 - accuracy: 0.6946\n",
      "Epoch 6/50\n",
      "127/127 [==============================] - 1s 10ms/step - loss: 0.9426 - accuracy: 0.7161\n",
      "Epoch 7/50\n",
      "127/127 [==============================] - 2s 16ms/step - loss: 0.7820 - accuracy: 0.7459\n",
      "Epoch 8/50\n",
      "127/127 [==============================] - 1s 8ms/step - loss: 0.7711 - accuracy: 0.7787\n",
      "Epoch 9/50\n",
      "127/127 [==============================] - 1s 7ms/step - loss: 0.7007 - accuracy: 0.7873\n",
      "Epoch 10/50\n",
      "127/127 [==============================] - 1s 7ms/step - loss: 0.6769 - accuracy: 0.7861\n",
      "Epoch 11/50\n",
      "127/127 [==============================] - 1s 7ms/step - loss: 0.7768 - accuracy: 0.7750\n",
      "Epoch 12/50\n",
      "127/127 [==============================] - 1s 7ms/step - loss: 0.7035 - accuracy: 0.7927\n",
      "Epoch 13/50\n",
      "127/127 [==============================] - 1s 8ms/step - loss: 0.6114 - accuracy: 0.8136\n",
      "Epoch 14/50\n",
      "127/127 [==============================] - 1s 11ms/step - loss: 0.5716 - accuracy: 0.8187\n",
      "Epoch 15/50\n",
      "127/127 [==============================] - 1s 8ms/step - loss: 0.5432 - accuracy: 0.8289\n",
      "Epoch 16/50\n",
      "127/127 [==============================] - 1s 11ms/step - loss: 0.5838 - accuracy: 0.8363\n",
      "Epoch 17/50\n",
      "127/127 [==============================] - 1s 7ms/step - loss: 0.5375 - accuracy: 0.8382\n",
      "Epoch 18/50\n",
      "127/127 [==============================] - 1s 7ms/step - loss: 0.5036 - accuracy: 0.8440\n",
      "Epoch 19/50\n",
      "127/127 [==============================] - 1s 7ms/step - loss: 0.4439 - accuracy: 0.8676\n",
      "Epoch 20/50\n",
      "127/127 [==============================] - 1s 7ms/step - loss: 0.4390 - accuracy: 0.8726\n",
      "Epoch 21/50\n",
      "127/127 [==============================] - 1s 9ms/step - loss: 0.4177 - accuracy: 0.8750\n",
      "Epoch 22/50\n",
      "127/127 [==============================] - 1s 10ms/step - loss: 0.4478 - accuracy: 0.8696\n",
      "Epoch 23/50\n",
      "127/127 [==============================] - 1s 9ms/step - loss: 0.4761 - accuracy: 0.8648\n",
      "Epoch 24/50\n"
     ]
    },
    {
     "name": "stdout",
     "output_type": "stream",
     "text": [
      "127/127 [==============================] - 1s 8ms/step - loss: 0.4151 - accuracy: 0.8735\n",
      "Epoch 25/50\n",
      "127/127 [==============================] - 1s 9ms/step - loss: 0.4301 - accuracy: 0.8836\n",
      "Epoch 26/50\n",
      "127/127 [==============================] - 1s 8ms/step - loss: 0.3610 - accuracy: 0.8921\n",
      "Epoch 27/50\n",
      "127/127 [==============================] - 1s 9ms/step - loss: 0.3575 - accuracy: 0.8908\n",
      "Epoch 28/50\n",
      "127/127 [==============================] - 1s 7ms/step - loss: 0.4570 - accuracy: 0.8661\n",
      "Epoch 29/50\n",
      "127/127 [==============================] - 1s 8ms/step - loss: 0.3613 - accuracy: 0.8853\n",
      "Epoch 30/50\n",
      "127/127 [==============================] - 1s 8ms/step - loss: 0.3615 - accuracy: 0.8942\n",
      "Epoch 31/50\n",
      "127/127 [==============================] - 1s 9ms/step - loss: 0.4066 - accuracy: 0.8941\n",
      "Epoch 32/50\n",
      "127/127 [==============================] - 1s 8ms/step - loss: 0.3457 - accuracy: 0.8985\n",
      "Epoch 33/50\n",
      "127/127 [==============================] - 1s 7ms/step - loss: 0.3200 - accuracy: 0.9023\n",
      "Epoch 34/50\n",
      "127/127 [==============================] - 1s 7ms/step - loss: 0.3173 - accuracy: 0.9035\n",
      "Epoch 35/50\n",
      "127/127 [==============================] - 1s 7ms/step - loss: 0.3964 - accuracy: 0.9007\n",
      "Epoch 36/50\n",
      "127/127 [==============================] - 1s 7ms/step - loss: 0.2861 - accuracy: 0.9159\n",
      "Epoch 37/50\n",
      "127/127 [==============================] - 1s 8ms/step - loss: 0.2921 - accuracy: 0.9144\n",
      "Epoch 38/50\n",
      "127/127 [==============================] - 1s 7ms/step - loss: 0.2562 - accuracy: 0.9257\n",
      "Epoch 39/50\n",
      "127/127 [==============================] - 1s 7ms/step - loss: 0.2542 - accuracy: 0.9232\n",
      "Epoch 40/50\n",
      "127/127 [==============================] - 1s 6ms/step - loss: 0.3502 - accuracy: 0.9207\n",
      "Epoch 41/50\n",
      "127/127 [==============================] - 1s 8ms/step - loss: 0.4596 - accuracy: 0.8803\n",
      "Epoch 42/50\n",
      "127/127 [==============================] - 1s 7ms/step - loss: 0.2780 - accuracy: 0.9191\n",
      "Epoch 43/50\n",
      "127/127 [==============================] - 1s 7ms/step - loss: 0.2614 - accuracy: 0.9192\n",
      "Epoch 44/50\n",
      "127/127 [==============================] - 1s 7ms/step - loss: 0.2863 - accuracy: 0.9274\n",
      "Epoch 45/50\n",
      "127/127 [==============================] - 1s 6ms/step - loss: 0.2488 - accuracy: 0.9230\n",
      "Epoch 46/50\n",
      "127/127 [==============================] - 1s 7ms/step - loss: 0.2685 - accuracy: 0.9251\n",
      "Epoch 47/50\n",
      "127/127 [==============================] - 1s 7ms/step - loss: 0.2984 - accuracy: 0.9203\n",
      "Epoch 48/50\n",
      "127/127 [==============================] - 1s 7ms/step - loss: 0.2577 - accuracy: 0.9317\n",
      "Epoch 49/50\n",
      "127/127 [==============================] - 1s 8ms/step - loss: 0.2343 - accuracy: 0.9342\n",
      "Epoch 50/50\n",
      "127/127 [==============================] - 1s 6ms/step - loss: 0.2444 - accuracy: 0.9275\n",
      "Epoch 1/50\n",
      "127/127 [==============================] - 2s 8ms/step - loss: 2.3088 - accuracy: 0.3447\n",
      "Epoch 2/50\n",
      "127/127 [==============================] - 1s 7ms/step - loss: 1.4647 - accuracy: 0.5290\n",
      "Epoch 3/50\n",
      "127/127 [==============================] - 1s 7ms/step - loss: 1.1930 - accuracy: 0.6215\n",
      "Epoch 4/50\n",
      "127/127 [==============================] - 1s 7ms/step - loss: 1.1353 - accuracy: 0.6446\n",
      "Epoch 5/50\n",
      "127/127 [==============================] - 1s 7ms/step - loss: 0.9863 - accuracy: 0.6886\n",
      "Epoch 6/50\n",
      "127/127 [==============================] - 1s 7ms/step - loss: 0.9359 - accuracy: 0.7223\n",
      "Epoch 7/50\n",
      "127/127 [==============================] - 1s 7ms/step - loss: 0.7870 - accuracy: 0.7549\n",
      "Epoch 8/50\n",
      "127/127 [==============================] - 1s 7ms/step - loss: 0.7481 - accuracy: 0.7732\n",
      "Epoch 9/50\n",
      "127/127 [==============================] - 1s 8ms/step - loss: 0.6980 - accuracy: 0.7870\n",
      "Epoch 10/50\n",
      "127/127 [==============================] - 1s 7ms/step - loss: 0.6575 - accuracy: 0.7984\n",
      "Epoch 11/50\n",
      "127/127 [==============================] - 1s 7ms/step - loss: 0.6679 - accuracy: 0.8053\n",
      "Epoch 12/50\n",
      "127/127 [==============================] - 1s 7ms/step - loss: 0.6496 - accuracy: 0.8073\n",
      "Epoch 13/50\n",
      "127/127 [==============================] - 1s 8ms/step - loss: 0.5694 - accuracy: 0.8186\n",
      "Epoch 14/50\n",
      "127/127 [==============================] - 1s 6ms/step - loss: 0.5423 - accuracy: 0.8249\n",
      "Epoch 15/50\n",
      "127/127 [==============================] - 1s 8ms/step - loss: 0.4861 - accuracy: 0.8403\n",
      "Epoch 16/50\n",
      "127/127 [==============================] - 1s 8ms/step - loss: 0.4664 - accuracy: 0.8550\n",
      "Epoch 17/50\n",
      "127/127 [==============================] - 1s 7ms/step - loss: 0.5204 - accuracy: 0.8553\n",
      "Epoch 18/50\n",
      "127/127 [==============================] - 1s 7ms/step - loss: 0.4729 - accuracy: 0.8554\n",
      "Epoch 19/50\n",
      "127/127 [==============================] - 1s 7ms/step - loss: 0.4217 - accuracy: 0.8666\n",
      "Epoch 20/50\n",
      "127/127 [==============================] - 1s 7ms/step - loss: 0.4105 - accuracy: 0.8889\n",
      "Epoch 21/50\n",
      "127/127 [==============================] - 1s 7ms/step - loss: 0.5806 - accuracy: 0.8556\n",
      "Epoch 22/50\n",
      "127/127 [==============================] - 1s 7ms/step - loss: 0.6467 - accuracy: 0.8653\n",
      "Epoch 23/50\n",
      "127/127 [==============================] - 1s 7ms/step - loss: 0.3827 - accuracy: 0.8862\n",
      "Epoch 24/50\n",
      "127/127 [==============================] - 1s 7ms/step - loss: 0.3562 - accuracy: 0.8892\n",
      "Epoch 25/50\n",
      "127/127 [==============================] - 1s 7ms/step - loss: 0.3302 - accuracy: 0.9064\n",
      "Epoch 26/50\n",
      "127/127 [==============================] - 1s 7ms/step - loss: 0.3922 - accuracy: 0.8860\n",
      "Epoch 27/50\n",
      "127/127 [==============================] - 1s 7ms/step - loss: 0.3085 - accuracy: 0.9050\n",
      "Epoch 28/50\n",
      "127/127 [==============================] - 1s 8ms/step - loss: 0.3040 - accuracy: 0.9124\n",
      "Epoch 29/50\n",
      "127/127 [==============================] - 1s 8ms/step - loss: 0.2827 - accuracy: 0.9106\n",
      "Epoch 30/50\n",
      "127/127 [==============================] - 1s 8ms/step - loss: 0.2955 - accuracy: 0.9142\n",
      "Epoch 31/50\n",
      "127/127 [==============================] - 1s 8ms/step - loss: 0.3838 - accuracy: 0.8804\n",
      "Epoch 32/50\n",
      "127/127 [==============================] - 1s 7ms/step - loss: 0.4306 - accuracy: 0.9001\n",
      "Epoch 33/50\n",
      "127/127 [==============================] - 1s 6ms/step - loss: 0.3747 - accuracy: 0.8877\n",
      "Epoch 34/50\n",
      "127/127 [==============================] - 1s 7ms/step - loss: 0.2852 - accuracy: 0.9133\n",
      "Epoch 35/50\n",
      "127/127 [==============================] - 1s 7ms/step - loss: 0.2981 - accuracy: 0.9156\n",
      "Epoch 36/50\n",
      "127/127 [==============================] - 1s 7ms/step - loss: 0.2761 - accuracy: 0.9189\n",
      "Epoch 37/50\n",
      "127/127 [==============================] - 1s 7ms/step - loss: 0.2301 - accuracy: 0.9288\n",
      "Epoch 38/50\n",
      "127/127 [==============================] - 1s 7ms/step - loss: 0.2359 - accuracy: 0.9292\n",
      "Epoch 39/50\n",
      "127/127 [==============================] - 1s 6ms/step - loss: 0.2347 - accuracy: 0.9323\n",
      "Epoch 40/50\n",
      "127/127 [==============================] - 1s 6ms/step - loss: 0.2062 - accuracy: 0.9361\n",
      "Epoch 41/50\n",
      "127/127 [==============================] - 1s 6ms/step - loss: 0.2090 - accuracy: 0.9299\n",
      "Epoch 42/50\n",
      "127/127 [==============================] - 1s 7ms/step - loss: 0.2134 - accuracy: 0.9386\n",
      "Epoch 43/50\n",
      "127/127 [==============================] - 1s 6ms/step - loss: 0.2311 - accuracy: 0.9362\n",
      "Epoch 44/50\n",
      "127/127 [==============================] - 1s 7ms/step - loss: 0.2573 - accuracy: 0.9272\n",
      "Epoch 45/50\n",
      "127/127 [==============================] - 1s 7ms/step - loss: 0.3945 - accuracy: 0.9153\n",
      "Epoch 46/50\n",
      "127/127 [==============================] - 1s 7ms/step - loss: 0.2658 - accuracy: 0.9158\n",
      "Epoch 47/50\n",
      "127/127 [==============================] - 1s 6ms/step - loss: 0.2103 - accuracy: 0.9368\n",
      "Epoch 48/50\n",
      "127/127 [==============================] - 1s 7ms/step - loss: 0.1831 - accuracy: 0.9436\n",
      "Epoch 49/50\n",
      "127/127 [==============================] - 1s 6ms/step - loss: 0.2312 - accuracy: 0.9226\n",
      "Epoch 50/50\n",
      "127/127 [==============================] - 1s 7ms/step - loss: 0.2393 - accuracy: 0.9429\n",
      "Epoch 1/50\n",
      "127/127 [==============================] - 1s 7ms/step - loss: 2.2601 - accuracy: 0.3363\n",
      "Epoch 2/50\n",
      "127/127 [==============================] - 1s 7ms/step - loss: 1.4601 - accuracy: 0.5306\n",
      "Epoch 3/50\n",
      "127/127 [==============================] - 1s 7ms/step - loss: 1.2574 - accuracy: 0.5940\n",
      "Epoch 4/50\n",
      "127/127 [==============================] - 1s 6ms/step - loss: 1.1041 - accuracy: 0.6587\n",
      "Epoch 5/50\n"
     ]
    },
    {
     "name": "stdout",
     "output_type": "stream",
     "text": [
      "127/127 [==============================] - 1s 7ms/step - loss: 0.9520 - accuracy: 0.6963\n",
      "Epoch 6/50\n",
      "127/127 [==============================] - 1s 6ms/step - loss: 0.9209 - accuracy: 0.7068\n",
      "Epoch 7/50\n",
      "127/127 [==============================] - 1s 7ms/step - loss: 0.7935 - accuracy: 0.7556\n",
      "Epoch 8/50\n",
      "127/127 [==============================] - 1s 7ms/step - loss: 1.1740 - accuracy: 0.7337\n",
      "Epoch 9/50\n",
      "127/127 [==============================] - 1s 7ms/step - loss: 0.6881 - accuracy: 0.7843\n",
      "Epoch 10/50\n",
      "127/127 [==============================] - 1s 8ms/step - loss: 0.6892 - accuracy: 0.7871\n",
      "Epoch 11/50\n",
      "127/127 [==============================] - 1s 7ms/step - loss: 0.7909 - accuracy: 0.7921\n",
      "Epoch 12/50\n",
      "127/127 [==============================] - 1s 6ms/step - loss: 0.6429 - accuracy: 0.8152\n",
      "Epoch 13/50\n",
      "127/127 [==============================] - 1s 7ms/step - loss: 0.6044 - accuracy: 0.8123\n",
      "Epoch 14/50\n",
      "127/127 [==============================] - 1s 7ms/step - loss: 0.5830 - accuracy: 0.8226\n",
      "Epoch 15/50\n",
      "127/127 [==============================] - 1s 6ms/step - loss: 0.5798 - accuracy: 0.8294\n",
      "Epoch 16/50\n",
      "127/127 [==============================] - 1s 6ms/step - loss: 0.5417 - accuracy: 0.8263\n",
      "Epoch 17/50\n",
      "127/127 [==============================] - ETA: 0s - loss: 0.5340 - accuracy: 0.83 - 1s 6ms/step - loss: 0.5335 - accuracy: 0.8393\n",
      "Epoch 18/50\n",
      "127/127 [==============================] - 1s 7ms/step - loss: 0.4939 - accuracy: 0.8549\n",
      "Epoch 19/50\n",
      "127/127 [==============================] - 1s 7ms/step - loss: 0.5647 - accuracy: 0.8442\n",
      "Epoch 20/50\n",
      "127/127 [==============================] - 1s 7ms/step - loss: 0.4206 - accuracy: 0.8658\n",
      "Epoch 21/50\n",
      "127/127 [==============================] - 1s 7ms/step - loss: 0.4230 - accuracy: 0.8737\n",
      "Epoch 22/50\n",
      "127/127 [==============================] - 1s 7ms/step - loss: 0.4018 - accuracy: 0.8785\n",
      "Epoch 23/50\n",
      "127/127 [==============================] - 1s 6ms/step - loss: 0.3657 - accuracy: 0.8794\n",
      "Epoch 24/50\n",
      "127/127 [==============================] - 1s 7ms/step - loss: 0.4181 - accuracy: 0.8745\n",
      "Epoch 25/50\n",
      "127/127 [==============================] - 1s 6ms/step - loss: 0.5503 - accuracy: 0.8722\n",
      "Epoch 26/50\n",
      "127/127 [==============================] - 1s 7ms/step - loss: 0.4088 - accuracy: 0.8819\n",
      "Epoch 27/50\n",
      "127/127 [==============================] - 1s 7ms/step - loss: 0.3329 - accuracy: 0.8931\n",
      "Epoch 28/50\n",
      "127/127 [==============================] - 1s 7ms/step - loss: 0.3474 - accuracy: 0.8874\n",
      "Epoch 29/50\n",
      "127/127 [==============================] - 1s 7ms/step - loss: 0.3084 - accuracy: 0.9028\n",
      "Epoch 30/50\n",
      "127/127 [==============================] - 1s 5ms/step - loss: 0.3036 - accuracy: 0.9129\n",
      "Epoch 31/50\n",
      "127/127 [==============================] - 1s 6ms/step - loss: 0.2901 - accuracy: 0.9139\n",
      "Epoch 32/50\n",
      "127/127 [==============================] - 1s 7ms/step - loss: 0.4034 - accuracy: 0.9009\n",
      "Epoch 33/50\n",
      "127/127 [==============================] - 1s 6ms/step - loss: 0.3175 - accuracy: 0.9049\n",
      "Epoch 34/50\n",
      "127/127 [==============================] - 1s 6ms/step - loss: 0.2809 - accuracy: 0.9195\n",
      "Epoch 35/50\n",
      "127/127 [==============================] - 1s 6ms/step - loss: 0.2985 - accuracy: 0.9143\n",
      "Epoch 36/50\n",
      "127/127 [==============================] - 1s 6ms/step - loss: 0.2721 - accuracy: 0.9196\n",
      "Epoch 37/50\n",
      "127/127 [==============================] - 1s 6ms/step - loss: 0.2679 - accuracy: 0.9225\n",
      "Epoch 38/50\n",
      "127/127 [==============================] - 1s 7ms/step - loss: 0.3321 - accuracy: 0.9094\n",
      "Epoch 39/50\n",
      "127/127 [==============================] - 1s 6ms/step - loss: 0.3185 - accuracy: 0.9106\n",
      "Epoch 40/50\n",
      "127/127 [==============================] - 1s 6ms/step - loss: 0.2319 - accuracy: 0.9254\n",
      "Epoch 41/50\n",
      "127/127 [==============================] - 1s 6ms/step - loss: 0.2715 - accuracy: 0.9178\n",
      "Epoch 42/50\n",
      "127/127 [==============================] - 1s 6ms/step - loss: 0.3854 - accuracy: 0.9191\n",
      "Epoch 43/50\n",
      "127/127 [==============================] - 1s 6ms/step - loss: 0.3307 - accuracy: 0.9201\n",
      "Epoch 44/50\n",
      "127/127 [==============================] - 1s 6ms/step - loss: 0.2460 - accuracy: 0.9198\n",
      "Epoch 45/50\n",
      "127/127 [==============================] - 1s 6ms/step - loss: 0.2358 - accuracy: 0.9360\n",
      "Epoch 46/50\n",
      "127/127 [==============================] - 1s 7ms/step - loss: 0.1954 - accuracy: 0.9422\n",
      "Epoch 47/50\n",
      "127/127 [==============================] - 1s 6ms/step - loss: 0.2002 - accuracy: 0.9355\n",
      "Epoch 48/50\n",
      "127/127 [==============================] - 1s 7ms/step - loss: 0.1939 - accuracy: 0.9388\n",
      "Epoch 49/50\n",
      "127/127 [==============================] - 1s 6ms/step - loss: 0.1756 - accuracy: 0.9464\n",
      "Epoch 50/50\n",
      "127/127 [==============================] - 1s 6ms/step - loss: 0.1749 - accuracy: 0.9472\n",
      "Epoch 1/50\n",
      "127/127 [==============================] - 1s 7ms/step - loss: 2.2727 - accuracy: 0.3335\n",
      "Epoch 2/50\n",
      "127/127 [==============================] - 1s 6ms/step - loss: 1.4700 - accuracy: 0.5212\n",
      "Epoch 3/50\n",
      "127/127 [==============================] - 1s 6ms/step - loss: 1.2424 - accuracy: 0.5911\n",
      "Epoch 4/50\n",
      "127/127 [==============================] - 1s 7ms/step - loss: 1.0448 - accuracy: 0.6713\n",
      "Epoch 5/50\n",
      "127/127 [==============================] - 1s 7ms/step - loss: 1.0300 - accuracy: 0.6948\n",
      "Epoch 6/50\n",
      "127/127 [==============================] - 1s 6ms/step - loss: 0.8249 - accuracy: 0.7522\n",
      "Epoch 7/50\n",
      "127/127 [==============================] - 1s 6ms/step - loss: 0.9321 - accuracy: 0.7291\n",
      "Epoch 8/50\n",
      "127/127 [==============================] - 1s 7ms/step - loss: 0.7510 - accuracy: 0.7749\n",
      "Epoch 9/50\n",
      "127/127 [==============================] - 1s 7ms/step - loss: 0.9558 - accuracy: 0.7627\n",
      "Epoch 10/50\n",
      "127/127 [==============================] - 1s 6ms/step - loss: 0.7077 - accuracy: 0.7771\n",
      "Epoch 11/50\n",
      "127/127 [==============================] - 1s 7ms/step - loss: 0.6545 - accuracy: 0.8023\n",
      "Epoch 12/50\n",
      "127/127 [==============================] - 1s 6ms/step - loss: 0.5890 - accuracy: 0.8256\n",
      "Epoch 13/50\n",
      "127/127 [==============================] - 1s 7ms/step - loss: 0.5133 - accuracy: 0.8406\n",
      "Epoch 14/50\n",
      "127/127 [==============================] - 1s 7ms/step - loss: 0.5099 - accuracy: 0.8444\n",
      "Epoch 15/50\n",
      "127/127 [==============================] - 1s 7ms/step - loss: 0.4634 - accuracy: 0.8578\n",
      "Epoch 16/50\n",
      "127/127 [==============================] - 1s 6ms/step - loss: 0.4443 - accuracy: 0.8650\n",
      "Epoch 17/50\n",
      "127/127 [==============================] - 1s 6ms/step - loss: 0.5020 - accuracy: 0.8585\n",
      "Epoch 18/50\n",
      "127/127 [==============================] - 1s 7ms/step - loss: 0.4940 - accuracy: 0.8502\n",
      "Epoch 19/50\n",
      "127/127 [==============================] - 1s 6ms/step - loss: 0.5727 - accuracy: 0.8656\n",
      "Epoch 20/50\n",
      "127/127 [==============================] - 1s 7ms/step - loss: 0.4144 - accuracy: 0.8751\n",
      "Epoch 21/50\n",
      "127/127 [==============================] - 1s 6ms/step - loss: 0.3917 - accuracy: 0.8880\n",
      "Epoch 22/50\n",
      "127/127 [==============================] - 1s 7ms/step - loss: 0.3577 - accuracy: 0.8927\n",
      "Epoch 23/50\n",
      "127/127 [==============================] - 1s 6ms/step - loss: 0.3377 - accuracy: 0.9027\n",
      "Epoch 24/50\n",
      "127/127 [==============================] - 1s 6ms/step - loss: 0.3582 - accuracy: 0.8966\n",
      "Epoch 25/50\n",
      "127/127 [==============================] - 1s 6ms/step - loss: 0.3431 - accuracy: 0.9091\n",
      "Epoch 26/50\n",
      "127/127 [==============================] - 1s 7ms/step - loss: 0.4139 - accuracy: 0.8905\n",
      "Epoch 27/50\n",
      "127/127 [==============================] - 1s 8ms/step - loss: 0.5183 - accuracy: 0.8624\n",
      "Epoch 28/50\n",
      "127/127 [==============================] - 1s 6ms/step - loss: 0.4527 - accuracy: 0.8779\n",
      "Epoch 29/50\n",
      "127/127 [==============================] - 1s 7ms/step - loss: 0.3250 - accuracy: 0.9002\n",
      "Epoch 30/50\n",
      "127/127 [==============================] - 1s 6ms/step - loss: 0.2810 - accuracy: 0.9167\n",
      "Epoch 31/50\n",
      "127/127 [==============================] - 1s 8ms/step - loss: 0.2745 - accuracy: 0.9175\n",
      "Epoch 32/50\n",
      "127/127 [==============================] - 1s 7ms/step - loss: 0.2642 - accuracy: 0.9225\n",
      "Epoch 33/50\n",
      "127/127 [==============================] - 1s 7ms/step - loss: 0.2561 - accuracy: 0.9191\n",
      "Epoch 34/50\n",
      "127/127 [==============================] - 1s 6ms/step - loss: 0.2568 - accuracy: 0.9216\n",
      "Epoch 35/50\n"
     ]
    },
    {
     "name": "stdout",
     "output_type": "stream",
     "text": [
      "127/127 [==============================] - 1s 6ms/step - loss: 0.2628 - accuracy: 0.9223\n",
      "Epoch 36/50\n",
      "127/127 [==============================] - 1s 6ms/step - loss: 0.2516 - accuracy: 0.9222\n",
      "Epoch 37/50\n",
      "127/127 [==============================] - 1s 7ms/step - loss: 0.3200 - accuracy: 0.9054\n",
      "Epoch 38/50\n",
      "127/127 [==============================] - 1s 7ms/step - loss: 0.3468 - accuracy: 0.9167\n",
      "Epoch 39/50\n",
      "127/127 [==============================] - 1s 6ms/step - loss: 0.4240 - accuracy: 0.9147\n",
      "Epoch 40/50\n",
      "127/127 [==============================] - 1s 7ms/step - loss: 0.3289 - accuracy: 0.9136\n",
      "Epoch 41/50\n",
      "127/127 [==============================] - 1s 6ms/step - loss: 0.2460 - accuracy: 0.9299\n",
      "Epoch 42/50\n",
      "127/127 [==============================] - 1s 7ms/step - loss: 0.2450 - accuracy: 0.9292\n",
      "Epoch 43/50\n",
      "127/127 [==============================] - 1s 6ms/step - loss: 0.2507 - accuracy: 0.9281\n",
      "Epoch 44/50\n",
      "127/127 [==============================] - 1s 6ms/step - loss: 0.2074 - accuracy: 0.9391\n",
      "Epoch 45/50\n",
      "127/127 [==============================] - 1s 6ms/step - loss: 0.2312 - accuracy: 0.9330\n",
      "Epoch 46/50\n",
      "127/127 [==============================] - 1s 6ms/step - loss: 0.2295 - accuracy: 0.9366\n",
      "Epoch 47/50\n",
      "127/127 [==============================] - 1s 6ms/step - loss: 0.2179 - accuracy: 0.9349\n",
      "Epoch 48/50\n",
      "127/127 [==============================] - 1s 6ms/step - loss: 0.2315 - accuracy: 0.9368\n",
      "Epoch 49/50\n",
      "127/127 [==============================] - 1s 6ms/step - loss: 0.1899 - accuracy: 0.9395\n",
      "Epoch 50/50\n",
      "127/127 [==============================] - 1s 6ms/step - loss: 0.1748 - accuracy: 0.9445\n"
     ]
    }
   ],
   "source": [
    "cvscores = []\n",
    "\n",
    "for train, val in kFold.split(X_train, y_train):\n",
    "    base = Sequential()\n",
    "    base.add(Conv2D(64, (3,3), activation='relu', input_shape=input_dim))\n",
    "    base.add(Flatten())\n",
    "    base.add(Dense(64, activation='relu'))\n",
    "    base.add(Dense(10, activation='softmax'))\n",
    "    \n",
    "    base.compile(optimizer='adam',\n",
    "             loss='sparse_categorical_crossentropy',\n",
    "             metrics=['accuracy']\n",
    "                       )\n",
    "    \n",
    "    base.fit(X_train[train], y_train[train], epochs=50, batch_size=32)\n",
    "    \n",
    "    base.evaluate(X_train[val], y_train[val], verbose=0)\n",
    "    \n",
    "    cvscores.append(scores[1] * 100)"
   ]
  },
  {
   "cell_type": "code",
   "execution_count": 596,
   "metadata": {
    "scrolled": true
   },
   "outputs": [
    {
     "name": "stdout",
     "output_type": "stream",
     "text": [
      "50.44% (+/- 0.00%)\n"
     ]
    }
   ],
   "source": [
    "print(\"%.2f%% (+/- %.2f%%)\" % (np.mean(cvscores), np.std(cvscores)))"
   ]
  },
  {
   "cell_type": "code",
   "execution_count": 600,
   "metadata": {},
   "outputs": [],
   "source": [
    "kFold2 = StratifiedKFold(n_splits=5, shuffle=True, random_state=44)"
   ]
  },
  {
   "cell_type": "code",
   "execution_count": 601,
   "metadata": {
    "scrolled": true
   },
   "outputs": [
    {
     "name": "stdout",
     "output_type": "stream",
     "text": [
      "Epoch 1/50\n",
      "113/113 [==============================] - 1s 7ms/step - loss: 2.9723 - accuracy: 0.2878\n",
      "Epoch 2/50\n",
      "113/113 [==============================] - 1s 7ms/step - loss: 1.5439 - accuracy: 0.4878\n",
      "Epoch 3/50\n",
      "113/113 [==============================] - 1s 9ms/step - loss: 1.3626 - accuracy: 0.5542\n",
      "Epoch 4/50\n",
      "113/113 [==============================] - 1s 8ms/step - loss: 1.1827 - accuracy: 0.6160\n",
      "Epoch 5/50\n",
      "113/113 [==============================] - 1s 8ms/step - loss: 1.0453 - accuracy: 0.6717\n",
      "Epoch 6/50\n",
      "113/113 [==============================] - 1s 6ms/step - loss: 1.0314 - accuracy: 0.6824\n",
      "Epoch 7/50\n",
      "113/113 [==============================] - 1s 7ms/step - loss: 0.9735 - accuracy: 0.7082\n",
      "Epoch 8/50\n",
      "113/113 [==============================] - 1s 6ms/step - loss: 0.8580 - accuracy: 0.7340\n",
      "Epoch 9/50\n",
      "113/113 [==============================] - 1s 7ms/step - loss: 0.8014 - accuracy: 0.7476\n",
      "Epoch 10/50\n",
      "113/113 [==============================] - 1s 11ms/step - loss: 0.7241 - accuracy: 0.7780\n",
      "Epoch 11/50\n",
      "113/113 [==============================] - 1s 8ms/step - loss: 0.7229 - accuracy: 0.7875\n",
      "Epoch 12/50\n",
      "113/113 [==============================] - 1s 8ms/step - loss: 0.6509 - accuracy: 0.7981\n",
      "Epoch 13/50\n",
      "113/113 [==============================] - 1s 7ms/step - loss: 0.6367 - accuracy: 0.8054\n",
      "Epoch 14/50\n",
      "113/113 [==============================] - 1s 7ms/step - loss: 0.5826 - accuracy: 0.8236\n",
      "Epoch 15/50\n",
      "113/113 [==============================] - 1s 7ms/step - loss: 0.5694 - accuracy: 0.8247\n",
      "Epoch 16/50\n",
      "113/113 [==============================] - 1s 8ms/step - loss: 0.5530 - accuracy: 0.8231\n",
      "Epoch 17/50\n",
      "113/113 [==============================] - 1s 7ms/step - loss: 0.7820 - accuracy: 0.7880\n",
      "Epoch 18/50\n",
      "113/113 [==============================] - 1s 7ms/step - loss: 0.6203 - accuracy: 0.8214\n",
      "Epoch 19/50\n",
      "113/113 [==============================] - 1s 7ms/step - loss: 0.5659 - accuracy: 0.8181\n",
      "Epoch 20/50\n",
      "113/113 [==============================] - 1s 7ms/step - loss: 0.5631 - accuracy: 0.8347\n",
      "Epoch 21/50\n",
      "113/113 [==============================] - 1s 11ms/step - loss: 0.4762 - accuracy: 0.8599\n",
      "Epoch 22/50\n",
      "113/113 [==============================] - 1s 10ms/step - loss: 0.6148 - accuracy: 0.8529\n",
      "Epoch 23/50\n",
      "113/113 [==============================] - 1s 7ms/step - loss: 0.5508 - accuracy: 0.8449\n",
      "Epoch 24/50\n",
      "113/113 [==============================] - 1s 7ms/step - loss: 0.4456 - accuracy: 0.8593\n",
      "Epoch 25/50\n",
      "113/113 [==============================] - 1s 8ms/step - loss: 0.4465 - accuracy: 0.8580\n",
      "Epoch 26/50\n",
      "113/113 [==============================] - 1s 9ms/step - loss: 0.3829 - accuracy: 0.8833\n",
      "Epoch 27/50\n",
      "113/113 [==============================] - ETA: 0s - loss: 0.3925 - accuracy: 0.88 - 1s 8ms/step - loss: 0.3925 - accuracy: 0.8862\n",
      "Epoch 28/50\n",
      "113/113 [==============================] - 1s 8ms/step - loss: 0.4114 - accuracy: 0.8904\n",
      "Epoch 29/50\n",
      "113/113 [==============================] - 1s 10ms/step - loss: 0.4545 - accuracy: 0.8754\n",
      "Epoch 30/50\n",
      "113/113 [==============================] - 1s 8ms/step - loss: 0.3702 - accuracy: 0.8990\n",
      "Epoch 31/50\n",
      "113/113 [==============================] - 1s 8ms/step - loss: 0.3524 - accuracy: 0.8916\n",
      "Epoch 32/50\n",
      "113/113 [==============================] - 1s 7ms/step - loss: 0.3161 - accuracy: 0.9059\n",
      "Epoch 33/50\n",
      "113/113 [==============================] - 1s 8ms/step - loss: 0.3195 - accuracy: 0.9037\n",
      "Epoch 34/50\n",
      "113/113 [==============================] - 1s 7ms/step - loss: 0.3284 - accuracy: 0.9000\n",
      "Epoch 35/50\n",
      "113/113 [==============================] - 1s 7ms/step - loss: 0.3131 - accuracy: 0.9060\n",
      "Epoch 36/50\n",
      "113/113 [==============================] - 1s 8ms/step - loss: 0.3094 - accuracy: 0.9118\n",
      "Epoch 37/50\n",
      "113/113 [==============================] - 1s 8ms/step - loss: 0.2656 - accuracy: 0.9204\n",
      "Epoch 38/50\n",
      "113/113 [==============================] - 1s 9ms/step - loss: 0.3083 - accuracy: 0.9117\n",
      "Epoch 39/50\n",
      "113/113 [==============================] - 1s 9ms/step - loss: 0.3518 - accuracy: 0.9018\n",
      "Epoch 40/50\n",
      "113/113 [==============================] - 1s 8ms/step - loss: 0.3471 - accuracy: 0.8924\n",
      "Epoch 41/50\n",
      "113/113 [==============================] - 1s 8ms/step - loss: 0.2792 - accuracy: 0.9159\n",
      "Epoch 42/50\n",
      "113/113 [==============================] - 1s 6ms/step - loss: 0.2934 - accuracy: 0.9134\n",
      "Epoch 43/50\n",
      "113/113 [==============================] - 1s 7ms/step - loss: 0.3449 - accuracy: 0.9047\n",
      "Epoch 44/50\n",
      "113/113 [==============================] - 1s 8ms/step - loss: 0.2724 - accuracy: 0.9175: 0s - loss: 0.2724 - accuracy\n",
      "Epoch 45/50\n",
      "113/113 [==============================] - 2s 14ms/step - loss: 0.3873 - accuracy: 0.9149\n",
      "Epoch 46/50\n",
      "113/113 [==============================] - 3s 23ms/step - loss: 0.2509 - accuracy: 0.9232\n",
      "Epoch 47/50\n",
      "113/113 [==============================] - 2s 14ms/step - loss: 0.2638 - accuracy: 0.9165\n",
      "Epoch 48/50\n",
      "113/113 [==============================] - 1s 13ms/step - loss: 0.2614 - accuracy: 0.9268\n",
      "Epoch 49/50\n",
      "113/113 [==============================] - 1s 7ms/step - loss: 0.2253 - accuracy: 0.9344\n",
      "Epoch 50/50\n",
      "113/113 [==============================] - 1s 7ms/step - loss: 0.2151 - accuracy: 0.9360\n",
      "Epoch 1/50\n",
      "113/113 [==============================] - 1s 7ms/step - loss: 2.3135 - accuracy: 0.3529\n",
      "Epoch 2/50\n",
      "113/113 [==============================] - 1s 8ms/step - loss: 1.4597 - accuracy: 0.5138\n",
      "Epoch 3/50\n",
      "113/113 [==============================] - 1s 6ms/step - loss: 1.2533 - accuracy: 0.5885\n",
      "Epoch 4/50\n",
      "113/113 [==============================] - 1s 7ms/step - loss: 1.0841 - accuracy: 0.6506\n",
      "Epoch 5/50\n",
      "113/113 [==============================] - 1s 7ms/step - loss: 0.9949 - accuracy: 0.6951\n",
      "Epoch 6/50\n",
      "113/113 [==============================] - 1s 7ms/step - loss: 0.8983 - accuracy: 0.7341\n",
      "Epoch 7/50\n",
      "113/113 [==============================] - 1s 6ms/step - loss: 0.8064 - accuracy: 0.7532\n",
      "Epoch 8/50\n",
      "113/113 [==============================] - 1s 7ms/step - loss: 0.7895 - accuracy: 0.7520\n",
      "Epoch 9/50\n",
      "113/113 [==============================] - 1s 7ms/step - loss: 0.7351 - accuracy: 0.7842\n",
      "Epoch 10/50\n",
      "113/113 [==============================] - 1s 7ms/step - loss: 0.6505 - accuracy: 0.7887\n",
      "Epoch 11/50\n",
      "113/113 [==============================] - 1s 6ms/step - loss: 0.6516 - accuracy: 0.7926\n",
      "Epoch 12/50\n",
      "113/113 [==============================] - 1s 7ms/step - loss: 0.6266 - accuracy: 0.8024\n",
      "Epoch 13/50\n",
      "113/113 [==============================] - 1s 7ms/step - loss: 0.6222 - accuracy: 0.8114\n",
      "Epoch 14/50\n",
      "113/113 [==============================] - 1s 6ms/step - loss: 0.6154 - accuracy: 0.8142\n",
      "Epoch 15/50\n",
      "113/113 [==============================] - 1s 7ms/step - loss: 0.5148 - accuracy: 0.8409\n",
      "Epoch 16/50\n",
      "113/113 [==============================] - 1s 7ms/step - loss: 0.4812 - accuracy: 0.8587\n",
      "Epoch 17/50\n",
      "113/113 [==============================] - 1s 7ms/step - loss: 0.4741 - accuracy: 0.8557\n",
      "Epoch 18/50\n",
      "113/113 [==============================] - 1s 7ms/step - loss: 0.4792 - accuracy: 0.8466\n",
      "Epoch 19/50\n",
      "113/113 [==============================] - 1s 7ms/step - loss: 0.4753 - accuracy: 0.8519\n",
      "Epoch 20/50\n",
      "113/113 [==============================] - 1s 7ms/step - loss: 0.4594 - accuracy: 0.8547\n",
      "Epoch 21/50\n",
      "113/113 [==============================] - 1s 7ms/step - loss: 0.4011 - accuracy: 0.8747\n",
      "Epoch 22/50\n",
      "113/113 [==============================] - 1s 7ms/step - loss: 0.6331 - accuracy: 0.8666\n",
      "Epoch 23/50\n",
      "113/113 [==============================] - 1s 7ms/step - loss: 0.6674 - accuracy: 0.8719\n",
      "Epoch 24/50\n",
      "113/113 [==============================] - 1s 7ms/step - loss: 0.4122 - accuracy: 0.8829\n",
      "Epoch 25/50\n",
      "113/113 [==============================] - 1s 7ms/step - loss: 0.6004 - accuracy: 0.8675\n",
      "Epoch 26/50\n",
      "113/113 [==============================] - 1s 6ms/step - loss: 0.5178 - accuracy: 0.8629\n",
      "Epoch 27/50\n",
      "113/113 [==============================] - 1s 7ms/step - loss: 0.4212 - accuracy: 0.8848\n",
      "Epoch 28/50\n",
      "113/113 [==============================] - 1s 7ms/step - loss: 0.3889 - accuracy: 0.8909\n",
      "Epoch 29/50\n",
      "113/113 [==============================] - 1s 7ms/step - loss: 0.3499 - accuracy: 0.8868\n",
      "Epoch 30/50\n",
      "113/113 [==============================] - 1s 7ms/step - loss: 0.3233 - accuracy: 0.9022\n",
      "Epoch 31/50\n"
     ]
    },
    {
     "name": "stdout",
     "output_type": "stream",
     "text": [
      "113/113 [==============================] - 1s 7ms/step - loss: 0.3390 - accuracy: 0.8956\n",
      "Epoch 32/50\n",
      "113/113 [==============================] - 1s 6ms/step - loss: 0.3177 - accuracy: 0.9032\n",
      "Epoch 33/50\n",
      "113/113 [==============================] - 1s 6ms/step - loss: 0.2983 - accuracy: 0.9056\n",
      "Epoch 34/50\n",
      "113/113 [==============================] - 1s 8ms/step - loss: 0.3073 - accuracy: 0.9152\n",
      "Epoch 35/50\n",
      "113/113 [==============================] - 1s 7ms/step - loss: 0.3079 - accuracy: 0.9138\n",
      "Epoch 36/50\n",
      "113/113 [==============================] - 1s 7ms/step - loss: 0.2992 - accuracy: 0.9171\n",
      "Epoch 37/50\n",
      "113/113 [==============================] - 1s 7ms/step - loss: 0.2625 - accuracy: 0.9256\n",
      "Epoch 38/50\n",
      "113/113 [==============================] - 1s 7ms/step - loss: 0.2603 - accuracy: 0.9252\n",
      "Epoch 39/50\n",
      "113/113 [==============================] - 1s 7ms/step - loss: 0.2579 - accuracy: 0.9184\n",
      "Epoch 40/50\n",
      "113/113 [==============================] - 1s 6ms/step - loss: 0.2707 - accuracy: 0.9238\n",
      "Epoch 41/50\n",
      "113/113 [==============================] - 1s 7ms/step - loss: 0.2400 - accuracy: 0.9286\n",
      "Epoch 42/50\n",
      "113/113 [==============================] - 1s 7ms/step - loss: 0.2935 - accuracy: 0.9180\n",
      "Epoch 43/50\n",
      "113/113 [==============================] - 1s 6ms/step - loss: 0.3019 - accuracy: 0.9184\n",
      "Epoch 44/50\n",
      "113/113 [==============================] - 1s 7ms/step - loss: 0.2350 - accuracy: 0.9300\n",
      "Epoch 45/50\n",
      "113/113 [==============================] - 1s 7ms/step - loss: 0.2153 - accuracy: 0.9347\n",
      "Epoch 46/50\n",
      "113/113 [==============================] - 1s 6ms/step - loss: 0.2133 - accuracy: 0.9307\n",
      "Epoch 47/50\n",
      "113/113 [==============================] - 1s 7ms/step - loss: 0.2088 - accuracy: 0.9392\n",
      "Epoch 48/50\n",
      "113/113 [==============================] - 1s 7ms/step - loss: 0.1916 - accuracy: 0.9442\n",
      "Epoch 49/50\n",
      "113/113 [==============================] - 1s 7ms/step - loss: 0.2296 - accuracy: 0.9318\n",
      "Epoch 50/50\n",
      "113/113 [==============================] - 1s 7ms/step - loss: 0.2680 - accuracy: 0.9248\n",
      "Epoch 1/50\n",
      "113/113 [==============================] - 1s 7ms/step - loss: 2.6068 - accuracy: 0.3188\n",
      "Epoch 2/50\n",
      "113/113 [==============================] - 1s 6ms/step - loss: 1.4904 - accuracy: 0.5187\n",
      "Epoch 3/50\n",
      "113/113 [==============================] - 1s 6ms/step - loss: 1.3489 - accuracy: 0.5655\n",
      "Epoch 4/50\n",
      "113/113 [==============================] - 1s 7ms/step - loss: 1.1139 - accuracy: 0.6482\n",
      "Epoch 5/50\n",
      "113/113 [==============================] - 1s 6ms/step - loss: 1.0518 - accuracy: 0.6754\n",
      "Epoch 6/50\n",
      "113/113 [==============================] - 1s 7ms/step - loss: 0.9453 - accuracy: 0.7071\n",
      "Epoch 7/50\n",
      "113/113 [==============================] - 1s 6ms/step - loss: 0.8985 - accuracy: 0.7319\n",
      "Epoch 8/50\n",
      "113/113 [==============================] - 1s 7ms/step - loss: 0.7967 - accuracy: 0.7495\n",
      "Epoch 9/50\n",
      "113/113 [==============================] - 1s 7ms/step - loss: 0.7395 - accuracy: 0.7719\n",
      "Epoch 10/50\n",
      "113/113 [==============================] - 1s 7ms/step - loss: 0.6989 - accuracy: 0.7775\n",
      "Epoch 11/50\n",
      "113/113 [==============================] - 1s 6ms/step - loss: 0.7042 - accuracy: 0.7786\n",
      "Epoch 12/50\n",
      "113/113 [==============================] - 1s 6ms/step - loss: 0.7321 - accuracy: 0.7890\n",
      "Epoch 13/50\n",
      "113/113 [==============================] - 1s 6ms/step - loss: 0.6333 - accuracy: 0.8049\n",
      "Epoch 14/50\n",
      "113/113 [==============================] - 1s 6ms/step - loss: 0.6590 - accuracy: 0.8137\n",
      "Epoch 15/50\n",
      "113/113 [==============================] - 1s 6ms/step - loss: 0.5359 - accuracy: 0.8263\n",
      "Epoch 16/50\n",
      "113/113 [==============================] - 1s 6ms/step - loss: 0.4939 - accuracy: 0.8442\n",
      "Epoch 17/50\n",
      "113/113 [==============================] - 1s 6ms/step - loss: 0.4951 - accuracy: 0.8401\n",
      "Epoch 18/50\n",
      "113/113 [==============================] - 1s 7ms/step - loss: 0.4476 - accuracy: 0.8572\n",
      "Epoch 19/50\n",
      "113/113 [==============================] - 1s 6ms/step - loss: 0.4803 - accuracy: 0.8433\n",
      "Epoch 20/50\n",
      "113/113 [==============================] - 1s 6ms/step - loss: 0.6020 - accuracy: 0.8361\n",
      "Epoch 21/50\n",
      "113/113 [==============================] - 1s 6ms/step - loss: 0.5090 - accuracy: 0.8407\n",
      "Epoch 22/50\n",
      "113/113 [==============================] - 1s 6ms/step - loss: 0.4415 - accuracy: 0.8670\n",
      "Epoch 23/50\n",
      "113/113 [==============================] - 1s 6ms/step - loss: 0.4134 - accuracy: 0.8747\n",
      "Epoch 24/50\n",
      "113/113 [==============================] - 1s 6ms/step - loss: 0.3815 - accuracy: 0.8803\n",
      "Epoch 25/50\n",
      "113/113 [==============================] - 1s 6ms/step - loss: 0.3720 - accuracy: 0.8860\n",
      "Epoch 26/50\n",
      "113/113 [==============================] - 1s 6ms/step - loss: 0.3411 - accuracy: 0.8968\n",
      "Epoch 27/50\n",
      "113/113 [==============================] - 1s 6ms/step - loss: 0.3770 - accuracy: 0.8867\n",
      "Epoch 28/50\n",
      "113/113 [==============================] - 1s 6ms/step - loss: 0.3912 - accuracy: 0.8890\n",
      "Epoch 29/50\n",
      "113/113 [==============================] - 1s 6ms/step - loss: 0.4117 - accuracy: 0.8763\n",
      "Epoch 30/50\n",
      "113/113 [==============================] - 1s 6ms/step - loss: 0.4418 - accuracy: 0.8654\n",
      "Epoch 31/50\n",
      "113/113 [==============================] - 1s 7ms/step - loss: 0.3634 - accuracy: 0.8879\n",
      "Epoch 32/50\n",
      "113/113 [==============================] - 1s 6ms/step - loss: 0.4691 - accuracy: 0.8757\n",
      "Epoch 33/50\n",
      "113/113 [==============================] - 1s 6ms/step - loss: 0.3426 - accuracy: 0.8961\n",
      "Epoch 34/50\n",
      "113/113 [==============================] - 1s 6ms/step - loss: 0.2910 - accuracy: 0.9098\n",
      "Epoch 35/50\n",
      "113/113 [==============================] - 1s 7ms/step - loss: 0.3169 - accuracy: 0.8958\n",
      "Epoch 36/50\n",
      "113/113 [==============================] - 1s 6ms/step - loss: 0.2925 - accuracy: 0.9132\n",
      "Epoch 37/50\n",
      "113/113 [==============================] - 1s 6ms/step - loss: 0.2793 - accuracy: 0.9185: 0s - loss:\n",
      "Epoch 38/50\n",
      "113/113 [==============================] - 1s 6ms/step - loss: 0.2607 - accuracy: 0.9251\n",
      "Epoch 39/50\n",
      "113/113 [==============================] - 1s 6ms/step - loss: 0.2602 - accuracy: 0.9190\n",
      "Epoch 40/50\n",
      "113/113 [==============================] - 1s 6ms/step - loss: 0.2699 - accuracy: 0.9159\n",
      "Epoch 41/50\n",
      "113/113 [==============================] - 1s 6ms/step - loss: 0.2753 - accuracy: 0.9215\n",
      "Epoch 42/50\n",
      "113/113 [==============================] - 1s 6ms/step - loss: 0.3470 - accuracy: 0.9113\n",
      "Epoch 43/50\n",
      "113/113 [==============================] - 1s 7ms/step - loss: 0.2692 - accuracy: 0.9232\n",
      "Epoch 44/50\n",
      "113/113 [==============================] - 1s 6ms/step - loss: 0.2705 - accuracy: 0.9252\n",
      "Epoch 45/50\n",
      "113/113 [==============================] - 1s 6ms/step - loss: 0.2466 - accuracy: 0.9339\n",
      "Epoch 46/50\n",
      "113/113 [==============================] - 1s 6ms/step - loss: 0.2583 - accuracy: 0.9255\n",
      "Epoch 47/50\n",
      "113/113 [==============================] - 1s 6ms/step - loss: 0.2807 - accuracy: 0.9142\n",
      "Epoch 48/50\n",
      "113/113 [==============================] - 1s 7ms/step - loss: 0.2071 - accuracy: 0.9365\n",
      "Epoch 49/50\n",
      "113/113 [==============================] - 1s 6ms/step - loss: 0.2959 - accuracy: 0.9119\n",
      "Epoch 50/50\n",
      "113/113 [==============================] - 1s 6ms/step - loss: 0.2548 - accuracy: 0.9328\n",
      "Epoch 1/50\n",
      "113/113 [==============================] - 1s 7ms/step - loss: 2.6628 - accuracy: 0.3110\n",
      "Epoch 2/50\n",
      "113/113 [==============================] - 1s 7ms/step - loss: 1.5053 - accuracy: 0.5164\n",
      "Epoch 3/50\n",
      "113/113 [==============================] - 1s 7ms/step - loss: 1.3201 - accuracy: 0.5714\n",
      "Epoch 4/50\n",
      "113/113 [==============================] - 1s 7ms/step - loss: 1.0925 - accuracy: 0.6431\n",
      "Epoch 5/50\n",
      "113/113 [==============================] - 1s 7ms/step - loss: 1.0317 - accuracy: 0.6740\n",
      "Epoch 6/50\n",
      "113/113 [==============================] - 1s 6ms/step - loss: 1.0317 - accuracy: 0.7001\n",
      "Epoch 7/50\n",
      "113/113 [==============================] - 1s 6ms/step - loss: 0.8922 - accuracy: 0.7278\n",
      "Epoch 8/50\n",
      "113/113 [==============================] - 1s 6ms/step - loss: 0.8263 - accuracy: 0.7445\n",
      "Epoch 9/50\n",
      "113/113 [==============================] - 1s 7ms/step - loss: 0.7464 - accuracy: 0.7677\n",
      "Epoch 10/50\n",
      "113/113 [==============================] - 1s 7ms/step - loss: 0.7204 - accuracy: 0.7679\n",
      "Epoch 11/50\n",
      "113/113 [==============================] - 1s 7ms/step - loss: 0.6267 - accuracy: 0.8027\n",
      "Epoch 12/50\n"
     ]
    },
    {
     "name": "stdout",
     "output_type": "stream",
     "text": [
      "113/113 [==============================] - 1s 7ms/step - loss: 0.6117 - accuracy: 0.8086\n",
      "Epoch 13/50\n",
      "113/113 [==============================] - 1s 6ms/step - loss: 0.6555 - accuracy: 0.7886\n",
      "Epoch 14/50\n",
      "113/113 [==============================] - 1s 6ms/step - loss: 0.6771 - accuracy: 0.7893\n",
      "Epoch 15/50\n",
      "113/113 [==============================] - 1s 6ms/step - loss: 0.6284 - accuracy: 0.8185\n",
      "Epoch 16/50\n",
      "113/113 [==============================] - 1s 6ms/step - loss: 0.5925 - accuracy: 0.8222\n",
      "Epoch 17/50\n",
      "113/113 [==============================] - 1s 6ms/step - loss: 0.5462 - accuracy: 0.8296\n",
      "Epoch 18/50\n",
      "113/113 [==============================] - 1s 6ms/step - loss: 0.4793 - accuracy: 0.8446\n",
      "Epoch 19/50\n",
      "113/113 [==============================] - 1s 6ms/step - loss: 0.5125 - accuracy: 0.8529\n",
      "Epoch 20/50\n",
      "113/113 [==============================] - 1s 7ms/step - loss: 0.4411 - accuracy: 0.8571\n",
      "Epoch 21/50\n",
      "113/113 [==============================] - 1s 6ms/step - loss: 0.4635 - accuracy: 0.8643\n",
      "Epoch 22/50\n",
      "113/113 [==============================] - 1s 7ms/step - loss: 0.4925 - accuracy: 0.8555\n",
      "Epoch 23/50\n",
      "113/113 [==============================] - 1s 6ms/step - loss: 0.4707 - accuracy: 0.8648\n",
      "Epoch 24/50\n",
      "113/113 [==============================] - 1s 6ms/step - loss: 0.4070 - accuracy: 0.8643\n",
      "Epoch 25/50\n",
      "113/113 [==============================] - 1s 6ms/step - loss: 0.4062 - accuracy: 0.8792\n",
      "Epoch 26/50\n",
      "113/113 [==============================] - 1s 8ms/step - loss: 0.4246 - accuracy: 0.8847\n",
      "Epoch 27/50\n",
      "113/113 [==============================] - 1s 7ms/step - loss: 0.4699 - accuracy: 0.8783\n",
      "Epoch 28/50\n",
      "113/113 [==============================] - 1s 6ms/step - loss: 0.4511 - accuracy: 0.8694\n",
      "Epoch 29/50\n",
      "113/113 [==============================] - 1s 6ms/step - loss: 0.7035 - accuracy: 0.8654\n",
      "Epoch 30/50\n",
      "113/113 [==============================] - 1s 6ms/step - loss: 0.3905 - accuracy: 0.8844\n",
      "Epoch 31/50\n",
      "113/113 [==============================] - 1s 6ms/step - loss: 0.3334 - accuracy: 0.9014\n",
      "Epoch 32/50\n",
      "113/113 [==============================] - 1s 8ms/step - loss: 0.3561 - accuracy: 0.8947\n",
      "Epoch 33/50\n",
      "113/113 [==============================] - 1s 12ms/step - loss: 0.3218 - accuracy: 0.8999\n",
      "Epoch 34/50\n",
      "113/113 [==============================] - 1s 7ms/step - loss: 0.3071 - accuracy: 0.9069\n",
      "Epoch 35/50\n",
      "113/113 [==============================] - 2s 14ms/step - loss: 0.3020 - accuracy: 0.9044\n",
      "Epoch 36/50\n",
      "113/113 [==============================] - 1s 8ms/step - loss: 0.3761 - accuracy: 0.8992\n",
      "Epoch 37/50\n",
      "113/113 [==============================] - 1s 7ms/step - loss: 0.3632 - accuracy: 0.8907\n",
      "Epoch 38/50\n",
      "113/113 [==============================] - 1s 9ms/step - loss: 0.2776 - accuracy: 0.9184\n",
      "Epoch 39/50\n",
      "113/113 [==============================] - 1s 7ms/step - loss: 0.5805 - accuracy: 0.9045\n",
      "Epoch 40/50\n",
      "113/113 [==============================] - 1s 9ms/step - loss: 0.4001 - accuracy: 0.8753\n",
      "Epoch 41/50\n",
      "113/113 [==============================] - 1s 6ms/step - loss: 0.2913 - accuracy: 0.9062\n",
      "Epoch 42/50\n",
      "113/113 [==============================] - 1s 7ms/step - loss: 0.2698 - accuracy: 0.9232\n",
      "Epoch 43/50\n",
      "113/113 [==============================] - 1s 6ms/step - loss: 0.2499 - accuracy: 0.9241\n",
      "Epoch 44/50\n",
      "113/113 [==============================] - 1s 7ms/step - loss: 0.2529 - accuracy: 0.9278\n",
      "Epoch 45/50\n",
      "113/113 [==============================] - 1s 7ms/step - loss: 0.2598 - accuracy: 0.9193\n",
      "Epoch 46/50\n",
      "113/113 [==============================] - 1s 7ms/step - loss: 0.2834 - accuracy: 0.9171\n",
      "Epoch 47/50\n",
      "113/113 [==============================] - 1s 6ms/step - loss: 0.2724 - accuracy: 0.9188\n",
      "Epoch 48/50\n",
      "113/113 [==============================] - 1s 7ms/step - loss: 0.3632 - accuracy: 0.9286\n",
      "Epoch 49/50\n",
      "113/113 [==============================] - 1s 6ms/step - loss: 0.3080 - accuracy: 0.9100\n",
      "Epoch 50/50\n",
      "113/113 [==============================] - 1s 6ms/step - loss: 0.3208 - accuracy: 0.9114\n",
      "Epoch 1/50\n",
      "113/113 [==============================] - 1s 6ms/step - loss: 2.1905 - accuracy: 0.3560\n",
      "Epoch 2/50\n",
      "113/113 [==============================] - 1s 6ms/step - loss: 1.4545 - accuracy: 0.5372\n",
      "Epoch 3/50\n",
      "113/113 [==============================] - 1s 6ms/step - loss: 1.2249 - accuracy: 0.6098\n",
      "Epoch 4/50\n",
      "113/113 [==============================] - 1s 6ms/step - loss: 1.0821 - accuracy: 0.6609\n",
      "Epoch 5/50\n",
      "113/113 [==============================] - 1s 6ms/step - loss: 1.0655 - accuracy: 0.6936\n",
      "Epoch 6/50\n",
      "113/113 [==============================] - 1s 7ms/step - loss: 0.8147 - accuracy: 0.7509\n",
      "Epoch 7/50\n",
      "113/113 [==============================] - 1s 7ms/step - loss: 0.8390 - accuracy: 0.7283\n",
      "Epoch 8/50\n",
      "113/113 [==============================] - 1s 7ms/step - loss: 0.8450 - accuracy: 0.7643\n",
      "Epoch 9/50\n",
      "113/113 [==============================] - 1s 6ms/step - loss: 0.6968 - accuracy: 0.7670\n",
      "Epoch 10/50\n",
      "113/113 [==============================] - 1s 6ms/step - loss: 0.6242 - accuracy: 0.8039\n",
      "Epoch 11/50\n",
      "113/113 [==============================] - 1s 7ms/step - loss: 0.5876 - accuracy: 0.8149\n",
      "Epoch 12/50\n",
      "113/113 [==============================] - 1s 8ms/step - loss: 0.6309 - accuracy: 0.8134\n",
      "Epoch 13/50\n",
      "113/113 [==============================] - 1s 7ms/step - loss: 0.5786 - accuracy: 0.8236\n",
      "Epoch 14/50\n",
      "113/113 [==============================] - 1s 10ms/step - loss: 0.5672 - accuracy: 0.8295\n",
      "Epoch 15/50\n",
      "113/113 [==============================] - 1s 13ms/step - loss: 0.5450 - accuracy: 0.8264\n",
      "Epoch 16/50\n",
      "113/113 [==============================] - 2s 16ms/step - loss: 0.4821 - accuracy: 0.8510\n",
      "Epoch 17/50\n",
      "113/113 [==============================] - 1s 11ms/step - loss: 0.4539 - accuracy: 0.8592\n",
      "Epoch 18/50\n",
      "113/113 [==============================] - 1s 8ms/step - loss: 0.4724 - accuracy: 0.8570\n",
      "Epoch 19/50\n",
      "113/113 [==============================] - 1s 7ms/step - loss: 0.4800 - accuracy: 0.8548\n",
      "Epoch 20/50\n",
      "113/113 [==============================] - 1s 8ms/step - loss: 0.5586 - accuracy: 0.8537\n",
      "Epoch 21/50\n",
      "113/113 [==============================] - 1s 8ms/step - loss: 0.4101 - accuracy: 0.8788\n",
      "Epoch 22/50\n",
      "113/113 [==============================] - 1s 7ms/step - loss: 0.4042 - accuracy: 0.8813\n",
      "Epoch 23/50\n",
      "113/113 [==============================] - 1s 9ms/step - loss: 0.3505 - accuracy: 0.8971\n",
      "Epoch 24/50\n",
      "113/113 [==============================] - 1s 7ms/step - loss: 0.3742 - accuracy: 0.8924\n",
      "Epoch 25/50\n",
      "113/113 [==============================] - 1s 7ms/step - loss: 0.3346 - accuracy: 0.9027\n",
      "Epoch 26/50\n",
      "113/113 [==============================] - 1s 7ms/step - loss: 0.3782 - accuracy: 0.8917\n",
      "Epoch 27/50\n",
      "113/113 [==============================] - 1s 8ms/step - loss: 0.3822 - accuracy: 0.8872\n",
      "Epoch 28/50\n",
      "113/113 [==============================] - 1s 7ms/step - loss: 0.3523 - accuracy: 0.8930\n",
      "Epoch 29/50\n",
      "113/113 [==============================] - 1s 7ms/step - loss: 0.3333 - accuracy: 0.9115\n",
      "Epoch 30/50\n",
      "113/113 [==============================] - 1s 9ms/step - loss: 0.3108 - accuracy: 0.9079\n",
      "Epoch 31/50\n",
      "113/113 [==============================] - 1s 10ms/step - loss: 0.3309 - accuracy: 0.9051\n",
      "Epoch 32/50\n",
      "113/113 [==============================] - 1s 7ms/step - loss: 0.4174 - accuracy: 0.8955\n",
      "Epoch 33/50\n",
      "113/113 [==============================] - 1s 9ms/step - loss: 0.4762 - accuracy: 0.8896\n",
      "Epoch 34/50\n",
      "113/113 [==============================] - 1s 10ms/step - loss: 0.2962 - accuracy: 0.9113\n",
      "Epoch 35/50\n",
      "113/113 [==============================] - 1s 12ms/step - loss: 0.3144 - accuracy: 0.9029\n",
      "Epoch 36/50\n",
      "113/113 [==============================] - 1s 11ms/step - loss: 0.2857 - accuracy: 0.9136\n",
      "Epoch 37/50\n",
      "113/113 [==============================] - 1s 11ms/step - loss: 0.2684 - accuracy: 0.9199\n",
      "Epoch 38/50\n",
      "113/113 [==============================] - 1s 8ms/step - loss: 0.2382 - accuracy: 0.9231\n",
      "Epoch 39/50\n",
      "113/113 [==============================] - 1s 9ms/step - loss: 0.2620 - accuracy: 0.9232\n",
      "Epoch 40/50\n",
      "113/113 [==============================] - 1s 9ms/step - loss: 0.2455 - accuracy: 0.9287\n",
      "Epoch 41/50\n",
      "113/113 [==============================] - 1s 10ms/step - loss: 0.2246 - accuracy: 0.9276\n",
      "Epoch 42/50\n",
      "113/113 [==============================] - 1s 11ms/step - loss: 0.2083 - accuracy: 0.9365\n",
      "Epoch 43/50\n"
     ]
    },
    {
     "name": "stdout",
     "output_type": "stream",
     "text": [
      "113/113 [==============================] - 1s 9ms/step - loss: 0.2267 - accuracy: 0.9334\n",
      "Epoch 44/50\n",
      "113/113 [==============================] - 1s 10ms/step - loss: 0.2185 - accuracy: 0.9328\n",
      "Epoch 45/50\n",
      "113/113 [==============================] - 1s 12ms/step - loss: 0.1964 - accuracy: 0.9394\n",
      "Epoch 46/50\n",
      "113/113 [==============================] - 1s 9ms/step - loss: 0.2343 - accuracy: 0.9376\n",
      "Epoch 47/50\n",
      "113/113 [==============================] - 1s 9ms/step - loss: 0.4337 - accuracy: 0.8989\n",
      "Epoch 48/50\n",
      "113/113 [==============================] - 1s 10ms/step - loss: 0.3062 - accuracy: 0.9211\n",
      "Epoch 49/50\n",
      "113/113 [==============================] - 1s 8ms/step - loss: 0.3125 - accuracy: 0.9173\n",
      "Epoch 50/50\n",
      "113/113 [==============================] - 1s 9ms/step - loss: 0.2798 - accuracy: 0.9235\n"
     ]
    }
   ],
   "source": [
    "cvscores2 = []\n",
    "\n",
    "for train, val in kFold2.split(X_train, y_train):\n",
    "    base = Sequential()\n",
    "    base.add(Conv2D(64, (3,3), activation='relu', input_shape=input_dim))\n",
    "    base.add(Flatten())\n",
    "    base.add(Dense(64, activation='relu'))\n",
    "    base.add(Dense(10, activation='softmax'))\n",
    "    \n",
    "    base.compile(optimizer='adam',\n",
    "             loss='sparse_categorical_crossentropy',\n",
    "             metrics=['accuracy']\n",
    "                       )\n",
    "    \n",
    "    base.fit(X_train[train], y_train[train], epochs=50, batch_size=32)\n",
    "    \n",
    "    base.evaluate(X_train[val], y_train[val], verbose=0)\n",
    "    \n",
    "    cvscores2.append(scores[1] * 100)"
   ]
  },
  {
   "cell_type": "code",
   "execution_count": 602,
   "metadata": {},
   "outputs": [
    {
     "name": "stdout",
     "output_type": "stream",
     "text": [
      "50.44% (+/- 0.00%)\n"
     ]
    }
   ],
   "source": [
    "print(\"%.2f%% (+/- %.2f%%)\" % (np.mean(cvscores2), np.std(cvscores2)))"
   ]
  },
  {
   "cell_type": "markdown",
   "metadata": {},
   "source": [
    "## Model 4"
   ]
  },
  {
   "cell_type": "code",
   "execution_count": 547,
   "metadata": {
    "scrolled": true
   },
   "outputs": [
    {
     "name": "stdout",
     "output_type": "stream",
     "text": [
      "Epoch 1/50\n",
      "73/73 [==============================] - 5s 64ms/step - loss: 0.2166 - accuracy: 0.9503\n",
      "Epoch 2/50\n",
      "73/73 [==============================] - 5s 63ms/step - loss: 0.3434 - accuracy: 0.9434\n",
      "Epoch 3/50\n",
      "73/73 [==============================] - 5s 66ms/step - loss: 0.2653 - accuracy: 0.9434\n",
      "Epoch 4/50\n",
      "73/73 [==============================] - 4s 59ms/step - loss: 0.2770 - accuracy: 0.9477\n",
      "Epoch 5/50\n",
      "73/73 [==============================] - 4s 61ms/step - loss: 0.2101 - accuracy: 0.9512\n",
      "Epoch 6/50\n",
      "73/73 [==============================] - 4s 61ms/step - loss: 0.2258 - accuracy: 0.9477\n",
      "Epoch 7/50\n",
      "73/73 [==============================] - 5s 68ms/step - loss: 0.2488 - accuracy: 0.9499\n",
      "Epoch 8/50\n",
      "73/73 [==============================] - 4s 55ms/step - loss: 0.3148 - accuracy: 0.9516\n",
      "Epoch 9/50\n",
      "73/73 [==============================] - 5s 64ms/step - loss: 0.2196 - accuracy: 0.9460\n",
      "Epoch 10/50\n",
      "73/73 [==============================] - 5s 63ms/step - loss: 0.2180 - accuracy: 0.9499\n",
      "Epoch 11/50\n",
      "73/73 [==============================] - 4s 54ms/step - loss: 0.2810 - accuracy: 0.9529\n",
      "Epoch 12/50\n",
      "73/73 [==============================] - 4s 55ms/step - loss: 0.2181 - accuracy: 0.9529\n",
      "Epoch 13/50\n",
      "73/73 [==============================] - 4s 55ms/step - loss: 0.2319 - accuracy: 0.9559\n",
      "Epoch 14/50\n",
      "73/73 [==============================] - 4s 56ms/step - loss: 0.2112 - accuracy: 0.9533\n",
      "Epoch 15/50\n",
      "73/73 [==============================] - 4s 55ms/step - loss: 0.1837 - accuracy: 0.9580\n",
      "Epoch 16/50\n",
      "73/73 [==============================] - 4s 55ms/step - loss: 0.1898 - accuracy: 0.9567\n",
      "Epoch 17/50\n",
      "73/73 [==============================] - 4s 57ms/step - loss: 0.8582 - accuracy: 0.9606\n",
      "Epoch 18/50\n",
      "73/73 [==============================] - 4s 59ms/step - loss: 0.1297 - accuracy: 0.9589\n",
      "Epoch 19/50\n",
      "73/73 [==============================] - 4s 60ms/step - loss: 0.4338 - accuracy: 0.9619\n",
      "Epoch 20/50\n",
      "73/73 [==============================] - 4s 54ms/step - loss: 0.1641 - accuracy: 0.9632\n",
      "Epoch 21/50\n",
      "73/73 [==============================] - 4s 57ms/step - loss: 0.2398 - accuracy: 0.9580\n",
      "Epoch 22/50\n",
      "73/73 [==============================] - 4s 55ms/step - loss: 0.2690 - accuracy: 0.9554\n",
      "Epoch 23/50\n",
      "73/73 [==============================] - 4s 55ms/step - loss: 0.1369 - accuracy: 0.9666\n",
      "Epoch 24/50\n",
      "73/73 [==============================] - 4s 56ms/step - loss: 0.3021 - accuracy: 0.9584\n",
      "Epoch 25/50\n",
      "73/73 [==============================] - 4s 57ms/step - loss: 0.2386 - accuracy: 0.9619\n",
      "Epoch 26/50\n",
      "73/73 [==============================] - 4s 59ms/step - loss: 0.2463 - accuracy: 0.9593\n",
      "Epoch 27/50\n",
      "58/73 [======================>.......] - ETA: 0s - loss: 0.1695 - accuracy: 0.9671"
     ]
    },
    {
     "ename": "KeyboardInterrupt",
     "evalue": "",
     "output_type": "error",
     "traceback": [
      "\u001b[0;31m---------------------------------------------------------------------------\u001b[0m",
      "\u001b[0;31mKeyboardInterrupt\u001b[0m                         Traceback (most recent call last)",
      "\u001b[0;32m<ipython-input-547-ea71833c7a57>\u001b[0m in \u001b[0;36m<module>\u001b[0;34m\u001b[0m\n\u001b[0;32m----> 1\u001b[0;31m history2 = model1.fit(X_train, y_train,\n\u001b[0m\u001b[1;32m      2\u001b[0m            \u001b[0mepochs\u001b[0m\u001b[0;34m=\u001b[0m\u001b[0;36m50\u001b[0m\u001b[0;34m,\u001b[0m\u001b[0;34m\u001b[0m\u001b[0;34m\u001b[0m\u001b[0m\n\u001b[1;32m      3\u001b[0m           \u001b[0mbatch_size\u001b[0m\u001b[0;34m=\u001b[0m\u001b[0;36m32\u001b[0m\u001b[0;34m,\u001b[0m\u001b[0;34m\u001b[0m\u001b[0;34m\u001b[0m\u001b[0m\n\u001b[1;32m      4\u001b[0m           )\n",
      "\u001b[0;32m~/opt/anaconda3/lib/python3.8/site-packages/tensorflow/python/keras/engine/training.py\u001b[0m in \u001b[0;36mfit\u001b[0;34m(self, x, y, batch_size, epochs, verbose, callbacks, validation_split, validation_data, shuffle, class_weight, sample_weight, initial_epoch, steps_per_epoch, validation_steps, validation_batch_size, validation_freq, max_queue_size, workers, use_multiprocessing)\u001b[0m\n\u001b[1;32m   1093\u001b[0m                 _r=1):\n\u001b[1;32m   1094\u001b[0m               \u001b[0mcallbacks\u001b[0m\u001b[0;34m.\u001b[0m\u001b[0mon_train_batch_begin\u001b[0m\u001b[0;34m(\u001b[0m\u001b[0mstep\u001b[0m\u001b[0;34m)\u001b[0m\u001b[0;34m\u001b[0m\u001b[0;34m\u001b[0m\u001b[0m\n\u001b[0;32m-> 1095\u001b[0;31m               \u001b[0mtmp_logs\u001b[0m \u001b[0;34m=\u001b[0m \u001b[0mself\u001b[0m\u001b[0;34m.\u001b[0m\u001b[0mtrain_function\u001b[0m\u001b[0;34m(\u001b[0m\u001b[0miterator\u001b[0m\u001b[0;34m)\u001b[0m\u001b[0;34m\u001b[0m\u001b[0;34m\u001b[0m\u001b[0m\n\u001b[0m\u001b[1;32m   1096\u001b[0m               \u001b[0;32mif\u001b[0m \u001b[0mdata_handler\u001b[0m\u001b[0;34m.\u001b[0m\u001b[0mshould_sync\u001b[0m\u001b[0;34m:\u001b[0m\u001b[0;34m\u001b[0m\u001b[0;34m\u001b[0m\u001b[0m\n\u001b[1;32m   1097\u001b[0m                 \u001b[0mcontext\u001b[0m\u001b[0;34m.\u001b[0m\u001b[0masync_wait\u001b[0m\u001b[0;34m(\u001b[0m\u001b[0;34m)\u001b[0m\u001b[0;34m\u001b[0m\u001b[0;34m\u001b[0m\u001b[0m\n",
      "\u001b[0;32m~/opt/anaconda3/lib/python3.8/site-packages/tensorflow/python/eager/def_function.py\u001b[0m in \u001b[0;36m__call__\u001b[0;34m(self, *args, **kwds)\u001b[0m\n\u001b[1;32m    826\u001b[0m     \u001b[0mtracing_count\u001b[0m \u001b[0;34m=\u001b[0m \u001b[0mself\u001b[0m\u001b[0;34m.\u001b[0m\u001b[0mexperimental_get_tracing_count\u001b[0m\u001b[0;34m(\u001b[0m\u001b[0;34m)\u001b[0m\u001b[0;34m\u001b[0m\u001b[0;34m\u001b[0m\u001b[0m\n\u001b[1;32m    827\u001b[0m     \u001b[0;32mwith\u001b[0m \u001b[0mtrace\u001b[0m\u001b[0;34m.\u001b[0m\u001b[0mTrace\u001b[0m\u001b[0;34m(\u001b[0m\u001b[0mself\u001b[0m\u001b[0;34m.\u001b[0m\u001b[0m_name\u001b[0m\u001b[0;34m)\u001b[0m \u001b[0;32mas\u001b[0m \u001b[0mtm\u001b[0m\u001b[0;34m:\u001b[0m\u001b[0;34m\u001b[0m\u001b[0;34m\u001b[0m\u001b[0m\n\u001b[0;32m--> 828\u001b[0;31m       \u001b[0mresult\u001b[0m \u001b[0;34m=\u001b[0m \u001b[0mself\u001b[0m\u001b[0;34m.\u001b[0m\u001b[0m_call\u001b[0m\u001b[0;34m(\u001b[0m\u001b[0;34m*\u001b[0m\u001b[0margs\u001b[0m\u001b[0;34m,\u001b[0m \u001b[0;34m**\u001b[0m\u001b[0mkwds\u001b[0m\u001b[0;34m)\u001b[0m\u001b[0;34m\u001b[0m\u001b[0;34m\u001b[0m\u001b[0m\n\u001b[0m\u001b[1;32m    829\u001b[0m       \u001b[0mcompiler\u001b[0m \u001b[0;34m=\u001b[0m \u001b[0;34m\"xla\"\u001b[0m \u001b[0;32mif\u001b[0m \u001b[0mself\u001b[0m\u001b[0;34m.\u001b[0m\u001b[0m_experimental_compile\u001b[0m \u001b[0;32melse\u001b[0m \u001b[0;34m\"nonXla\"\u001b[0m\u001b[0;34m\u001b[0m\u001b[0;34m\u001b[0m\u001b[0m\n\u001b[1;32m    830\u001b[0m       \u001b[0mnew_tracing_count\u001b[0m \u001b[0;34m=\u001b[0m \u001b[0mself\u001b[0m\u001b[0;34m.\u001b[0m\u001b[0mexperimental_get_tracing_count\u001b[0m\u001b[0;34m(\u001b[0m\u001b[0;34m)\u001b[0m\u001b[0;34m\u001b[0m\u001b[0;34m\u001b[0m\u001b[0m\n",
      "\u001b[0;32m~/opt/anaconda3/lib/python3.8/site-packages/tensorflow/python/eager/def_function.py\u001b[0m in \u001b[0;36m_call\u001b[0;34m(self, *args, **kwds)\u001b[0m\n\u001b[1;32m    853\u001b[0m       \u001b[0;31m# In this case we have created variables on the first call, so we run the\u001b[0m\u001b[0;34m\u001b[0m\u001b[0;34m\u001b[0m\u001b[0;34m\u001b[0m\u001b[0m\n\u001b[1;32m    854\u001b[0m       \u001b[0;31m# defunned version which is guaranteed to never create variables.\u001b[0m\u001b[0;34m\u001b[0m\u001b[0;34m\u001b[0m\u001b[0;34m\u001b[0m\u001b[0m\n\u001b[0;32m--> 855\u001b[0;31m       \u001b[0;32mreturn\u001b[0m \u001b[0mself\u001b[0m\u001b[0;34m.\u001b[0m\u001b[0m_stateless_fn\u001b[0m\u001b[0;34m(\u001b[0m\u001b[0;34m*\u001b[0m\u001b[0margs\u001b[0m\u001b[0;34m,\u001b[0m \u001b[0;34m**\u001b[0m\u001b[0mkwds\u001b[0m\u001b[0;34m)\u001b[0m  \u001b[0;31m# pylint: disable=not-callable\u001b[0m\u001b[0;34m\u001b[0m\u001b[0;34m\u001b[0m\u001b[0m\n\u001b[0m\u001b[1;32m    856\u001b[0m     \u001b[0;32melif\u001b[0m \u001b[0mself\u001b[0m\u001b[0;34m.\u001b[0m\u001b[0m_stateful_fn\u001b[0m \u001b[0;32mis\u001b[0m \u001b[0;32mnot\u001b[0m \u001b[0;32mNone\u001b[0m\u001b[0;34m:\u001b[0m\u001b[0;34m\u001b[0m\u001b[0;34m\u001b[0m\u001b[0m\n\u001b[1;32m    857\u001b[0m       \u001b[0;31m# Release the lock early so that multiple threads can perform the call\u001b[0m\u001b[0;34m\u001b[0m\u001b[0;34m\u001b[0m\u001b[0;34m\u001b[0m\u001b[0m\n",
      "\u001b[0;32m~/opt/anaconda3/lib/python3.8/site-packages/tensorflow/python/eager/function.py\u001b[0m in \u001b[0;36m__call__\u001b[0;34m(self, *args, **kwargs)\u001b[0m\n\u001b[1;32m   2940\u001b[0m       (graph_function,\n\u001b[1;32m   2941\u001b[0m        filtered_flat_args) = self._maybe_define_function(args, kwargs)\n\u001b[0;32m-> 2942\u001b[0;31m     return graph_function._call_flat(\n\u001b[0m\u001b[1;32m   2943\u001b[0m         filtered_flat_args, captured_inputs=graph_function.captured_inputs)  # pylint: disable=protected-access\n\u001b[1;32m   2944\u001b[0m \u001b[0;34m\u001b[0m\u001b[0m\n",
      "\u001b[0;32m~/opt/anaconda3/lib/python3.8/site-packages/tensorflow/python/eager/function.py\u001b[0m in \u001b[0;36m_call_flat\u001b[0;34m(self, args, captured_inputs, cancellation_manager)\u001b[0m\n\u001b[1;32m   1916\u001b[0m         and executing_eagerly):\n\u001b[1;32m   1917\u001b[0m       \u001b[0;31m# No tape is watching; skip to running the function.\u001b[0m\u001b[0;34m\u001b[0m\u001b[0;34m\u001b[0m\u001b[0;34m\u001b[0m\u001b[0m\n\u001b[0;32m-> 1918\u001b[0;31m       return self._build_call_outputs(self._inference_function.call(\n\u001b[0m\u001b[1;32m   1919\u001b[0m           ctx, args, cancellation_manager=cancellation_manager))\n\u001b[1;32m   1920\u001b[0m     forward_backward = self._select_forward_and_backward_functions(\n",
      "\u001b[0;32m~/opt/anaconda3/lib/python3.8/site-packages/tensorflow/python/eager/function.py\u001b[0m in \u001b[0;36mcall\u001b[0;34m(self, ctx, args, cancellation_manager)\u001b[0m\n\u001b[1;32m    553\u001b[0m       \u001b[0;32mwith\u001b[0m \u001b[0m_InterpolateFunctionError\u001b[0m\u001b[0;34m(\u001b[0m\u001b[0mself\u001b[0m\u001b[0;34m)\u001b[0m\u001b[0;34m:\u001b[0m\u001b[0;34m\u001b[0m\u001b[0;34m\u001b[0m\u001b[0m\n\u001b[1;32m    554\u001b[0m         \u001b[0;32mif\u001b[0m \u001b[0mcancellation_manager\u001b[0m \u001b[0;32mis\u001b[0m \u001b[0;32mNone\u001b[0m\u001b[0;34m:\u001b[0m\u001b[0;34m\u001b[0m\u001b[0;34m\u001b[0m\u001b[0m\n\u001b[0;32m--> 555\u001b[0;31m           outputs = execute.execute(\n\u001b[0m\u001b[1;32m    556\u001b[0m               \u001b[0mstr\u001b[0m\u001b[0;34m(\u001b[0m\u001b[0mself\u001b[0m\u001b[0;34m.\u001b[0m\u001b[0msignature\u001b[0m\u001b[0;34m.\u001b[0m\u001b[0mname\u001b[0m\u001b[0;34m)\u001b[0m\u001b[0;34m,\u001b[0m\u001b[0;34m\u001b[0m\u001b[0;34m\u001b[0m\u001b[0m\n\u001b[1;32m    557\u001b[0m               \u001b[0mnum_outputs\u001b[0m\u001b[0;34m=\u001b[0m\u001b[0mself\u001b[0m\u001b[0;34m.\u001b[0m\u001b[0m_num_outputs\u001b[0m\u001b[0;34m,\u001b[0m\u001b[0;34m\u001b[0m\u001b[0;34m\u001b[0m\u001b[0m\n",
      "\u001b[0;32m~/opt/anaconda3/lib/python3.8/site-packages/tensorflow/python/eager/execute.py\u001b[0m in \u001b[0;36mquick_execute\u001b[0;34m(op_name, num_outputs, inputs, attrs, ctx, name)\u001b[0m\n\u001b[1;32m     57\u001b[0m   \u001b[0;32mtry\u001b[0m\u001b[0;34m:\u001b[0m\u001b[0;34m\u001b[0m\u001b[0;34m\u001b[0m\u001b[0m\n\u001b[1;32m     58\u001b[0m     \u001b[0mctx\u001b[0m\u001b[0;34m.\u001b[0m\u001b[0mensure_initialized\u001b[0m\u001b[0;34m(\u001b[0m\u001b[0;34m)\u001b[0m\u001b[0;34m\u001b[0m\u001b[0;34m\u001b[0m\u001b[0m\n\u001b[0;32m---> 59\u001b[0;31m     tensors = pywrap_tfe.TFE_Py_Execute(ctx._handle, device_name, op_name,\n\u001b[0m\u001b[1;32m     60\u001b[0m                                         inputs, attrs, num_outputs)\n\u001b[1;32m     61\u001b[0m   \u001b[0;32mexcept\u001b[0m \u001b[0mcore\u001b[0m\u001b[0;34m.\u001b[0m\u001b[0m_NotOkStatusException\u001b[0m \u001b[0;32mas\u001b[0m \u001b[0me\u001b[0m\u001b[0;34m:\u001b[0m\u001b[0;34m\u001b[0m\u001b[0;34m\u001b[0m\u001b[0m\n",
      "\u001b[0;31mKeyboardInterrupt\u001b[0m: "
     ]
    }
   ],
   "source": [
    "history2 = model1.fit(X_train, y_train,\n",
    "           epochs=50,\n",
    "          batch_size=32,\n",
    "          )"
   ]
  },
  {
   "cell_type": "code",
   "execution_count": 55,
   "metadata": {},
   "outputs": [
    {
     "name": "stdout",
     "output_type": "stream",
     "text": [
      "\n",
      "Confusion Matrix :\n",
      "\n",
      "\n",
      "[[176   2  51  14  39  82  28   0   4 104]\n",
      " [  2 140  26   8  14   4   0   3   4  20]\n",
      " [ 27   0 301  32  15  36   2   3  58  26]\n",
      " [ 10   5  64 330  12  15   1   2  50  11]\n",
      " [ 23   9  24  29 230  17   7  52  14  95]\n",
      " [ 47  14  51  24   7 288   0   2  27  23]\n",
      " [  6   0  38   2   6   2 116   5   6   3]\n",
      " [ 23   1  22   8 247  27  43  64   1  16]\n",
      " [ 15   2  17  30   6  14   1   8 291   9]\n",
      " [ 33   3  61  36  34  16   2  15  15 285]]\n",
      "\n",
      "\n",
      "Classification Report : \n",
      "\n",
      "               precision    recall  f1-score   support\n",
      "\n",
      "           0       0.49      0.35      0.41       500\n",
      "           1       0.80      0.63      0.71       221\n",
      "           2       0.46      0.60      0.52       500\n",
      "           3       0.64      0.66      0.65       500\n",
      "           4       0.38      0.46      0.41       500\n",
      "           5       0.57      0.60      0.59       483\n",
      "           6       0.58      0.63      0.60       184\n",
      "           7       0.42      0.14      0.21       452\n",
      "           8       0.62      0.74      0.67       393\n",
      "           9       0.48      0.57      0.52       500\n",
      "\n",
      "    accuracy                           0.52      4233\n",
      "   macro avg       0.54      0.54      0.53      4233\n",
      "weighted avg       0.52      0.52      0.51      4233\n",
      "\n"
     ]
    }
   ],
   "source": [
    "ytrue = np.argmax(y_test,axis=1)\n",
    "preds1 = np.argmax(model1.predict(X_test),axis=1)\n",
    "print('\\nConfusion Matrix :\\n\\n')\n",
    "print(confusion_matrix(ytrue,preds1))\n",
    "print('\\n\\nClassification Report : \\n\\n',classification_report(ytrue,preds1))"
   ]
  },
  {
   "cell_type": "markdown",
   "metadata": {},
   "source": [
    "How to reduce overfitting:\n",
    "\n",
    "1. Use simple cost and loss function\n",
    "2. Use regularisation (e.g. Dropout)\n",
    "3. Reduce number of learning parameters in model"
   ]
  },
  {
   "cell_type": "markdown",
   "metadata": {},
   "source": [
    "## Reduce Model Overfitting"
   ]
  },
  {
   "cell_type": "markdown",
   "metadata": {},
   "source": [
    "1. Early Stopping"
   ]
  },
  {
   "cell_type": "code",
   "execution_count": 652,
   "metadata": {
    "scrolled": true
   },
   "outputs": [
    {
     "name": "stdout",
     "output_type": "stream",
     "text": [
      "Epoch 1/50\n",
      "94/94 [==============================] - 5s 50ms/step - loss: 3.7496 - accuracy: 0.2710 - val_loss: 1.8748 - val_accuracy: 0.4063\n",
      "Epoch 2/50\n",
      "94/94 [==============================] - 5s 55ms/step - loss: 1.6024 - accuracy: 0.4701 - val_loss: 1.8698 - val_accuracy: 0.4683\n",
      "Epoch 3/50\n",
      "94/94 [==============================] - 4s 44ms/step - loss: 1.4935 - accuracy: 0.5238 - val_loss: 1.5398 - val_accuracy: 0.5177\n",
      "Epoch 4/50\n",
      "94/94 [==============================] - 5s 52ms/step - loss: 1.2774 - accuracy: 0.5833 - val_loss: 1.4731 - val_accuracy: 0.5530\n",
      "Epoch 5/50\n",
      "94/94 [==============================] - 4s 48ms/step - loss: 1.2084 - accuracy: 0.6052 - val_loss: 1.4489 - val_accuracy: 0.5564\n",
      "Epoch 6/50\n",
      "94/94 [==============================] - 5s 50ms/step - loss: 1.1072 - accuracy: 0.6392 - val_loss: 1.3100 - val_accuracy: 0.6171\n",
      "Epoch 7/50\n",
      "94/94 [==============================] - 4s 48ms/step - loss: 0.9743 - accuracy: 0.6779 - val_loss: 1.3385 - val_accuracy: 0.6024\n",
      "Epoch 8/50\n",
      "94/94 [==============================] - 4s 45ms/step - loss: 0.9676 - accuracy: 0.6868 - val_loss: 1.2079 - val_accuracy: 0.6684\n",
      "Epoch 9/50\n",
      "94/94 [==============================] - 5s 51ms/step - loss: 0.8187 - accuracy: 0.7341 - val_loss: 1.2352 - val_accuracy: 0.6791\n",
      "Epoch 10/50\n",
      "94/94 [==============================] - 5s 50ms/step - loss: 0.7734 - accuracy: 0.7588 - val_loss: 1.1888 - val_accuracy: 0.6818\n",
      "Epoch 11/50\n",
      "94/94 [==============================] - 5s 51ms/step - loss: 0.7718 - accuracy: 0.7421 - val_loss: 1.2786 - val_accuracy: 0.6918\n"
     ]
    }
   ],
   "source": [
    "callbacks_list = [\n",
    "    keras.callbacks.EarlyStopping(\n",
    "    monitor='accuracy',\n",
    "    patience=1,\n",
    "    ),\n",
    "    keras.callbacks.ModelCheckpoint(\n",
    "    filepath='my_model1.h5',\n",
    "    monitor='val_loss',\n",
    "    save_best_only=True,\n",
    "    )\n",
    "]\n",
    "\n",
    "model1.compile(optimizer='adam',\n",
    "             loss='categorical_crossentropy',\n",
    "             metrics=['accuracy'])\n",
    "\n",
    "history_es = model1.fit(X_train, y_train,\n",
    "         epochs=50,\n",
    "         callbacks=callbacks_list, \n",
    "         validation_data=(X_val, y_val))"
   ]
  },
  {
   "cell_type": "code",
   "execution_count": 654,
   "metadata": {
    "scrolled": true
   },
   "outputs": [
    {
     "name": "stdout",
     "output_type": "stream",
     "text": [
      "Test Accuracy: 0.4670446491849752\n",
      "Val Accuracy: 0.6917945146560669\n",
      "Train Accuracy: 0.7793333530426025\n"
     ]
    }
   ],
   "source": [
    "predictions_base = model1.predict(X_test)\n",
    "score_val, acc_val = model1.evaluate(X_val, y_val, verbose=0)\n",
    "score_train, acc_train = model1.evaluate(X_train, y_train, verbose=0)\n",
    "y_pred = model1.predict_classes(X_test)\n",
    "print(\"Test Accuracy:\",metrics.accuracy_score(np.argmax(y_test, axis=1),y_pred))\n",
    "print(f'Val Accuracy: {acc_val}')\n",
    "print(f'Train Accuracy: {acc_train}')"
   ]
  },
  {
   "cell_type": "markdown",
   "metadata": {},
   "source": [
    "2. Reduce LR On Plateau"
   ]
  },
  {
   "cell_type": "code",
   "execution_count": 657,
   "metadata": {
    "scrolled": true
   },
   "outputs": [
    {
     "name": "stdout",
     "output_type": "stream",
     "text": [
      "Epoch 1/50\n",
      "94/94 [==============================] - 7s 51ms/step - loss: 3.9828 - accuracy: 0.2581 - val_loss: 1.7090 - val_accuracy: 0.4356\n",
      "Epoch 2/50\n",
      "94/94 [==============================] - 5s 56ms/step - loss: 1.6175 - accuracy: 0.4726 - val_loss: 1.6827 - val_accuracy: 0.4616\n",
      "Epoch 3/50\n",
      "94/94 [==============================] - 5s 48ms/step - loss: 1.3680 - accuracy: 0.5663 - val_loss: 1.5680 - val_accuracy: 0.5337\n",
      "Epoch 4/50\n",
      "94/94 [==============================] - 6s 61ms/step - loss: 1.2536 - accuracy: 0.5972 - val_loss: 1.3598 - val_accuracy: 0.5924\n",
      "Epoch 5/50\n",
      "94/94 [==============================] - 4s 46ms/step - loss: 1.0987 - accuracy: 0.6351 - val_loss: 1.2687 - val_accuracy: 0.6458\n",
      "Epoch 6/50\n",
      "94/94 [==============================] - 4s 47ms/step - loss: 1.0326 - accuracy: 0.6790 - val_loss: 1.5283 - val_accuracy: 0.6024\n",
      "Epoch 7/50\n",
      "94/94 [==============================] - 5s 48ms/step - loss: 0.9004 - accuracy: 0.7162 - val_loss: 1.3369 - val_accuracy: 0.6578\n",
      "Epoch 8/50\n",
      "94/94 [==============================] - 5s 48ms/step - loss: 0.8313 - accuracy: 0.7523 - val_loss: 1.3205 - val_accuracy: 0.6644\n",
      "Epoch 9/50\n",
      "94/94 [==============================] - 4s 47ms/step - loss: 0.8581 - accuracy: 0.7538 - val_loss: 1.3195 - val_accuracy: 0.6644\n",
      "Epoch 10/50\n",
      "94/94 [==============================] - 5s 49ms/step - loss: 0.8948 - accuracy: 0.7394 - val_loss: 1.3194 - val_accuracy: 0.6644\n",
      "Epoch 11/50\n",
      "94/94 [==============================] - 4s 46ms/step - loss: 0.8305 - accuracy: 0.7394 - val_loss: 1.3194 - val_accuracy: 0.6644\n",
      "Epoch 12/50\n",
      "94/94 [==============================] - 5s 49ms/step - loss: 0.8344 - accuracy: 0.7538 - val_loss: 1.3194 - val_accuracy: 0.6644\n",
      "Epoch 13/50\n",
      "94/94 [==============================] - 4s 47ms/step - loss: 0.8030 - accuracy: 0.7626 - val_loss: 1.3194 - val_accuracy: 0.6644\n",
      "Epoch 14/50\n",
      "94/94 [==============================] - 4s 47ms/step - loss: 0.8531 - accuracy: 0.7360 - val_loss: 1.3194 - val_accuracy: 0.6644\n",
      "Epoch 15/50\n",
      "94/94 [==============================] - 4s 47ms/step - loss: 0.8762 - accuracy: 0.7432 - val_loss: 1.3194 - val_accuracy: 0.6644\n",
      "Epoch 16/50\n",
      "94/94 [==============================] - 4s 47ms/step - loss: 0.8387 - accuracy: 0.7481 - val_loss: 1.3194 - val_accuracy: 0.6644\n",
      "Epoch 17/50\n",
      "94/94 [==============================] - 5s 49ms/step - loss: 0.8648 - accuracy: 0.7448 - val_loss: 1.3194 - val_accuracy: 0.6644\n",
      "Epoch 18/50\n",
      "94/94 [==============================] - 5s 49ms/step - loss: 0.8407 - accuracy: 0.7363 - val_loss: 1.3194 - val_accuracy: 0.6644\n",
      "Epoch 19/50\n",
      "94/94 [==============================] - 5s 50ms/step - loss: 0.8469 - accuracy: 0.7522 - val_loss: 1.3194 - val_accuracy: 0.6644\n",
      "Epoch 20/50\n",
      "94/94 [==============================] - 5s 53ms/step - loss: 0.8384 - accuracy: 0.7444 - val_loss: 1.3194 - val_accuracy: 0.6644\n",
      "Epoch 21/50\n",
      "94/94 [==============================] - 6s 63ms/step - loss: 0.8486 - accuracy: 0.7455 - val_loss: 1.3194 - val_accuracy: 0.6644\n",
      "Epoch 22/50\n",
      "94/94 [==============================] - 5s 55ms/step - loss: 0.8237 - accuracy: 0.7482 - val_loss: 1.3194 - val_accuracy: 0.6644\n",
      "Epoch 23/50\n",
      "94/94 [==============================] - 6s 61ms/step - loss: 0.8237 - accuracy: 0.7623 - val_loss: 1.3194 - val_accuracy: 0.6644\n",
      "Epoch 24/50\n",
      "94/94 [==============================] - 5s 55ms/step - loss: 0.8534 - accuracy: 0.7515 - val_loss: 1.3194 - val_accuracy: 0.6644\n",
      "Epoch 25/50\n",
      "94/94 [==============================] - 6s 62ms/step - loss: 0.8625 - accuracy: 0.7440 - val_loss: 1.3194 - val_accuracy: 0.6644\n",
      "Epoch 26/50\n",
      "94/94 [==============================] - 5s 54ms/step - loss: 0.8197 - accuracy: 0.7460 - val_loss: 1.3194 - val_accuracy: 0.6644\n",
      "Epoch 27/50\n",
      "94/94 [==============================] - 5s 52ms/step - loss: 0.8645 - accuracy: 0.7487 - val_loss: 1.3194 - val_accuracy: 0.6644\n",
      "Epoch 28/50\n",
      "94/94 [==============================] - 5s 52ms/step - loss: 0.8798 - accuracy: 0.7327 - val_loss: 1.3194 - val_accuracy: 0.6644\n",
      "Epoch 29/50\n",
      "94/94 [==============================] - 5s 53ms/step - loss: 0.8534 - accuracy: 0.7555 - val_loss: 1.3194 - val_accuracy: 0.6644\n",
      "Epoch 30/50\n",
      "94/94 [==============================] - 5s 51ms/step - loss: 0.8459 - accuracy: 0.7339 - val_loss: 1.3194 - val_accuracy: 0.6644\n",
      "Epoch 31/50\n",
      "94/94 [==============================] - 6s 61ms/step - loss: 0.8392 - accuracy: 0.7508 - val_loss: 1.3194 - val_accuracy: 0.6644\n",
      "Epoch 32/50\n",
      "94/94 [==============================] - 5s 51ms/step - loss: 0.8661 - accuracy: 0.7358 - val_loss: 1.3194 - val_accuracy: 0.6644\n",
      "Epoch 33/50\n",
      "94/94 [==============================] - 5s 50ms/step - loss: 0.8031 - accuracy: 0.7594 - val_loss: 1.3194 - val_accuracy: 0.6644\n",
      "Epoch 34/50\n",
      "94/94 [==============================] - 5s 55ms/step - loss: 0.8452 - accuracy: 0.7502 - val_loss: 1.3194 - val_accuracy: 0.6644\n",
      "Epoch 35/50\n",
      "94/94 [==============================] - 4s 46ms/step - loss: 0.8512 - accuracy: 0.7517 - val_loss: 1.3194 - val_accuracy: 0.6644\n",
      "Epoch 36/50\n",
      "94/94 [==============================] - 4s 47ms/step - loss: 0.8297 - accuracy: 0.7505 - val_loss: 1.3194 - val_accuracy: 0.6644\n",
      "Epoch 37/50\n",
      "94/94 [==============================] - 5s 49ms/step - loss: 0.8552 - accuracy: 0.7413 - val_loss: 1.3194 - val_accuracy: 0.6644\n",
      "Epoch 38/50\n",
      "94/94 [==============================] - 5s 51ms/step - loss: 0.8300 - accuracy: 0.7532 - val_loss: 1.3194 - val_accuracy: 0.6644\n",
      "Epoch 39/50\n",
      "94/94 [==============================] - 4s 45ms/step - loss: 0.8552 - accuracy: 0.7408 - val_loss: 1.3194 - val_accuracy: 0.6644\n",
      "Epoch 40/50\n",
      "94/94 [==============================] - 4s 45ms/step - loss: 0.8528 - accuracy: 0.7473 - val_loss: 1.3194 - val_accuracy: 0.6644\n",
      "Epoch 41/50\n",
      "94/94 [==============================] - 4s 48ms/step - loss: 0.8323 - accuracy: 0.7472 - val_loss: 1.3194 - val_accuracy: 0.6644\n",
      "Epoch 42/50\n",
      "94/94 [==============================] - 4s 45ms/step - loss: 0.8299 - accuracy: 0.7572 - val_loss: 1.3194 - val_accuracy: 0.6644\n",
      "Epoch 43/50\n",
      "94/94 [==============================] - 4s 46ms/step - loss: 0.8295 - accuracy: 0.7630 - val_loss: 1.3194 - val_accuracy: 0.6644\n",
      "Epoch 44/50\n",
      "94/94 [==============================] - 4s 46ms/step - loss: 0.8472 - accuracy: 0.7415 - val_loss: 1.3194 - val_accuracy: 0.6644\n",
      "Epoch 45/50\n",
      "94/94 [==============================] - 4s 46ms/step - loss: 0.8760 - accuracy: 0.7385 - val_loss: 1.3194 - val_accuracy: 0.6644\n",
      "Epoch 46/50\n",
      "94/94 [==============================] - 4s 45ms/step - loss: 0.8672 - accuracy: 0.7414 - val_loss: 1.3194 - val_accuracy: 0.6644\n",
      "Epoch 47/50\n",
      "94/94 [==============================] - 4s 47ms/step - loss: 0.8522 - accuracy: 0.7448 - val_loss: 1.3194 - val_accuracy: 0.6644\n",
      "Epoch 48/50\n",
      "94/94 [==============================] - 4s 46ms/step - loss: 0.8382 - accuracy: 0.7499 - val_loss: 1.3194 - val_accuracy: 0.6644\n",
      "Epoch 49/50\n",
      "94/94 [==============================] - 4s 45ms/step - loss: 0.8839 - accuracy: 0.7444 - val_loss: 1.3194 - val_accuracy: 0.6644\n",
      "Epoch 50/50\n",
      "94/94 [==============================] - 4s 46ms/step - loss: 0.8174 - accuracy: 0.7548 - val_loss: 1.3194 - val_accuracy: 0.6644\n"
     ]
    }
   ],
   "source": [
    "callbacks_list = [\n",
    "    keras.callbacks.ReduceLROnPlateau(\n",
    "    monitor='val_loss',\n",
    "    factor=0.1,\n",
    "    patience=1,\n",
    "    )\n",
    "]\n",
    "\n",
    "model1.compile(optimizer='adam',\n",
    "             loss='categorical_crossentropy',\n",
    "             metrics=['accuracy'])\n",
    "\n",
    "history_lr = model1.fit(X_train, y_train,\n",
    "         epochs=50,\n",
    "         batch_size=32, \n",
    "         callbacks=callbacks_list, \n",
    "         validation_data=(X_val, y_val))"
   ]
  },
  {
   "cell_type": "code",
   "execution_count": 658,
   "metadata": {},
   "outputs": [
    {
     "name": "stdout",
     "output_type": "stream",
     "text": [
      "Test Accuracy: 0.47909284195605956\n",
      "Val Accuracy: 0.6644429564476013\n",
      "Train Accuracy: 0.7490000128746033\n"
     ]
    }
   ],
   "source": [
    "predictions_base = model1.predict(X_test)\n",
    "score_val, acc_val = model1.evaluate(X_val, y_val, verbose=0)\n",
    "score_train, acc_train = model1.evaluate(X_train, y_train, verbose=0)\n",
    "y_pred = model1.predict_classes(X_test)\n",
    "print(\"Test Accuracy:\",metrics.accuracy_score(np.argmax(y_test, axis=1),y_pred))\n",
    "print(f'Val Accuracy: {acc_val}')\n",
    "print(f'Train Accuracy: {acc_train}')"
   ]
  },
  {
   "cell_type": "markdown",
   "metadata": {},
   "source": [
    "## 6. Hyperparameter Tuning via Architecture Experimentation"
   ]
  },
  {
   "cell_type": "code",
   "execution_count": 864,
   "metadata": {},
   "outputs": [],
   "source": [
    "input_shape = (16,8,1)\n",
    "kernel_size=(3,3)\n",
    "pool_size=(2,2)\n",
    "num_classes=10"
   ]
  },
  {
   "cell_type": "markdown",
   "metadata": {},
   "source": [
    "### 1. Determining Convolution subsampling pairs"
   ]
  },
  {
   "cell_type": "markdown",
   "metadata": {},
   "source": [
    "The image input is 16x8.\n",
    "\n",
    "After:\n",
    "- one pair: 8x4\n",
    "- two pairs: 4x2\n",
    "- three pairs: 2x1"
   ]
  },
  {
   "cell_type": "code",
   "execution_count": 865,
   "metadata": {},
   "outputs": [],
   "source": [
    "nets = 3\n",
    "model = [0] * nets"
   ]
  },
  {
   "cell_type": "code",
   "execution_count": 855,
   "metadata": {},
   "outputs": [],
   "source": [
    "X_train, X_val, y_train, y_val = train_test_split(X_train, y_train, test_size=0.333)"
   ]
  },
  {
   "cell_type": "code",
   "execution_count": 857,
   "metadata": {},
   "outputs": [
    {
     "data": {
      "text/plain": [
       "((3000, 16, 8, 1), (1499, 16, 8, 1), (3000, 10), (1499, 10))"
      ]
     },
     "execution_count": 857,
     "metadata": {},
     "output_type": "execute_result"
    }
   ],
   "source": [
    "X_train.shape,X_val.shape,y_train.shape,y_val.shape"
   ]
  },
  {
   "cell_type": "code",
   "execution_count": 888,
   "metadata": {},
   "outputs": [
    {
     "name": "stdout",
     "output_type": "stream",
     "text": [
      "Model: \"sequential_270\"\n",
      "_________________________________________________________________\n",
      "Layer (type)                 Output Shape              Param #   \n",
      "=================================================================\n",
      "conv2d_453 (Conv2D)          (None, 24, 8, 1)          9624      \n",
      "_________________________________________________________________\n",
      "max_pooling2d_288 (MaxPoolin (None, 24, 4, 1)          0         \n",
      "_________________________________________________________________\n",
      "flatten_216 (Flatten)        (None, 96)                0         \n",
      "_________________________________________________________________\n",
      "dense_427 (Dense)            (None, 256)               24832     \n",
      "_________________________________________________________________\n",
      "dense_428 (Dense)            (None, 10)                2570      \n",
      "=================================================================\n",
      "Total params: 37,026\n",
      "Trainable params: 37,026\n",
      "Non-trainable params: 0\n",
      "_________________________________________________________________\n",
      "Model: \"sequential_271\"\n",
      "_________________________________________________________________\n",
      "Layer (type)                 Output Shape              Param #   \n",
      "=================================================================\n",
      "conv2d_454 (Conv2D)          (None, 24, 8, 1)          9624      \n",
      "_________________________________________________________________\n",
      "max_pooling2d_289 (MaxPoolin (None, 24, 4, 1)          0         \n",
      "_________________________________________________________________\n",
      "conv2d_455 (Conv2D)          (None, 48, 4, 1)          28848     \n",
      "_________________________________________________________________\n",
      "flatten_217 (Flatten)        (None, 192)               0         \n",
      "_________________________________________________________________\n",
      "dense_429 (Dense)            (None, 256)               49408     \n",
      "_________________________________________________________________\n",
      "dense_430 (Dense)            (None, 10)                2570      \n",
      "=================================================================\n",
      "Total params: 90,450\n",
      "Trainable params: 90,450\n",
      "Non-trainable params: 0\n",
      "_________________________________________________________________\n",
      "Model: \"sequential_272\"\n",
      "_________________________________________________________________\n",
      "Layer (type)                 Output Shape              Param #   \n",
      "=================================================================\n",
      "conv2d_456 (Conv2D)          (None, 24, 8, 1)          9624      \n",
      "_________________________________________________________________\n",
      "max_pooling2d_290 (MaxPoolin (None, 24, 4, 1)          0         \n",
      "_________________________________________________________________\n",
      "conv2d_457 (Conv2D)          (None, 48, 4, 1)          28848     \n",
      "_________________________________________________________________\n",
      "conv2d_458 (Conv2D)          (None, 64, 4, 1)          76864     \n",
      "_________________________________________________________________\n",
      "max_pooling2d_291 (MaxPoolin (None, 64, 2, 1)          0         \n",
      "_________________________________________________________________\n",
      "flatten_218 (Flatten)        (None, 128)               0         \n",
      "_________________________________________________________________\n",
      "dense_431 (Dense)            (None, 256)               33024     \n",
      "_________________________________________________________________\n",
      "dense_432 (Dense)            (None, 10)                2570      \n",
      "=================================================================\n",
      "Total params: 150,930\n",
      "Trainable params: 150,930\n",
      "Non-trainable params: 0\n",
      "_________________________________________________________________\n"
     ]
    }
   ],
   "source": [
    "for i in range(3):\n",
    "    model[i] = Sequential()\n",
    "    \n",
    "    model[i].add(Conv2D(24, \n",
    "                        kernel_size=5, \n",
    "                        padding='same',\n",
    "                        activation='relu',\n",
    "                       input_shape=input_dim))\n",
    "                 \n",
    "    model[i].add(MaxPool2D(padding='same'))\n",
    "    \n",
    "    if i > 0:\n",
    "        model[i].add(Conv2D(48, \n",
    "                            kernel_size=5, \n",
    "                            padding='same',\n",
    "                            activation='relu'))\n",
    "    \n",
    "    if i > 1:\n",
    "        model[i].add(Conv2D(64,\n",
    "                            kernel_size=5,\n",
    "                           padding='same',\n",
    "                           activation='relu'))\n",
    "        \n",
    "        model[i].add(MaxPool2D(padding='same'))\n",
    "    \n",
    "    model[i].add(Flatten())\n",
    "    model[i].add(Dense(256, activation='relu'))\n",
    "    model[i].add(Dense(10, activation='softmax'))\n",
    "                 \n",
    "    model[i].compile(optimizer='adam', \n",
    "                     loss='categorical_crossentropy',\n",
    "                    metrics=['accuracy'])\n",
    "                 \n",
    "    model[i].summary()"
   ]
  },
  {
   "cell_type": "code",
   "execution_count": 889,
   "metadata": {},
   "outputs": [],
   "source": [
    "# train the networks\n",
    "history = [0] * nets\n",
    "names = [\"(C-P)x1\", \"(C-P)x2\", \"(C-P)x3\"] # convolution subsampling pairs\n",
    "styles = [\"solid\", \"dotted\", \"dashed\", \"dashdot\", \"densely dotted\", \"solid\", \":\"]\n",
    "epochs=50\n",
    "batch_size = 32"
   ]
  },
  {
   "cell_type": "code",
   "execution_count": 893,
   "metadata": {},
   "outputs": [
    {
     "ename": "InvalidArgumentError",
     "evalue": " Default MaxPoolingOp only supports NHWC on device type CPU\n\t [[node sequential_270/max_pooling2d_288/MaxPool (defined at <ipython-input-890-4b6c9445de72>:2) ]] [Op:__inference_train_function_1293072]\n\nFunction call stack:\ntrain_function\n",
     "output_type": "error",
     "traceback": [
      "\u001b[0;31m---------------------------------------------------------------------------\u001b[0m",
      "\u001b[0;31mInvalidArgumentError\u001b[0m                      Traceback (most recent call last)",
      "\u001b[0;32m<ipython-input-893-28b004734e3e>\u001b[0m in \u001b[0;36m<module>\u001b[0;34m\u001b[0m\n\u001b[1;32m      1\u001b[0m \u001b[0;32mfor\u001b[0m \u001b[0mi\u001b[0m \u001b[0;32min\u001b[0m \u001b[0mrange\u001b[0m\u001b[0;34m(\u001b[0m\u001b[0mnets\u001b[0m\u001b[0;34m)\u001b[0m\u001b[0;34m:\u001b[0m\u001b[0;34m\u001b[0m\u001b[0;34m\u001b[0m\u001b[0m\n\u001b[0;32m----> 2\u001b[0;31m     history[i] = model[i].fit(X_train, y_train,\n\u001b[0m\u001b[1;32m      3\u001b[0m                              \u001b[0mbatch_size\u001b[0m\u001b[0;34m=\u001b[0m\u001b[0mbatch_size\u001b[0m\u001b[0;34m,\u001b[0m\u001b[0;34m\u001b[0m\u001b[0;34m\u001b[0m\u001b[0m\n\u001b[1;32m      4\u001b[0m                              \u001b[0mepochs\u001b[0m\u001b[0;34m=\u001b[0m\u001b[0mepochs\u001b[0m\u001b[0;34m,\u001b[0m\u001b[0;34m\u001b[0m\u001b[0;34m\u001b[0m\u001b[0m\n\u001b[1;32m      5\u001b[0m                              \u001b[0mvalidation_data\u001b[0m\u001b[0;34m=\u001b[0m\u001b[0;34m(\u001b[0m\u001b[0mX_val\u001b[0m\u001b[0;34m,\u001b[0m \u001b[0my_val\u001b[0m\u001b[0;34m)\u001b[0m\u001b[0;34m,\u001b[0m\u001b[0;34m\u001b[0m\u001b[0;34m\u001b[0m\u001b[0m\n",
      "\u001b[0;32m~/opt/anaconda3/lib/python3.8/site-packages/tensorflow/python/keras/engine/training.py\u001b[0m in \u001b[0;36mfit\u001b[0;34m(self, x, y, batch_size, epochs, verbose, callbacks, validation_split, validation_data, shuffle, class_weight, sample_weight, initial_epoch, steps_per_epoch, validation_steps, validation_batch_size, validation_freq, max_queue_size, workers, use_multiprocessing)\u001b[0m\n\u001b[1;32m   1093\u001b[0m                 _r=1):\n\u001b[1;32m   1094\u001b[0m               \u001b[0mcallbacks\u001b[0m\u001b[0;34m.\u001b[0m\u001b[0mon_train_batch_begin\u001b[0m\u001b[0;34m(\u001b[0m\u001b[0mstep\u001b[0m\u001b[0;34m)\u001b[0m\u001b[0;34m\u001b[0m\u001b[0;34m\u001b[0m\u001b[0m\n\u001b[0;32m-> 1095\u001b[0;31m               \u001b[0mtmp_logs\u001b[0m \u001b[0;34m=\u001b[0m \u001b[0mself\u001b[0m\u001b[0;34m.\u001b[0m\u001b[0mtrain_function\u001b[0m\u001b[0;34m(\u001b[0m\u001b[0miterator\u001b[0m\u001b[0;34m)\u001b[0m\u001b[0;34m\u001b[0m\u001b[0;34m\u001b[0m\u001b[0m\n\u001b[0m\u001b[1;32m   1096\u001b[0m               \u001b[0;32mif\u001b[0m \u001b[0mdata_handler\u001b[0m\u001b[0;34m.\u001b[0m\u001b[0mshould_sync\u001b[0m\u001b[0;34m:\u001b[0m\u001b[0;34m\u001b[0m\u001b[0;34m\u001b[0m\u001b[0m\n\u001b[1;32m   1097\u001b[0m                 \u001b[0mcontext\u001b[0m\u001b[0;34m.\u001b[0m\u001b[0masync_wait\u001b[0m\u001b[0;34m(\u001b[0m\u001b[0;34m)\u001b[0m\u001b[0;34m\u001b[0m\u001b[0;34m\u001b[0m\u001b[0m\n",
      "\u001b[0;32m~/opt/anaconda3/lib/python3.8/site-packages/tensorflow/python/eager/def_function.py\u001b[0m in \u001b[0;36m__call__\u001b[0;34m(self, *args, **kwds)\u001b[0m\n\u001b[1;32m    826\u001b[0m     \u001b[0mtracing_count\u001b[0m \u001b[0;34m=\u001b[0m \u001b[0mself\u001b[0m\u001b[0;34m.\u001b[0m\u001b[0mexperimental_get_tracing_count\u001b[0m\u001b[0;34m(\u001b[0m\u001b[0;34m)\u001b[0m\u001b[0;34m\u001b[0m\u001b[0;34m\u001b[0m\u001b[0m\n\u001b[1;32m    827\u001b[0m     \u001b[0;32mwith\u001b[0m \u001b[0mtrace\u001b[0m\u001b[0;34m.\u001b[0m\u001b[0mTrace\u001b[0m\u001b[0;34m(\u001b[0m\u001b[0mself\u001b[0m\u001b[0;34m.\u001b[0m\u001b[0m_name\u001b[0m\u001b[0;34m)\u001b[0m \u001b[0;32mas\u001b[0m \u001b[0mtm\u001b[0m\u001b[0;34m:\u001b[0m\u001b[0;34m\u001b[0m\u001b[0;34m\u001b[0m\u001b[0m\n\u001b[0;32m--> 828\u001b[0;31m       \u001b[0mresult\u001b[0m \u001b[0;34m=\u001b[0m \u001b[0mself\u001b[0m\u001b[0;34m.\u001b[0m\u001b[0m_call\u001b[0m\u001b[0;34m(\u001b[0m\u001b[0;34m*\u001b[0m\u001b[0margs\u001b[0m\u001b[0;34m,\u001b[0m \u001b[0;34m**\u001b[0m\u001b[0mkwds\u001b[0m\u001b[0;34m)\u001b[0m\u001b[0;34m\u001b[0m\u001b[0;34m\u001b[0m\u001b[0m\n\u001b[0m\u001b[1;32m    829\u001b[0m       \u001b[0mcompiler\u001b[0m \u001b[0;34m=\u001b[0m \u001b[0;34m\"xla\"\u001b[0m \u001b[0;32mif\u001b[0m \u001b[0mself\u001b[0m\u001b[0;34m.\u001b[0m\u001b[0m_experimental_compile\u001b[0m \u001b[0;32melse\u001b[0m \u001b[0;34m\"nonXla\"\u001b[0m\u001b[0;34m\u001b[0m\u001b[0;34m\u001b[0m\u001b[0m\n\u001b[1;32m    830\u001b[0m       \u001b[0mnew_tracing_count\u001b[0m \u001b[0;34m=\u001b[0m \u001b[0mself\u001b[0m\u001b[0;34m.\u001b[0m\u001b[0mexperimental_get_tracing_count\u001b[0m\u001b[0;34m(\u001b[0m\u001b[0;34m)\u001b[0m\u001b[0;34m\u001b[0m\u001b[0;34m\u001b[0m\u001b[0m\n",
      "\u001b[0;32m~/opt/anaconda3/lib/python3.8/site-packages/tensorflow/python/eager/def_function.py\u001b[0m in \u001b[0;36m_call\u001b[0;34m(self, *args, **kwds)\u001b[0m\n\u001b[1;32m    853\u001b[0m       \u001b[0;31m# In this case we have created variables on the first call, so we run the\u001b[0m\u001b[0;34m\u001b[0m\u001b[0;34m\u001b[0m\u001b[0;34m\u001b[0m\u001b[0m\n\u001b[1;32m    854\u001b[0m       \u001b[0;31m# defunned version which is guaranteed to never create variables.\u001b[0m\u001b[0;34m\u001b[0m\u001b[0;34m\u001b[0m\u001b[0;34m\u001b[0m\u001b[0m\n\u001b[0;32m--> 855\u001b[0;31m       \u001b[0;32mreturn\u001b[0m \u001b[0mself\u001b[0m\u001b[0;34m.\u001b[0m\u001b[0m_stateless_fn\u001b[0m\u001b[0;34m(\u001b[0m\u001b[0;34m*\u001b[0m\u001b[0margs\u001b[0m\u001b[0;34m,\u001b[0m \u001b[0;34m**\u001b[0m\u001b[0mkwds\u001b[0m\u001b[0;34m)\u001b[0m  \u001b[0;31m# pylint: disable=not-callable\u001b[0m\u001b[0;34m\u001b[0m\u001b[0;34m\u001b[0m\u001b[0m\n\u001b[0m\u001b[1;32m    856\u001b[0m     \u001b[0;32melif\u001b[0m \u001b[0mself\u001b[0m\u001b[0;34m.\u001b[0m\u001b[0m_stateful_fn\u001b[0m \u001b[0;32mis\u001b[0m \u001b[0;32mnot\u001b[0m \u001b[0;32mNone\u001b[0m\u001b[0;34m:\u001b[0m\u001b[0;34m\u001b[0m\u001b[0;34m\u001b[0m\u001b[0m\n\u001b[1;32m    857\u001b[0m       \u001b[0;31m# Release the lock early so that multiple threads can perform the call\u001b[0m\u001b[0;34m\u001b[0m\u001b[0;34m\u001b[0m\u001b[0;34m\u001b[0m\u001b[0m\n",
      "\u001b[0;32m~/opt/anaconda3/lib/python3.8/site-packages/tensorflow/python/eager/function.py\u001b[0m in \u001b[0;36m__call__\u001b[0;34m(self, *args, **kwargs)\u001b[0m\n\u001b[1;32m   2940\u001b[0m       (graph_function,\n\u001b[1;32m   2941\u001b[0m        filtered_flat_args) = self._maybe_define_function(args, kwargs)\n\u001b[0;32m-> 2942\u001b[0;31m     return graph_function._call_flat(\n\u001b[0m\u001b[1;32m   2943\u001b[0m         filtered_flat_args, captured_inputs=graph_function.captured_inputs)  # pylint: disable=protected-access\n\u001b[1;32m   2944\u001b[0m \u001b[0;34m\u001b[0m\u001b[0m\n",
      "\u001b[0;32m~/opt/anaconda3/lib/python3.8/site-packages/tensorflow/python/eager/function.py\u001b[0m in \u001b[0;36m_call_flat\u001b[0;34m(self, args, captured_inputs, cancellation_manager)\u001b[0m\n\u001b[1;32m   1916\u001b[0m         and executing_eagerly):\n\u001b[1;32m   1917\u001b[0m       \u001b[0;31m# No tape is watching; skip to running the function.\u001b[0m\u001b[0;34m\u001b[0m\u001b[0;34m\u001b[0m\u001b[0;34m\u001b[0m\u001b[0m\n\u001b[0;32m-> 1918\u001b[0;31m       return self._build_call_outputs(self._inference_function.call(\n\u001b[0m\u001b[1;32m   1919\u001b[0m           ctx, args, cancellation_manager=cancellation_manager))\n\u001b[1;32m   1920\u001b[0m     forward_backward = self._select_forward_and_backward_functions(\n",
      "\u001b[0;32m~/opt/anaconda3/lib/python3.8/site-packages/tensorflow/python/eager/function.py\u001b[0m in \u001b[0;36mcall\u001b[0;34m(self, ctx, args, cancellation_manager)\u001b[0m\n\u001b[1;32m    553\u001b[0m       \u001b[0;32mwith\u001b[0m \u001b[0m_InterpolateFunctionError\u001b[0m\u001b[0;34m(\u001b[0m\u001b[0mself\u001b[0m\u001b[0;34m)\u001b[0m\u001b[0;34m:\u001b[0m\u001b[0;34m\u001b[0m\u001b[0;34m\u001b[0m\u001b[0m\n\u001b[1;32m    554\u001b[0m         \u001b[0;32mif\u001b[0m \u001b[0mcancellation_manager\u001b[0m \u001b[0;32mis\u001b[0m \u001b[0;32mNone\u001b[0m\u001b[0;34m:\u001b[0m\u001b[0;34m\u001b[0m\u001b[0;34m\u001b[0m\u001b[0m\n\u001b[0;32m--> 555\u001b[0;31m           outputs = execute.execute(\n\u001b[0m\u001b[1;32m    556\u001b[0m               \u001b[0mstr\u001b[0m\u001b[0;34m(\u001b[0m\u001b[0mself\u001b[0m\u001b[0;34m.\u001b[0m\u001b[0msignature\u001b[0m\u001b[0;34m.\u001b[0m\u001b[0mname\u001b[0m\u001b[0;34m)\u001b[0m\u001b[0;34m,\u001b[0m\u001b[0;34m\u001b[0m\u001b[0;34m\u001b[0m\u001b[0m\n\u001b[1;32m    557\u001b[0m               \u001b[0mnum_outputs\u001b[0m\u001b[0;34m=\u001b[0m\u001b[0mself\u001b[0m\u001b[0;34m.\u001b[0m\u001b[0m_num_outputs\u001b[0m\u001b[0;34m,\u001b[0m\u001b[0;34m\u001b[0m\u001b[0;34m\u001b[0m\u001b[0m\n",
      "\u001b[0;32m~/opt/anaconda3/lib/python3.8/site-packages/tensorflow/python/eager/execute.py\u001b[0m in \u001b[0;36mquick_execute\u001b[0;34m(op_name, num_outputs, inputs, attrs, ctx, name)\u001b[0m\n\u001b[1;32m     57\u001b[0m   \u001b[0;32mtry\u001b[0m\u001b[0;34m:\u001b[0m\u001b[0;34m\u001b[0m\u001b[0;34m\u001b[0m\u001b[0m\n\u001b[1;32m     58\u001b[0m     \u001b[0mctx\u001b[0m\u001b[0;34m.\u001b[0m\u001b[0mensure_initialized\u001b[0m\u001b[0;34m(\u001b[0m\u001b[0;34m)\u001b[0m\u001b[0;34m\u001b[0m\u001b[0;34m\u001b[0m\u001b[0m\n\u001b[0;32m---> 59\u001b[0;31m     tensors = pywrap_tfe.TFE_Py_Execute(ctx._handle, device_name, op_name,\n\u001b[0m\u001b[1;32m     60\u001b[0m                                         inputs, attrs, num_outputs)\n\u001b[1;32m     61\u001b[0m   \u001b[0;32mexcept\u001b[0m \u001b[0mcore\u001b[0m\u001b[0;34m.\u001b[0m\u001b[0m_NotOkStatusException\u001b[0m \u001b[0;32mas\u001b[0m \u001b[0me\u001b[0m\u001b[0;34m:\u001b[0m\u001b[0;34m\u001b[0m\u001b[0;34m\u001b[0m\u001b[0m\n",
      "\u001b[0;31mInvalidArgumentError\u001b[0m:  Default MaxPoolingOp only supports NHWC on device type CPU\n\t [[node sequential_270/max_pooling2d_288/MaxPool (defined at <ipython-input-890-4b6c9445de72>:2) ]] [Op:__inference_train_function_1293072]\n\nFunction call stack:\ntrain_function\n"
     ]
    }
   ],
   "source": [
    "for i in range(nets):\n",
    "    history[i] = model[i].fit(X_train, y_train,\n",
    "                             batch_size=batch_size,\n",
    "                             epochs=epochs,\n",
    "                             validation_data=(X_val, y_val),\n",
    "                             verbose=0)\n",
    "    #y_preds[i] = model[i].predict_classes(X_test)\n",
    "    print(\"CNN {0}: Epochs={1:d}, Train accuracy={2:.5f}, Validation accuracy={3:.5f}\".format(\n",
    "        names[i],\n",
    "        epochs,\n",
    "        max(history[i].history['accuracy']),\n",
    "        max(history[i].history['val_accuracy'])\n",
    "    ))"
   ]
  },
  {
   "cell_type": "markdown",
   "metadata": {},
   "source": [
    "### 2. Determining the No. of Feature Maps"
   ]
  },
  {
   "cell_type": "markdown",
   "metadata": {},
   "source": [
    "Possible Feature Map combinations:\n",
    "\n",
    "784 - [8C5-P3] - [16C5-P3] - 256 - 10\n",
    "\n",
    "784 - [16C5-P3] - [32C5-P3] - 256 - 10\n",
    "\n",
    "784 - [24C5-P3] - [48C5-P3] - 256 - 10\n",
    "\n",
    "784 - [32C5-P3] - [64C5-P3] - 256 - 10\n",
    "\n",
    "784 - [48C5-P3] - [96C5-P3] - 256 - 10\n",
    "\n",
    "784 - [64C5-P3] - [128C5-P3] - 256 - 10"
   ]
  },
  {
   "cell_type": "code",
   "execution_count": 876,
   "metadata": {},
   "outputs": [],
   "source": [
    "nets = 6\n",
    "model = [0]*nets"
   ]
  },
  {
   "cell_type": "code",
   "execution_count": 877,
   "metadata": {},
   "outputs": [
    {
     "ename": "ValueError",
     "evalue": "Negative dimension size caused by subtracting 5 from 1 for '{{node conv2d_452/Conv2D}} = Conv2D[T=DT_FLOAT, data_format=\"NCHW\", dilations=[1, 1, 1, 1], explicit_paddings=[], padding=\"VALID\", strides=[1, 1, 1, 1], use_cudnn_on_gpu=true](Placeholder, conv2d_452/Conv2D/ReadVariableOp)' with input shapes: [?,16,8,1], [5,5,16,8].",
     "output_type": "error",
     "traceback": [
      "\u001b[0;31m---------------------------------------------------------------------------\u001b[0m",
      "\u001b[0;31mInvalidArgumentError\u001b[0m                      Traceback (most recent call last)",
      "\u001b[0;32m~/opt/anaconda3/lib/python3.8/site-packages/tensorflow/python/framework/ops.py\u001b[0m in \u001b[0;36m_create_c_op\u001b[0;34m(graph, node_def, inputs, control_inputs, op_def)\u001b[0m\n\u001b[1;32m   1852\u001b[0m   \u001b[0;32mtry\u001b[0m\u001b[0;34m:\u001b[0m\u001b[0;34m\u001b[0m\u001b[0;34m\u001b[0m\u001b[0m\n\u001b[0;32m-> 1853\u001b[0;31m     \u001b[0mc_op\u001b[0m \u001b[0;34m=\u001b[0m \u001b[0mpywrap_tf_session\u001b[0m\u001b[0;34m.\u001b[0m\u001b[0mTF_FinishOperation\u001b[0m\u001b[0;34m(\u001b[0m\u001b[0mop_desc\u001b[0m\u001b[0;34m)\u001b[0m\u001b[0;34m\u001b[0m\u001b[0;34m\u001b[0m\u001b[0m\n\u001b[0m\u001b[1;32m   1854\u001b[0m   \u001b[0;32mexcept\u001b[0m \u001b[0merrors\u001b[0m\u001b[0;34m.\u001b[0m\u001b[0mInvalidArgumentError\u001b[0m \u001b[0;32mas\u001b[0m \u001b[0me\u001b[0m\u001b[0;34m:\u001b[0m\u001b[0;34m\u001b[0m\u001b[0;34m\u001b[0m\u001b[0m\n",
      "\u001b[0;31mInvalidArgumentError\u001b[0m: Negative dimension size caused by subtracting 5 from 1 for '{{node conv2d_452/Conv2D}} = Conv2D[T=DT_FLOAT, data_format=\"NCHW\", dilations=[1, 1, 1, 1], explicit_paddings=[], padding=\"VALID\", strides=[1, 1, 1, 1], use_cudnn_on_gpu=true](Placeholder, conv2d_452/Conv2D/ReadVariableOp)' with input shapes: [?,16,8,1], [5,5,16,8].",
      "\nDuring handling of the above exception, another exception occurred:\n",
      "\u001b[0;31mValueError\u001b[0m                                Traceback (most recent call last)",
      "\u001b[0;32m<ipython-input-877-b7a10e3abd3e>\u001b[0m in \u001b[0;36m<module>\u001b[0;34m\u001b[0m\n\u001b[1;32m      1\u001b[0m \u001b[0;32mfor\u001b[0m \u001b[0mi\u001b[0m \u001b[0;32min\u001b[0m \u001b[0mrange\u001b[0m\u001b[0;34m(\u001b[0m\u001b[0;36m6\u001b[0m\u001b[0;34m)\u001b[0m\u001b[0;34m:\u001b[0m\u001b[0;34m\u001b[0m\u001b[0;34m\u001b[0m\u001b[0m\n\u001b[1;32m      2\u001b[0m     \u001b[0mmodel\u001b[0m\u001b[0;34m[\u001b[0m\u001b[0mi\u001b[0m\u001b[0;34m]\u001b[0m \u001b[0;34m=\u001b[0m \u001b[0mSequential\u001b[0m\u001b[0;34m(\u001b[0m\u001b[0;34m)\u001b[0m\u001b[0;34m\u001b[0m\u001b[0;34m\u001b[0m\u001b[0m\n\u001b[0;32m----> 3\u001b[0;31m     \u001b[0mmodel\u001b[0m\u001b[0;34m[\u001b[0m\u001b[0mi\u001b[0m\u001b[0;34m]\u001b[0m\u001b[0;34m.\u001b[0m\u001b[0madd\u001b[0m\u001b[0;34m(\u001b[0m\u001b[0mConv2D\u001b[0m\u001b[0;34m(\u001b[0m\u001b[0mi\u001b[0m\u001b[0;34m*\u001b[0m\u001b[0;36m8\u001b[0m\u001b[0;34m+\u001b[0m\u001b[0;36m8\u001b[0m\u001b[0;34m,\u001b[0m\u001b[0mkernel_size\u001b[0m\u001b[0;34m=\u001b[0m\u001b[0;36m5\u001b[0m\u001b[0;34m,\u001b[0m\u001b[0mactivation\u001b[0m\u001b[0;34m=\u001b[0m\u001b[0;34m'relu'\u001b[0m\u001b[0;34m,\u001b[0m\u001b[0minput_shape\u001b[0m\u001b[0;34m=\u001b[0m\u001b[0minput_shape\u001b[0m\u001b[0;34m)\u001b[0m\u001b[0;34m)\u001b[0m\u001b[0;34m\u001b[0m\u001b[0;34m\u001b[0m\u001b[0m\n\u001b[0m\u001b[1;32m      4\u001b[0m     \u001b[0mmodel\u001b[0m\u001b[0;34m[\u001b[0m\u001b[0mi\u001b[0m\u001b[0;34m]\u001b[0m\u001b[0;34m.\u001b[0m\u001b[0madd\u001b[0m\u001b[0;34m(\u001b[0m\u001b[0mMaxPool2D\u001b[0m\u001b[0;34m(\u001b[0m\u001b[0mpadding\u001b[0m\u001b[0;34m=\u001b[0m\u001b[0;34m'same'\u001b[0m\u001b[0;34m)\u001b[0m\u001b[0;34m)\u001b[0m\u001b[0;34m\u001b[0m\u001b[0;34m\u001b[0m\u001b[0m\n\u001b[1;32m      5\u001b[0m     \u001b[0mmodel\u001b[0m\u001b[0;34m[\u001b[0m\u001b[0mi\u001b[0m\u001b[0;34m]\u001b[0m\u001b[0;34m.\u001b[0m\u001b[0madd\u001b[0m\u001b[0;34m(\u001b[0m\u001b[0mConv2D\u001b[0m\u001b[0;34m(\u001b[0m\u001b[0mi\u001b[0m\u001b[0;34m*\u001b[0m\u001b[0;36m16\u001b[0m\u001b[0;34m+\u001b[0m\u001b[0;36m16\u001b[0m\u001b[0;34m,\u001b[0m\u001b[0mkernel_size\u001b[0m\u001b[0;34m=\u001b[0m\u001b[0;36m5\u001b[0m\u001b[0;34m,\u001b[0m\u001b[0mactivation\u001b[0m\u001b[0;34m=\u001b[0m\u001b[0;34m'relu'\u001b[0m\u001b[0;34m,\u001b[0m \u001b[0mpadding\u001b[0m\u001b[0;34m=\u001b[0m\u001b[0;34m'same'\u001b[0m\u001b[0;34m)\u001b[0m\u001b[0;34m)\u001b[0m\u001b[0;34m\u001b[0m\u001b[0;34m\u001b[0m\u001b[0m\n",
      "\u001b[0;32m~/opt/anaconda3/lib/python3.8/site-packages/tensorflow/python/training/tracking/base.py\u001b[0m in \u001b[0;36m_method_wrapper\u001b[0;34m(self, *args, **kwargs)\u001b[0m\n\u001b[1;32m    515\u001b[0m     \u001b[0mself\u001b[0m\u001b[0;34m.\u001b[0m\u001b[0m_self_setattr_tracking\u001b[0m \u001b[0;34m=\u001b[0m \u001b[0;32mFalse\u001b[0m  \u001b[0;31m# pylint: disable=protected-access\u001b[0m\u001b[0;34m\u001b[0m\u001b[0;34m\u001b[0m\u001b[0m\n\u001b[1;32m    516\u001b[0m     \u001b[0;32mtry\u001b[0m\u001b[0;34m:\u001b[0m\u001b[0;34m\u001b[0m\u001b[0;34m\u001b[0m\u001b[0m\n\u001b[0;32m--> 517\u001b[0;31m       \u001b[0mresult\u001b[0m \u001b[0;34m=\u001b[0m \u001b[0mmethod\u001b[0m\u001b[0;34m(\u001b[0m\u001b[0mself\u001b[0m\u001b[0;34m,\u001b[0m \u001b[0;34m*\u001b[0m\u001b[0margs\u001b[0m\u001b[0;34m,\u001b[0m \u001b[0;34m**\u001b[0m\u001b[0mkwargs\u001b[0m\u001b[0;34m)\u001b[0m\u001b[0;34m\u001b[0m\u001b[0;34m\u001b[0m\u001b[0m\n\u001b[0m\u001b[1;32m    518\u001b[0m     \u001b[0;32mfinally\u001b[0m\u001b[0;34m:\u001b[0m\u001b[0;34m\u001b[0m\u001b[0;34m\u001b[0m\u001b[0m\n\u001b[1;32m    519\u001b[0m       \u001b[0mself\u001b[0m\u001b[0;34m.\u001b[0m\u001b[0m_self_setattr_tracking\u001b[0m \u001b[0;34m=\u001b[0m \u001b[0mprevious_value\u001b[0m  \u001b[0;31m# pylint: disable=protected-access\u001b[0m\u001b[0;34m\u001b[0m\u001b[0;34m\u001b[0m\u001b[0m\n",
      "\u001b[0;32m~/opt/anaconda3/lib/python3.8/site-packages/tensorflow/python/keras/engine/sequential.py\u001b[0m in \u001b[0;36madd\u001b[0;34m(self, layer)\u001b[0m\n\u001b[1;32m    206\u001b[0m           \u001b[0;31m# and create the node connecting the current layer\u001b[0m\u001b[0;34m\u001b[0m\u001b[0;34m\u001b[0m\u001b[0;34m\u001b[0m\u001b[0m\n\u001b[1;32m    207\u001b[0m           \u001b[0;31m# to the input layer we just created.\u001b[0m\u001b[0;34m\u001b[0m\u001b[0;34m\u001b[0m\u001b[0;34m\u001b[0m\u001b[0m\n\u001b[0;32m--> 208\u001b[0;31m           \u001b[0mlayer\u001b[0m\u001b[0;34m(\u001b[0m\u001b[0mx\u001b[0m\u001b[0;34m)\u001b[0m\u001b[0;34m\u001b[0m\u001b[0;34m\u001b[0m\u001b[0m\n\u001b[0m\u001b[1;32m    209\u001b[0m           \u001b[0mset_inputs\u001b[0m \u001b[0;34m=\u001b[0m \u001b[0;32mTrue\u001b[0m\u001b[0;34m\u001b[0m\u001b[0;34m\u001b[0m\u001b[0m\n\u001b[1;32m    210\u001b[0m \u001b[0;34m\u001b[0m\u001b[0m\n",
      "\u001b[0;32m~/opt/anaconda3/lib/python3.8/site-packages/tensorflow/python/keras/engine/base_layer.py\u001b[0m in \u001b[0;36m__call__\u001b[0;34m(self, *args, **kwargs)\u001b[0m\n\u001b[1;32m    949\u001b[0m     \u001b[0;31m# >> model = tf.keras.Model(inputs, outputs)\u001b[0m\u001b[0;34m\u001b[0m\u001b[0;34m\u001b[0m\u001b[0;34m\u001b[0m\u001b[0m\n\u001b[1;32m    950\u001b[0m     \u001b[0;32mif\u001b[0m \u001b[0m_in_functional_construction_mode\u001b[0m\u001b[0;34m(\u001b[0m\u001b[0mself\u001b[0m\u001b[0;34m,\u001b[0m \u001b[0minputs\u001b[0m\u001b[0;34m,\u001b[0m \u001b[0margs\u001b[0m\u001b[0;34m,\u001b[0m \u001b[0mkwargs\u001b[0m\u001b[0;34m,\u001b[0m \u001b[0minput_list\u001b[0m\u001b[0;34m)\u001b[0m\u001b[0;34m:\u001b[0m\u001b[0;34m\u001b[0m\u001b[0;34m\u001b[0m\u001b[0m\n\u001b[0;32m--> 951\u001b[0;31m       return self._functional_construction_call(inputs, args, kwargs,\n\u001b[0m\u001b[1;32m    952\u001b[0m                                                 input_list)\n\u001b[1;32m    953\u001b[0m \u001b[0;34m\u001b[0m\u001b[0m\n",
      "\u001b[0;32m~/opt/anaconda3/lib/python3.8/site-packages/tensorflow/python/keras/engine/base_layer.py\u001b[0m in \u001b[0;36m_functional_construction_call\u001b[0;34m(self, inputs, args, kwargs, input_list)\u001b[0m\n\u001b[1;32m   1088\u001b[0m           layer=self, inputs=inputs, build_graph=True, training=training_value):\n\u001b[1;32m   1089\u001b[0m         \u001b[0;31m# Check input assumptions set after layer building, e.g. input shape.\u001b[0m\u001b[0;34m\u001b[0m\u001b[0;34m\u001b[0m\u001b[0;34m\u001b[0m\u001b[0m\n\u001b[0;32m-> 1090\u001b[0;31m         outputs = self._keras_tensor_symbolic_call(\n\u001b[0m\u001b[1;32m   1091\u001b[0m             inputs, input_masks, args, kwargs)\n\u001b[1;32m   1092\u001b[0m \u001b[0;34m\u001b[0m\u001b[0m\n",
      "\u001b[0;32m~/opt/anaconda3/lib/python3.8/site-packages/tensorflow/python/keras/engine/base_layer.py\u001b[0m in \u001b[0;36m_keras_tensor_symbolic_call\u001b[0;34m(self, inputs, input_masks, args, kwargs)\u001b[0m\n\u001b[1;32m    820\u001b[0m       \u001b[0;32mreturn\u001b[0m \u001b[0mnest\u001b[0m\u001b[0;34m.\u001b[0m\u001b[0mmap_structure\u001b[0m\u001b[0;34m(\u001b[0m\u001b[0mkeras_tensor\u001b[0m\u001b[0;34m.\u001b[0m\u001b[0mKerasTensor\u001b[0m\u001b[0;34m,\u001b[0m \u001b[0moutput_signature\u001b[0m\u001b[0;34m)\u001b[0m\u001b[0;34m\u001b[0m\u001b[0;34m\u001b[0m\u001b[0m\n\u001b[1;32m    821\u001b[0m     \u001b[0;32melse\u001b[0m\u001b[0;34m:\u001b[0m\u001b[0;34m\u001b[0m\u001b[0;34m\u001b[0m\u001b[0m\n\u001b[0;32m--> 822\u001b[0;31m       \u001b[0;32mreturn\u001b[0m \u001b[0mself\u001b[0m\u001b[0;34m.\u001b[0m\u001b[0m_infer_output_signature\u001b[0m\u001b[0;34m(\u001b[0m\u001b[0minputs\u001b[0m\u001b[0;34m,\u001b[0m \u001b[0margs\u001b[0m\u001b[0;34m,\u001b[0m \u001b[0mkwargs\u001b[0m\u001b[0;34m,\u001b[0m \u001b[0minput_masks\u001b[0m\u001b[0;34m)\u001b[0m\u001b[0;34m\u001b[0m\u001b[0;34m\u001b[0m\u001b[0m\n\u001b[0m\u001b[1;32m    823\u001b[0m \u001b[0;34m\u001b[0m\u001b[0m\n\u001b[1;32m    824\u001b[0m   \u001b[0;32mdef\u001b[0m \u001b[0m_infer_output_signature\u001b[0m\u001b[0;34m(\u001b[0m\u001b[0mself\u001b[0m\u001b[0;34m,\u001b[0m \u001b[0minputs\u001b[0m\u001b[0;34m,\u001b[0m \u001b[0margs\u001b[0m\u001b[0;34m,\u001b[0m \u001b[0mkwargs\u001b[0m\u001b[0;34m,\u001b[0m \u001b[0minput_masks\u001b[0m\u001b[0;34m)\u001b[0m\u001b[0;34m:\u001b[0m\u001b[0;34m\u001b[0m\u001b[0;34m\u001b[0m\u001b[0m\n",
      "\u001b[0;32m~/opt/anaconda3/lib/python3.8/site-packages/tensorflow/python/keras/engine/base_layer.py\u001b[0m in \u001b[0;36m_infer_output_signature\u001b[0;34m(self, inputs, args, kwargs, input_masks)\u001b[0m\n\u001b[1;32m    861\u001b[0m           \u001b[0;31m# TODO(kaftan): do we maybe_build here, or have we already done it?\u001b[0m\u001b[0;34m\u001b[0m\u001b[0;34m\u001b[0m\u001b[0;34m\u001b[0m\u001b[0m\n\u001b[1;32m    862\u001b[0m           \u001b[0mself\u001b[0m\u001b[0;34m.\u001b[0m\u001b[0m_maybe_build\u001b[0m\u001b[0;34m(\u001b[0m\u001b[0minputs\u001b[0m\u001b[0;34m)\u001b[0m\u001b[0;34m\u001b[0m\u001b[0;34m\u001b[0m\u001b[0m\n\u001b[0;32m--> 863\u001b[0;31m           \u001b[0moutputs\u001b[0m \u001b[0;34m=\u001b[0m \u001b[0mcall_fn\u001b[0m\u001b[0;34m(\u001b[0m\u001b[0minputs\u001b[0m\u001b[0;34m,\u001b[0m \u001b[0;34m*\u001b[0m\u001b[0margs\u001b[0m\u001b[0;34m,\u001b[0m \u001b[0;34m**\u001b[0m\u001b[0mkwargs\u001b[0m\u001b[0;34m)\u001b[0m\u001b[0;34m\u001b[0m\u001b[0;34m\u001b[0m\u001b[0m\n\u001b[0m\u001b[1;32m    864\u001b[0m \u001b[0;34m\u001b[0m\u001b[0m\n\u001b[1;32m    865\u001b[0m         \u001b[0mself\u001b[0m\u001b[0;34m.\u001b[0m\u001b[0m_handle_activity_regularization\u001b[0m\u001b[0;34m(\u001b[0m\u001b[0minputs\u001b[0m\u001b[0;34m,\u001b[0m \u001b[0moutputs\u001b[0m\u001b[0;34m)\u001b[0m\u001b[0;34m\u001b[0m\u001b[0;34m\u001b[0m\u001b[0m\n",
      "\u001b[0;32m~/opt/anaconda3/lib/python3.8/site-packages/tensorflow/python/keras/layers/convolutional.py\u001b[0m in \u001b[0;36mcall\u001b[0;34m(self, inputs)\u001b[0m\n\u001b[1;32m    246\u001b[0m       \u001b[0minputs\u001b[0m \u001b[0;34m=\u001b[0m \u001b[0marray_ops\u001b[0m\u001b[0;34m.\u001b[0m\u001b[0mpad\u001b[0m\u001b[0;34m(\u001b[0m\u001b[0minputs\u001b[0m\u001b[0;34m,\u001b[0m \u001b[0mself\u001b[0m\u001b[0;34m.\u001b[0m\u001b[0m_compute_causal_padding\u001b[0m\u001b[0;34m(\u001b[0m\u001b[0minputs\u001b[0m\u001b[0;34m)\u001b[0m\u001b[0;34m)\u001b[0m\u001b[0;34m\u001b[0m\u001b[0;34m\u001b[0m\u001b[0m\n\u001b[1;32m    247\u001b[0m \u001b[0;34m\u001b[0m\u001b[0m\n\u001b[0;32m--> 248\u001b[0;31m     \u001b[0moutputs\u001b[0m \u001b[0;34m=\u001b[0m \u001b[0mself\u001b[0m\u001b[0;34m.\u001b[0m\u001b[0m_convolution_op\u001b[0m\u001b[0;34m(\u001b[0m\u001b[0minputs\u001b[0m\u001b[0;34m,\u001b[0m \u001b[0mself\u001b[0m\u001b[0;34m.\u001b[0m\u001b[0mkernel\u001b[0m\u001b[0;34m)\u001b[0m\u001b[0;34m\u001b[0m\u001b[0;34m\u001b[0m\u001b[0m\n\u001b[0m\u001b[1;32m    249\u001b[0m \u001b[0;34m\u001b[0m\u001b[0m\n\u001b[1;32m    250\u001b[0m     \u001b[0;32mif\u001b[0m \u001b[0mself\u001b[0m\u001b[0;34m.\u001b[0m\u001b[0muse_bias\u001b[0m\u001b[0;34m:\u001b[0m\u001b[0;34m\u001b[0m\u001b[0;34m\u001b[0m\u001b[0m\n",
      "\u001b[0;32m~/opt/anaconda3/lib/python3.8/site-packages/tensorflow/python/util/dispatch.py\u001b[0m in \u001b[0;36mwrapper\u001b[0;34m(*args, **kwargs)\u001b[0m\n\u001b[1;32m    199\u001b[0m     \u001b[0;34m\"\"\"Call target, and fall back on dispatchers if there is a TypeError.\"\"\"\u001b[0m\u001b[0;34m\u001b[0m\u001b[0;34m\u001b[0m\u001b[0m\n\u001b[1;32m    200\u001b[0m     \u001b[0;32mtry\u001b[0m\u001b[0;34m:\u001b[0m\u001b[0;34m\u001b[0m\u001b[0;34m\u001b[0m\u001b[0m\n\u001b[0;32m--> 201\u001b[0;31m       \u001b[0;32mreturn\u001b[0m \u001b[0mtarget\u001b[0m\u001b[0;34m(\u001b[0m\u001b[0;34m*\u001b[0m\u001b[0margs\u001b[0m\u001b[0;34m,\u001b[0m \u001b[0;34m**\u001b[0m\u001b[0mkwargs\u001b[0m\u001b[0;34m)\u001b[0m\u001b[0;34m\u001b[0m\u001b[0;34m\u001b[0m\u001b[0m\n\u001b[0m\u001b[1;32m    202\u001b[0m     \u001b[0;32mexcept\u001b[0m \u001b[0;34m(\u001b[0m\u001b[0mTypeError\u001b[0m\u001b[0;34m,\u001b[0m \u001b[0mValueError\u001b[0m\u001b[0;34m)\u001b[0m\u001b[0;34m:\u001b[0m\u001b[0;34m\u001b[0m\u001b[0;34m\u001b[0m\u001b[0m\n\u001b[1;32m    203\u001b[0m       \u001b[0;31m# Note: convert_to_eager_tensor currently raises a ValueError, not a\u001b[0m\u001b[0;34m\u001b[0m\u001b[0;34m\u001b[0m\u001b[0;34m\u001b[0m\u001b[0m\n",
      "\u001b[0;32m~/opt/anaconda3/lib/python3.8/site-packages/tensorflow/python/ops/nn_ops.py\u001b[0m in \u001b[0;36mconvolution_v2\u001b[0;34m(input, filters, strides, padding, data_format, dilations, name)\u001b[0m\n\u001b[1;32m   1011\u001b[0m     \u001b[0mdilations\u001b[0m\u001b[0;34m=\u001b[0m\u001b[0;32mNone\u001b[0m\u001b[0;34m,\u001b[0m\u001b[0;34m\u001b[0m\u001b[0;34m\u001b[0m\u001b[0m\n\u001b[1;32m   1012\u001b[0m     name=None):\n\u001b[0;32m-> 1013\u001b[0;31m   return convolution_internal(\n\u001b[0m\u001b[1;32m   1014\u001b[0m       \u001b[0minput\u001b[0m\u001b[0;34m,\u001b[0m  \u001b[0;31m# pylint: disable=redefined-builtin\u001b[0m\u001b[0;34m\u001b[0m\u001b[0;34m\u001b[0m\u001b[0m\n\u001b[1;32m   1015\u001b[0m       \u001b[0mfilters\u001b[0m\u001b[0;34m,\u001b[0m\u001b[0;34m\u001b[0m\u001b[0;34m\u001b[0m\u001b[0m\n",
      "\u001b[0;32m~/opt/anaconda3/lib/python3.8/site-packages/tensorflow/python/ops/nn_ops.py\u001b[0m in \u001b[0;36mconvolution_internal\u001b[0;34m(input, filters, strides, padding, data_format, dilations, name, call_from_convolution, num_spatial_dims)\u001b[0m\n\u001b[1;32m   1141\u001b[0m         \u001b[0mop\u001b[0m \u001b[0;34m=\u001b[0m \u001b[0mconv1d\u001b[0m\u001b[0;34m\u001b[0m\u001b[0;34m\u001b[0m\u001b[0m\n\u001b[1;32m   1142\u001b[0m \u001b[0;34m\u001b[0m\u001b[0m\n\u001b[0;32m-> 1143\u001b[0;31m       return op(\n\u001b[0m\u001b[1;32m   1144\u001b[0m           \u001b[0minput\u001b[0m\u001b[0;34m,\u001b[0m\u001b[0;34m\u001b[0m\u001b[0;34m\u001b[0m\u001b[0m\n\u001b[1;32m   1145\u001b[0m           \u001b[0mfilters\u001b[0m\u001b[0;34m,\u001b[0m\u001b[0;34m\u001b[0m\u001b[0;34m\u001b[0m\u001b[0m\n",
      "\u001b[0;32m~/opt/anaconda3/lib/python3.8/site-packages/tensorflow/python/ops/nn_ops.py\u001b[0m in \u001b[0;36m_conv2d_expanded_batch\u001b[0;34m(input, filters, strides, padding, data_format, dilations, name)\u001b[0m\n\u001b[1;32m   2595\u001b[0m     \u001b[0;31m# We avoid calling squeeze_batch_dims to reduce extra python function\u001b[0m\u001b[0;34m\u001b[0m\u001b[0;34m\u001b[0m\u001b[0;34m\u001b[0m\u001b[0m\n\u001b[1;32m   2596\u001b[0m     \u001b[0;31m# call slowdown in eager mode.  This branch doesn't require reshapes.\u001b[0m\u001b[0;34m\u001b[0m\u001b[0;34m\u001b[0m\u001b[0;34m\u001b[0m\u001b[0m\n\u001b[0;32m-> 2597\u001b[0;31m     return gen_nn_ops.conv2d(\n\u001b[0m\u001b[1;32m   2598\u001b[0m         \u001b[0minput\u001b[0m\u001b[0;34m,\u001b[0m\u001b[0;34m\u001b[0m\u001b[0;34m\u001b[0m\u001b[0m\n\u001b[1;32m   2599\u001b[0m         \u001b[0mfilter\u001b[0m\u001b[0;34m=\u001b[0m\u001b[0mfilters\u001b[0m\u001b[0;34m,\u001b[0m\u001b[0;34m\u001b[0m\u001b[0;34m\u001b[0m\u001b[0m\n",
      "\u001b[0;32m~/opt/anaconda3/lib/python3.8/site-packages/tensorflow/python/ops/gen_nn_ops.py\u001b[0m in \u001b[0;36mconv2d\u001b[0;34m(input, filter, strides, padding, use_cudnn_on_gpu, explicit_paddings, data_format, dilations, name)\u001b[0m\n\u001b[1;32m    967\u001b[0m         \"'conv2d' Op, not %r.\" % dilations)\n\u001b[1;32m    968\u001b[0m   \u001b[0mdilations\u001b[0m \u001b[0;34m=\u001b[0m \u001b[0;34m[\u001b[0m\u001b[0m_execute\u001b[0m\u001b[0;34m.\u001b[0m\u001b[0mmake_int\u001b[0m\u001b[0;34m(\u001b[0m\u001b[0m_i\u001b[0m\u001b[0;34m,\u001b[0m \u001b[0;34m\"dilations\"\u001b[0m\u001b[0;34m)\u001b[0m \u001b[0;32mfor\u001b[0m \u001b[0m_i\u001b[0m \u001b[0;32min\u001b[0m \u001b[0mdilations\u001b[0m\u001b[0;34m]\u001b[0m\u001b[0;34m\u001b[0m\u001b[0;34m\u001b[0m\u001b[0m\n\u001b[0;32m--> 969\u001b[0;31m   _, _, _op, _outputs = _op_def_library._apply_op_helper(\n\u001b[0m\u001b[1;32m    970\u001b[0m         \u001b[0;34m\"Conv2D\"\u001b[0m\u001b[0;34m,\u001b[0m \u001b[0minput\u001b[0m\u001b[0;34m=\u001b[0m\u001b[0minput\u001b[0m\u001b[0;34m,\u001b[0m \u001b[0mfilter\u001b[0m\u001b[0;34m=\u001b[0m\u001b[0mfilter\u001b[0m\u001b[0;34m,\u001b[0m \u001b[0mstrides\u001b[0m\u001b[0;34m=\u001b[0m\u001b[0mstrides\u001b[0m\u001b[0;34m,\u001b[0m\u001b[0;34m\u001b[0m\u001b[0;34m\u001b[0m\u001b[0m\n\u001b[1;32m    971\u001b[0m                   \u001b[0mpadding\u001b[0m\u001b[0;34m=\u001b[0m\u001b[0mpadding\u001b[0m\u001b[0;34m,\u001b[0m \u001b[0muse_cudnn_on_gpu\u001b[0m\u001b[0;34m=\u001b[0m\u001b[0muse_cudnn_on_gpu\u001b[0m\u001b[0;34m,\u001b[0m\u001b[0;34m\u001b[0m\u001b[0;34m\u001b[0m\u001b[0m\n",
      "\u001b[0;32m~/opt/anaconda3/lib/python3.8/site-packages/tensorflow/python/framework/op_def_library.py\u001b[0m in \u001b[0;36m_apply_op_helper\u001b[0;34m(op_type_name, name, **keywords)\u001b[0m\n\u001b[1;32m    746\u001b[0m       \u001b[0;31m# Add Op to graph\u001b[0m\u001b[0;34m\u001b[0m\u001b[0;34m\u001b[0m\u001b[0;34m\u001b[0m\u001b[0m\n\u001b[1;32m    747\u001b[0m       \u001b[0;31m# pylint: disable=protected-access\u001b[0m\u001b[0;34m\u001b[0m\u001b[0;34m\u001b[0m\u001b[0;34m\u001b[0m\u001b[0m\n\u001b[0;32m--> 748\u001b[0;31m       op = g._create_op_internal(op_type_name, inputs, dtypes=None,\n\u001b[0m\u001b[1;32m    749\u001b[0m                                  \u001b[0mname\u001b[0m\u001b[0;34m=\u001b[0m\u001b[0mscope\u001b[0m\u001b[0;34m,\u001b[0m \u001b[0minput_types\u001b[0m\u001b[0;34m=\u001b[0m\u001b[0minput_types\u001b[0m\u001b[0;34m,\u001b[0m\u001b[0;34m\u001b[0m\u001b[0;34m\u001b[0m\u001b[0m\n\u001b[1;32m    750\u001b[0m                                  attrs=attr_protos, op_def=op_def)\n",
      "\u001b[0;32m~/opt/anaconda3/lib/python3.8/site-packages/tensorflow/python/framework/func_graph.py\u001b[0m in \u001b[0;36m_create_op_internal\u001b[0;34m(self, op_type, inputs, dtypes, input_types, name, attrs, op_def, compute_device)\u001b[0m\n\u001b[1;32m    588\u001b[0m       \u001b[0minp\u001b[0m \u001b[0;34m=\u001b[0m \u001b[0mself\u001b[0m\u001b[0;34m.\u001b[0m\u001b[0mcapture\u001b[0m\u001b[0;34m(\u001b[0m\u001b[0minp\u001b[0m\u001b[0;34m)\u001b[0m\u001b[0;34m\u001b[0m\u001b[0;34m\u001b[0m\u001b[0m\n\u001b[1;32m    589\u001b[0m       \u001b[0mcaptured_inputs\u001b[0m\u001b[0;34m.\u001b[0m\u001b[0mappend\u001b[0m\u001b[0;34m(\u001b[0m\u001b[0minp\u001b[0m\u001b[0;34m)\u001b[0m\u001b[0;34m\u001b[0m\u001b[0;34m\u001b[0m\u001b[0m\n\u001b[0;32m--> 590\u001b[0;31m     return super(FuncGraph, self)._create_op_internal(  # pylint: disable=protected-access\n\u001b[0m\u001b[1;32m    591\u001b[0m         \u001b[0mop_type\u001b[0m\u001b[0;34m,\u001b[0m \u001b[0mcaptured_inputs\u001b[0m\u001b[0;34m,\u001b[0m \u001b[0mdtypes\u001b[0m\u001b[0;34m,\u001b[0m \u001b[0minput_types\u001b[0m\u001b[0;34m,\u001b[0m \u001b[0mname\u001b[0m\u001b[0;34m,\u001b[0m \u001b[0mattrs\u001b[0m\u001b[0;34m,\u001b[0m \u001b[0mop_def\u001b[0m\u001b[0;34m,\u001b[0m\u001b[0;34m\u001b[0m\u001b[0;34m\u001b[0m\u001b[0m\n\u001b[1;32m    592\u001b[0m         compute_device)\n",
      "\u001b[0;32m~/opt/anaconda3/lib/python3.8/site-packages/tensorflow/python/framework/ops.py\u001b[0m in \u001b[0;36m_create_op_internal\u001b[0;34m(self, op_type, inputs, dtypes, input_types, name, attrs, op_def, compute_device)\u001b[0m\n\u001b[1;32m   3526\u001b[0m     \u001b[0;31m# Session.run call cannot occur between creating and mutating the op.\u001b[0m\u001b[0;34m\u001b[0m\u001b[0;34m\u001b[0m\u001b[0;34m\u001b[0m\u001b[0m\n\u001b[1;32m   3527\u001b[0m     \u001b[0;32mwith\u001b[0m \u001b[0mself\u001b[0m\u001b[0;34m.\u001b[0m\u001b[0m_mutation_lock\u001b[0m\u001b[0;34m(\u001b[0m\u001b[0;34m)\u001b[0m\u001b[0;34m:\u001b[0m\u001b[0;34m\u001b[0m\u001b[0;34m\u001b[0m\u001b[0m\n\u001b[0;32m-> 3528\u001b[0;31m       ret = Operation(\n\u001b[0m\u001b[1;32m   3529\u001b[0m           \u001b[0mnode_def\u001b[0m\u001b[0;34m,\u001b[0m\u001b[0;34m\u001b[0m\u001b[0;34m\u001b[0m\u001b[0m\n\u001b[1;32m   3530\u001b[0m           \u001b[0mself\u001b[0m\u001b[0;34m,\u001b[0m\u001b[0;34m\u001b[0m\u001b[0;34m\u001b[0m\u001b[0m\n",
      "\u001b[0;32m~/opt/anaconda3/lib/python3.8/site-packages/tensorflow/python/framework/ops.py\u001b[0m in \u001b[0;36m__init__\u001b[0;34m(self, node_def, g, inputs, output_types, control_inputs, input_types, original_op, op_def)\u001b[0m\n\u001b[1;32m   2013\u001b[0m       \u001b[0;32mif\u001b[0m \u001b[0mop_def\u001b[0m \u001b[0;32mis\u001b[0m \u001b[0;32mNone\u001b[0m\u001b[0;34m:\u001b[0m\u001b[0;34m\u001b[0m\u001b[0;34m\u001b[0m\u001b[0m\n\u001b[1;32m   2014\u001b[0m         \u001b[0mop_def\u001b[0m \u001b[0;34m=\u001b[0m \u001b[0mself\u001b[0m\u001b[0;34m.\u001b[0m\u001b[0m_graph\u001b[0m\u001b[0;34m.\u001b[0m\u001b[0m_get_op_def\u001b[0m\u001b[0;34m(\u001b[0m\u001b[0mnode_def\u001b[0m\u001b[0;34m.\u001b[0m\u001b[0mop\u001b[0m\u001b[0;34m)\u001b[0m\u001b[0;34m\u001b[0m\u001b[0;34m\u001b[0m\u001b[0m\n\u001b[0;32m-> 2015\u001b[0;31m       self._c_op = _create_c_op(self._graph, node_def, inputs,\n\u001b[0m\u001b[1;32m   2016\u001b[0m                                 control_input_ops, op_def)\n\u001b[1;32m   2017\u001b[0m       \u001b[0mname\u001b[0m \u001b[0;34m=\u001b[0m \u001b[0mcompat\u001b[0m\u001b[0;34m.\u001b[0m\u001b[0mas_str\u001b[0m\u001b[0;34m(\u001b[0m\u001b[0mnode_def\u001b[0m\u001b[0;34m.\u001b[0m\u001b[0mname\u001b[0m\u001b[0;34m)\u001b[0m\u001b[0;34m\u001b[0m\u001b[0;34m\u001b[0m\u001b[0m\n",
      "\u001b[0;32m~/opt/anaconda3/lib/python3.8/site-packages/tensorflow/python/framework/ops.py\u001b[0m in \u001b[0;36m_create_c_op\u001b[0;34m(graph, node_def, inputs, control_inputs, op_def)\u001b[0m\n\u001b[1;32m   1854\u001b[0m   \u001b[0;32mexcept\u001b[0m \u001b[0merrors\u001b[0m\u001b[0;34m.\u001b[0m\u001b[0mInvalidArgumentError\u001b[0m \u001b[0;32mas\u001b[0m \u001b[0me\u001b[0m\u001b[0;34m:\u001b[0m\u001b[0;34m\u001b[0m\u001b[0;34m\u001b[0m\u001b[0m\n\u001b[1;32m   1855\u001b[0m     \u001b[0;31m# Convert to ValueError for backwards compatibility.\u001b[0m\u001b[0;34m\u001b[0m\u001b[0;34m\u001b[0m\u001b[0;34m\u001b[0m\u001b[0m\n\u001b[0;32m-> 1856\u001b[0;31m     \u001b[0;32mraise\u001b[0m \u001b[0mValueError\u001b[0m\u001b[0;34m(\u001b[0m\u001b[0mstr\u001b[0m\u001b[0;34m(\u001b[0m\u001b[0me\u001b[0m\u001b[0;34m)\u001b[0m\u001b[0;34m)\u001b[0m\u001b[0;34m\u001b[0m\u001b[0;34m\u001b[0m\u001b[0m\n\u001b[0m\u001b[1;32m   1857\u001b[0m \u001b[0;34m\u001b[0m\u001b[0m\n\u001b[1;32m   1858\u001b[0m   \u001b[0;32mreturn\u001b[0m \u001b[0mc_op\u001b[0m\u001b[0;34m\u001b[0m\u001b[0;34m\u001b[0m\u001b[0m\n",
      "\u001b[0;31mValueError\u001b[0m: Negative dimension size caused by subtracting 5 from 1 for '{{node conv2d_452/Conv2D}} = Conv2D[T=DT_FLOAT, data_format=\"NCHW\", dilations=[1, 1, 1, 1], explicit_paddings=[], padding=\"VALID\", strides=[1, 1, 1, 1], use_cudnn_on_gpu=true](Placeholder, conv2d_452/Conv2D/ReadVariableOp)' with input shapes: [?,16,8,1], [5,5,16,8]."
     ]
    }
   ],
   "source": [
    "for i in range(6):\n",
    "    model[i] = Sequential()\n",
    "    model[i].add(Conv2D(i*8+8,kernel_size=5,activation='relu',input_shape=input_shape))\n",
    "    model[i].add(MaxPool2D(padding='same'))\n",
    "    model[i].add(Conv2D(i*16+16,kernel_size=5,activation='relu', padding='same'))\n",
    "    model[i].add(MaxPool2D(padding='same'))\n",
    "    model[i].add(Conv2D(i*32+32,kernel_size=5,activation='relu', padding='same'))\n",
    "    model[i].add(MaxPool2D(padding='same'))\n",
    "    model[i].add(Flatten())\n",
    "    model[i].add(Dense(256, activation='relu'))\n",
    "    model[i].add(Dense(10, activation='softmax'))\n",
    "    model[i].compile(optimizer=\"adam\", loss=\"categorical_crossentropy\", metrics=[\"accuracy\"])\n",
    "    model[i].summary()"
   ]
  },
  {
   "cell_type": "code",
   "execution_count": 691,
   "metadata": {},
   "outputs": [],
   "source": [
    "history = [0] * nets\n",
    "names = [\"8 Maps\", \"16 Maps\", \"24 Maps\", \"32 Maps\", \"48 Maps\", \"64 Maps\"]"
   ]
  },
  {
   "cell_type": "code",
   "execution_count": 692,
   "metadata": {
    "scrolled": true
   },
   "outputs": [
    {
     "name": "stdout",
     "output_type": "stream",
     "text": [
      "CNN 8 Maps: Epochs=50, Train accuracy=0.95252, Validation accuracy=0.73774\n",
      "CNN 16 Maps: Epochs=50, Train accuracy=0.98651, Validation accuracy=0.79580\n",
      "CNN 24 Maps: Epochs=50, Train accuracy=0.99200, Validation accuracy=0.80080\n",
      "CNN 32 Maps: Epochs=50, Train accuracy=0.99300, Validation accuracy=0.81281\n",
      "CNN 48 Maps: Epochs=50, Train accuracy=0.98601, Validation accuracy=0.80581\n",
      "CNN 64 Maps: Epochs=50, Train accuracy=0.99250, Validation accuracy=0.79580\n"
     ]
    }
   ],
   "source": [
    "for i in range(nets):\n",
    "    history[i] = model[i].fit(X_train, y_train,\n",
    "                              batch_size=batch_size, \n",
    "                              epochs = epochs, \n",
    "        validation_data = (X_val,y_val), \n",
    "                              verbose=0)\n",
    "    print(\"CNN {0}: Epochs={1:d}, Train accuracy={2:.5f}, Validation accuracy={3:.5f}\".format(\n",
    "        names[i],\n",
    "        epochs,\n",
    "        max(history[i].history['accuracy']),\n",
    "        max(history[i].history['val_accuracy']) \n",
    "    ))"
   ]
  },
  {
   "cell_type": "markdown",
   "metadata": {},
   "source": [
    "It appeas that 8 Maps in the first convolutional layer and 24 maps in the second convolutional layer are the best combinations. Higher map values perform worse and are more computationally expensive, so logically we keep the values small."
   ]
  },
  {
   "cell_type": "markdown",
   "metadata": {},
   "source": [
    "### 3. Determine Dropout"
   ]
  },
  {
   "cell_type": "code",
   "execution_count": 711,
   "metadata": {},
   "outputs": [],
   "source": [
    "nets = 8\n",
    "model = [0]*nets"
   ]
  },
  {
   "cell_type": "code",
   "execution_count": 714,
   "metadata": {},
   "outputs": [],
   "source": [
    "for i in range(8):\n",
    "    model[i] = Sequential()\n",
    "    model[i].add(Conv2D(48, \n",
    "                       kernel_size=5,\n",
    "                       activation='relu',\n",
    "                       input_shape=input_shape,\n",
    "                       ))\n",
    "    model[i].add(MaxPool2D(padding='same'))\n",
    "    model[i].add(Conv2D(48, \n",
    "                       kernel_size=5,\n",
    "                       activation='relu',\n",
    "                       padding='same'\n",
    "                       ))\n",
    "    model[i].add(MaxPool2D(padding='same'))\n",
    "    model[i].add(Conv2D(64, \n",
    "                       kernel_size=5,\n",
    "                       activation='relu',\n",
    "                       padding='same'\n",
    "                       ))\n",
    "    model[i].add(MaxPool2D(padding='same'))\n",
    "    model[i].add(Dropout(i*0.1))\n",
    "    model[i].add(Flatten())\n",
    "    model[i].add(Dense(1024, activation='relu'))\n",
    "    model[i].add(Dropout(i*0.1))\n",
    "    model[i].add(Dense(10, activation='softmax'))\n",
    "    model[i].compile(optimizer='adam',\n",
    "                    loss='categorical_crossentropy',\n",
    "                    metrics=['accuracy'])"
   ]
  },
  {
   "cell_type": "code",
   "execution_count": 715,
   "metadata": {},
   "outputs": [],
   "source": [
    "history = [0] * nets\n",
    "names = [\"D=0\",\"D=0.1\",\"D=0.2\",\"D=0.3\",\"D=0.4\",\"D=0.5\",\"D=0.6\",\"D=0.7\"]\n",
    "epochs = 30"
   ]
  },
  {
   "cell_type": "code",
   "execution_count": 717,
   "metadata": {
    "scrolled": false
   },
   "outputs": [
    {
     "name": "stdout",
     "output_type": "stream",
     "text": [
      "CNN D=0: Epochs=30, Train accuracy=0.82259, Validation accuracy=0.70771\n",
      "CNN D=0.1: Epochs=30, Train accuracy=0.80660, Validation accuracy=0.70571\n",
      "CNN D=0.2: Epochs=30, Train accuracy=0.78811, Validation accuracy=0.68969\n",
      "CNN D=0.3: Epochs=30, Train accuracy=0.77461, Validation accuracy=0.68669\n",
      "CNN D=0.4: Epochs=30, Train accuracy=0.76312, Validation accuracy=0.67868\n",
      "CNN D=0.5: Epochs=30, Train accuracy=0.71014, Validation accuracy=0.66667\n",
      "CNN D=0.6: Epochs=30, Train accuracy=0.65817, Validation accuracy=0.66567\n",
      "CNN D=0.7: Epochs=30, Train accuracy=0.63468, Validation accuracy=0.62963\n"
     ]
    }
   ],
   "source": [
    "for i in range(nets):\n",
    "    history[i] = model[i].fit(X_train, y_train,\n",
    "                             batch_size=80,\n",
    "                             epochs=epochs,\n",
    "                             validation_data=(X_val, y_val),\n",
    "                             verbose=0)\n",
    "    y_preds[i] = model[i].predict(X_test)\n",
    "    print(\"CNN {0}: Epochs={1:d}, Train accuracy={2:.5f}, Validation accuracy={3:.5f}\".format(\n",
    "        names[i],\n",
    "        epochs,\n",
    "        max(history[i].history['accuracy']),\n",
    "        max(history[i].history['val_accuracy']) \n",
    "    ))\n",
    "    print"
   ]
  },
  {
   "cell_type": "code",
   "execution_count": null,
   "metadata": {},
   "outputs": [],
   "source": [
    "# build the model\n",
    "\n",
    "model1 = Sequential()\n",
    "model1.add(Conv2D(300, (3,3), padding = 'same', activation = 'relu', input_shape=input_dim))\n",
    "model1.add(MaxPooling2D(pool_size=(2,2), padding='same'))\n",
    "\n",
    "model1.add(Conv2D(300, (3,3), padding = 'same', activation = 'relu', kernel_regularizer =regularizers.l2( l=0.01)))\n",
    "model1.add(MaxPooling2D(pool_size=(2,2), padding = 'same'))\n",
    "\n",
    "model1.add(Dropout(0.1))\n",
    "\n",
    "model1.add(Flatten())\n",
    "model1.add(Dense(300, activation = 'relu'))\n",
    "model1.add(Dense(10, activation = 'softmax')) # softmax: outputss a probability distribution over the 10 classes\n",
    "                                                  # for every input sample, the model will output a 10-dimensional vector,\n",
    "                                                  # where output[i] is the probability it belongs to a certain class i. \n",
    "                                                  # the 10 scores will sum to 1 \n",
    " \n",
    "\n",
    "\n",
    " # compile the model\n",
    "model1.compile(loss='categorical_crossentropy', # categorical crossentropy: measures the distance between the two \n",
    "                   optimizer='rmsprop',             # probability distributions - output of network and true labels\n",
    "                   metrics=['accuracy'])\n",
    "    \n",
    "    \n",
    "\n",
    "    \n",
    "# fit the model\n",
    "history1 = model1.fit(X_train,\n",
    "                          y_train, \n",
    "                          epochs=50,\n",
    "                          batch_size= 50,\n",
    "                         validation_data = (X_test, y_test))\n",
    "\n",
    "scores = model1.evaluate(X_test, y_test, verbose=0)\n",
    "print(f'Model Name: {model1.metrics_names[0]}, Model Score: {scores[1]*100}')"
   ]
  },
  {
   "cell_type": "code",
   "execution_count": null,
   "metadata": {},
   "outputs": [],
   "source": []
  },
  {
   "cell_type": "code",
   "execution_count": null,
   "metadata": {},
   "outputs": [],
   "source": []
  },
  {
   "cell_type": "markdown",
   "metadata": {},
   "source": [
    "### Random Model Architecture\n",
    "- 3 convolutional blocks\n",
    "- 3 maxpooling layers"
   ]
  },
  {
   "cell_type": "code",
   "execution_count": 441,
   "metadata": {},
   "outputs": [],
   "source": [
    "# build model\n",
    "model2 = Sequential()\n",
    "model2.add(Conv2D(64, kernel_size=3, padding = 'same', activation = 'relu', input_shape=input_dim))\n",
    "model2.add(Conv2D(64, kernel_size=3, padding = 'same', activation = 'relu'))\n",
    "model2.add(MaxPooling2D(pool_size=2, strides=2, padding='same'))\n",
    "\n",
    "model2.add(Conv2D(128, kernel_size=3, padding = 'same', activation = 'relu'))\n",
    "model2.add(Conv2D(128, kernel_size=3, padding = 'same', activation = 'relu'))\n",
    "model2.add(MaxPooling2D(pool_size=2,strides=2, padding='same'))\n",
    "\n",
    "model2.add(Conv2D(256, kernel_size=3, padding = 'same', activation = 'relu'))\n",
    "model2.add(Conv2D(256, kernel_size=3, padding = 'same', activation = 'relu'))\n",
    "model2.add(Conv2D(256, kernel_size=3, padding = 'same', activation = 'relu'))\n",
    "model2.add(MaxPooling2D(pool_size=2,strides=2, padding='same'))\n",
    "\n",
    "model2.add(Flatten())\n",
    "model2.add(Dense(512, activation = 'relu'))\n",
    "model2.add(Dense(512, activation = 'relu'))\n",
    "model2.add(Dense(10, activation = 'softmax'))"
   ]
  },
  {
   "cell_type": "code",
   "execution_count": 442,
   "metadata": {
    "scrolled": true
   },
   "outputs": [
    {
     "name": "stdout",
     "output_type": "stream",
     "text": [
      "Model: \"sequential_173\"\n",
      "_________________________________________________________________\n",
      "Layer (type)                 Output Shape              Param #   \n",
      "=================================================================\n",
      "conv2d_346 (Conv2D)          (None, 16, 8, 64)         640       \n",
      "_________________________________________________________________\n",
      "conv2d_347 (Conv2D)          (None, 16, 8, 64)         36928     \n",
      "_________________________________________________________________\n",
      "max_pooling2d_294 (MaxPoolin (None, 8, 4, 64)          0         \n",
      "_________________________________________________________________\n",
      "conv2d_348 (Conv2D)          (None, 8, 4, 128)         73856     \n",
      "_________________________________________________________________\n",
      "conv2d_349 (Conv2D)          (None, 8, 4, 128)         147584    \n",
      "_________________________________________________________________\n",
      "max_pooling2d_295 (MaxPoolin (None, 4, 2, 128)         0         \n",
      "_________________________________________________________________\n",
      "conv2d_350 (Conv2D)          (None, 4, 2, 256)         295168    \n",
      "_________________________________________________________________\n",
      "conv2d_351 (Conv2D)          (None, 4, 2, 256)         590080    \n",
      "_________________________________________________________________\n",
      "conv2d_352 (Conv2D)          (None, 4, 2, 256)         590080    \n",
      "_________________________________________________________________\n",
      "max_pooling2d_296 (MaxPoolin (None, 2, 1, 256)         0         \n",
      "_________________________________________________________________\n",
      "flatten_155 (Flatten)        (None, 512)               0         \n",
      "_________________________________________________________________\n",
      "dense_316 (Dense)            (None, 512)               262656    \n",
      "_________________________________________________________________\n",
      "dense_317 (Dense)            (None, 512)               262656    \n",
      "_________________________________________________________________\n",
      "dense_318 (Dense)            (None, 10)                5130      \n",
      "=================================================================\n",
      "Total params: 2,264,778\n",
      "Trainable params: 2,264,778\n",
      "Non-trainable params: 0\n",
      "_________________________________________________________________\n"
     ]
    }
   ],
   "source": [
    "model2.summary()"
   ]
  },
  {
   "cell_type": "code",
   "execution_count": 443,
   "metadata": {},
   "outputs": [],
   "source": [
    "model2.compile(optimizer='adam',\n",
    "              loss='categorical_crossentropy',\n",
    "              metrics=['accuracy'])"
   ]
  },
  {
   "cell_type": "code",
   "execution_count": 444,
   "metadata": {},
   "outputs": [
    {
     "data": {
      "text/plain": [
       "<tensorflow.python.keras.callbacks.History at 0x7fd8f37ed250>"
      ]
     },
     "execution_count": 444,
     "metadata": {},
     "output_type": "execute_result"
    }
   ],
   "source": [
    "model2.fit(X_train, y_train,\n",
    "          batch_size=31,\n",
    "          epochs=25,\n",
    "          validation_data=(X_val, y_val),\n",
    "          verbose=0)"
   ]
  },
  {
   "cell_type": "code",
   "execution_count": 451,
   "metadata": {},
   "outputs": [
    {
     "name": "stdout",
     "output_type": "stream",
     "text": [
      "Val Accuracy: 0.8005337119102478\n",
      "Train Accuracy: 0.9629999995231628\n"
     ]
    }
   ],
   "source": [
    "score, acc = model2.evaluate(X_val, y_val, verbose=0)\n",
    "score_train, acc_train = model2.evaluate(X_train, y_train, verbose=0)\n",
    "print(f'Val Accuracy: {acc}')\n",
    "print(f'Train Accuracy: {acc_train}')"
   ]
  },
  {
   "cell_type": "code",
   "execution_count": 449,
   "metadata": {
    "scrolled": true
   },
   "outputs": [
    {
     "name": "stdout",
     "output_type": "stream",
     "text": [
      "\n",
      "Confusion Matrix :\n",
      "\n",
      "\n",
      "[[154   2  24   5  61  70  28  11  17 128]\n",
      " [  2 134  12  10  17   2   5   2   3  34]\n",
      " [ 22  11 168  45  54  35   6   6  39 114]\n",
      " [ 14   7  31 339  28   8   2   2  29  40]\n",
      " [ 22  14  70  24 190  10  14  77   5  74]\n",
      " [ 94  11  77   0   5 155   0  22  12 107]\n",
      " [  9   0  13   2  12   3 119   4   8  14]\n",
      " [ 25   9  33   0 189   5  33 107   0  51]\n",
      " [  9   8  36  38  11  12   2   0 259  18]\n",
      " [ 20  12  37  24  52   8   2  23   8 314]]\n",
      "\n",
      "\n",
      "Classification Report : \n",
      "\n",
      "               precision    recall  f1-score   support\n",
      "\n",
      "           0       0.42      0.31      0.35       500\n",
      "           1       0.64      0.61      0.62       221\n",
      "           2       0.34      0.34      0.34       500\n",
      "           3       0.70      0.68      0.69       500\n",
      "           4       0.31      0.38      0.34       500\n",
      "           5       0.50      0.32      0.39       483\n",
      "           6       0.56      0.65      0.60       184\n",
      "           7       0.42      0.24      0.30       452\n",
      "           8       0.68      0.66      0.67       393\n",
      "           9       0.35      0.63      0.45       500\n",
      "\n",
      "    accuracy                           0.46      4233\n",
      "   macro avg       0.49      0.48      0.48      4233\n",
      "weighted avg       0.47      0.46      0.45      4233\n",
      "\n"
     ]
    }
   ],
   "source": [
    "ytrue2 = np.argmax(y_test,axis=1)\n",
    "ypred2 = np.argmax(model2.predict(X_test),axis=1)\n",
    "print('\\nConfusion Matrix :\\n\\n')\n",
    "print(confusion_matrix(ytrue2,ypred2))\n",
    "print('\\n\\nClassification Report : \\n\\n',classification_report(ytrue2,ypred2))"
   ]
  },
  {
   "cell_type": "code",
   "execution_count": null,
   "metadata": {},
   "outputs": [],
   "source": []
  }
 ],
 "metadata": {
  "kernelspec": {
   "display_name": "Python 3",
   "language": "python",
   "name": "python3"
  },
  "language_info": {
   "codemirror_mode": {
    "name": "ipython",
    "version": 3
   },
   "file_extension": ".py",
   "mimetype": "text/x-python",
   "name": "python",
   "nbconvert_exporter": "python",
   "pygments_lexer": "ipython3",
   "version": "3.8.8"
  }
 },
 "nbformat": 4,
 "nbformat_minor": 2
}
